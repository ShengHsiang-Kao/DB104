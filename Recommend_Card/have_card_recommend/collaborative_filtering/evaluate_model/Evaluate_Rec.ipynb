{
 "cells": [
  {
   "cell_type": "code",
   "execution_count": 119,
   "metadata": {},
   "outputs": [],
   "source": [
    "import numpy as np\n",
    "import random\n",
    "import pandas as pd\n",
    "from sklearn.metrics.pairwise import cosine_similarity\n",
    "import pymongo\n",
    "import json\n",
    "from sklearn.metrics import mean_squared_error\n",
    "from random import sample\n",
    "import time\n"
   ]
  },
  {
   "cell_type": "code",
   "execution_count": 2,
   "metadata": {},
   "outputs": [],
   "source": [
    "#從xlsx匯入資料\n",
    "rec_data= pd.read_excel(r'./melt_data.xlsx',encoding='utf-16',index_col=0)"
   ]
  },
  {
   "cell_type": "code",
   "execution_count": 3,
   "metadata": {},
   "outputs": [],
   "source": [
    "#sample train test data\n",
    "\n",
    "train_idx=sample(rec_data.index.to_list(),int(len(rec_data)*0.7))\n",
    "train_data=rec_data.loc[train_idx]\n",
    "test_tmp=rec_data.index.isin(train_idx)\n",
    "test_data=rec_data[~test_tmp]"
   ]
  },
  {
   "cell_type": "code",
   "execution_count": 4,
   "metadata": {},
   "outputs": [
    {
     "data": {
      "text/html": [
       "<div>\n",
       "<style scoped>\n",
       "    .dataframe tbody tr th:only-of-type {\n",
       "        vertical-align: middle;\n",
       "    }\n",
       "\n",
       "    .dataframe tbody tr th {\n",
       "        vertical-align: top;\n",
       "    }\n",
       "\n",
       "    .dataframe thead th {\n",
       "        text-align: right;\n",
       "    }\n",
       "</style>\n",
       "<table border=\"1\" class=\"dataframe\">\n",
       "  <thead>\n",
       "    <tr style=\"text-align: right;\">\n",
       "      <th></th>\n",
       "      <th>user</th>\n",
       "      <th>variable</th>\n",
       "      <th>value</th>\n",
       "    </tr>\n",
       "  </thead>\n",
       "  <tbody>\n",
       "    <tr>\n",
       "      <th>311494</th>\n",
       "      <td>1561</td>\n",
       "      <td>美國運通-簽帳金卡</td>\n",
       "      <td>0</td>\n",
       "    </tr>\n",
       "    <tr>\n",
       "      <th>407164</th>\n",
       "      <td>1867</td>\n",
       "      <td>新光銀行-Lamigo信用卡</td>\n",
       "      <td>0</td>\n",
       "    </tr>\n",
       "    <tr>\n",
       "      <th>445558</th>\n",
       "      <td>526</td>\n",
       "      <td>臺灣企銀-鈦金商旅卡</td>\n",
       "      <td>0</td>\n",
       "    </tr>\n",
       "    <tr>\n",
       "      <th>378471</th>\n",
       "      <td>2313</td>\n",
       "      <td>渣打銀行-TheShoppingCard分期卡</td>\n",
       "      <td>0</td>\n",
       "    </tr>\n",
       "    <tr>\n",
       "      <th>223744</th>\n",
       "      <td>1228</td>\n",
       "      <td>玉山銀行-麗寶悠遊聯名卡</td>\n",
       "      <td>0</td>\n",
       "    </tr>\n",
       "  </tbody>\n",
       "</table>\n",
       "</div>"
      ],
      "text/plain": [
       "        user                 variable  value\n",
       "311494  1561                美國運通-簽帳金卡      0\n",
       "407164  1867           新光銀行-Lamigo信用卡      0\n",
       "445558   526               臺灣企銀-鈦金商旅卡      0\n",
       "378471  2313  渣打銀行-TheShoppingCard分期卡      0\n",
       "223744  1228             玉山銀行-麗寶悠遊聯名卡      0"
      ]
     },
     "execution_count": 4,
     "metadata": {},
     "output_type": "execute_result"
    }
   ],
   "source": [
    "train_data.head()"
   ]
  },
  {
   "cell_type": "code",
   "execution_count": 11,
   "metadata": {},
   "outputs": [
    {
     "data": {
      "text/html": [
       "<div>\n",
       "<style scoped>\n",
       "    .dataframe tbody tr th:only-of-type {\n",
       "        vertical-align: middle;\n",
       "    }\n",
       "\n",
       "    .dataframe tbody tr th {\n",
       "        vertical-align: top;\n",
       "    }\n",
       "\n",
       "    .dataframe thead th {\n",
       "        text-align: right;\n",
       "    }\n",
       "</style>\n",
       "<table border=\"1\" class=\"dataframe\">\n",
       "  <thead>\n",
       "    <tr style=\"text-align: right;\">\n",
       "      <th></th>\n",
       "      <th>user</th>\n",
       "      <th>variable</th>\n",
       "      <th>value</th>\n",
       "    </tr>\n",
       "  </thead>\n",
       "  <tbody>\n",
       "    <tr>\n",
       "      <th>0</th>\n",
       "      <td>0</td>\n",
       "      <td>三信銀行-VISA白金卡</td>\n",
       "      <td>0</td>\n",
       "    </tr>\n",
       "    <tr>\n",
       "      <th>2</th>\n",
       "      <td>2</td>\n",
       "      <td>三信銀行-VISA白金卡</td>\n",
       "      <td>0</td>\n",
       "    </tr>\n",
       "    <tr>\n",
       "      <th>4</th>\n",
       "      <td>4</td>\n",
       "      <td>三信銀行-VISA白金卡</td>\n",
       "      <td>0</td>\n",
       "    </tr>\n",
       "    <tr>\n",
       "      <th>5</th>\n",
       "      <td>5</td>\n",
       "      <td>三信銀行-VISA白金卡</td>\n",
       "      <td>0</td>\n",
       "    </tr>\n",
       "    <tr>\n",
       "      <th>6</th>\n",
       "      <td>6</td>\n",
       "      <td>三信銀行-VISA白金卡</td>\n",
       "      <td>0</td>\n",
       "    </tr>\n",
       "  </tbody>\n",
       "</table>\n",
       "</div>"
      ],
      "text/plain": [
       "   user      variable  value\n",
       "0     0  三信銀行-VISA白金卡      0\n",
       "2     2  三信銀行-VISA白金卡      0\n",
       "4     4  三信銀行-VISA白金卡      0\n",
       "5     5  三信銀行-VISA白金卡      0\n",
       "6     6  三信銀行-VISA白金卡      0"
      ]
     },
     "execution_count": 11,
     "metadata": {},
     "output_type": "execute_result"
    }
   ],
   "source": [
    "test_data.head()"
   ]
  },
  {
   "cell_type": "code",
   "execution_count": 8,
   "metadata": {},
   "outputs": [
    {
     "data": {
      "text/html": [
       "<div>\n",
       "<style scoped>\n",
       "    .dataframe tbody tr th:only-of-type {\n",
       "        vertical-align: middle;\n",
       "    }\n",
       "\n",
       "    .dataframe tbody tr th {\n",
       "        vertical-align: top;\n",
       "    }\n",
       "\n",
       "    .dataframe thead th {\n",
       "        text-align: right;\n",
       "    }\n",
       "</style>\n",
       "<table border=\"1\" class=\"dataframe\">\n",
       "  <thead>\n",
       "    <tr style=\"text-align: right;\">\n",
       "      <th>variable</th>\n",
       "      <th>三信銀行-VISA白金卡</th>\n",
       "      <th>上海商銀-TeresaCard</th>\n",
       "      <th>上海商銀-小小兵Bello回饋卡</th>\n",
       "      <th>上海商銀-簡單卡</th>\n",
       "      <th>中國信託-ANA聯名卡</th>\n",
       "      <th>中國信託-LINE Pay卡</th>\n",
       "      <th>中國信託-MUJI無印良品聯名卡</th>\n",
       "      <th>中國信託-Yahoo聯名卡</th>\n",
       "      <th>中國信託-中信兄弟聯名卡</th>\n",
       "      <th>中國信託-中信商旅鈦金卡</th>\n",
       "      <th>...</th>\n",
       "      <th>華南銀行-i網購生活卡</th>\n",
       "      <th>華南銀行-享利樂活Combo卡</th>\n",
       "      <th>華南銀行-大甲媽祖認同卡</th>\n",
       "      <th>華南銀行-旅鑽商務御璽卡</th>\n",
       "      <th>華南銀行-美饌紅利卡</th>\n",
       "      <th>華南銀行-超級現金回饋卡</th>\n",
       "      <th>遠東商銀-Bankee信用卡</th>\n",
       "      <th>遠東商銀-快樂信用卡</th>\n",
       "      <th>陽信銀行-一卡通聯名鈦金卡</th>\n",
       "      <th>陽信銀行-曜晶卡</th>\n",
       "    </tr>\n",
       "    <tr>\n",
       "      <th>user</th>\n",
       "      <th></th>\n",
       "      <th></th>\n",
       "      <th></th>\n",
       "      <th></th>\n",
       "      <th></th>\n",
       "      <th></th>\n",
       "      <th></th>\n",
       "      <th></th>\n",
       "      <th></th>\n",
       "      <th></th>\n",
       "      <th></th>\n",
       "      <th></th>\n",
       "      <th></th>\n",
       "      <th></th>\n",
       "      <th></th>\n",
       "      <th></th>\n",
       "      <th></th>\n",
       "      <th></th>\n",
       "      <th></th>\n",
       "      <th></th>\n",
       "      <th></th>\n",
       "    </tr>\n",
       "  </thead>\n",
       "  <tbody>\n",
       "    <tr>\n",
       "      <th>0</th>\n",
       "      <td>0.0</td>\n",
       "      <td>0.0</td>\n",
       "      <td>0.0</td>\n",
       "      <td>0.0</td>\n",
       "      <td>0.0</td>\n",
       "      <td>1.0</td>\n",
       "      <td>0.0</td>\n",
       "      <td>0.0</td>\n",
       "      <td>0.0</td>\n",
       "      <td>0.0</td>\n",
       "      <td>...</td>\n",
       "      <td>0.0</td>\n",
       "      <td>0.0</td>\n",
       "      <td>0.0</td>\n",
       "      <td>0.0</td>\n",
       "      <td>0.0</td>\n",
       "      <td>0.0</td>\n",
       "      <td>0.0</td>\n",
       "      <td>0.0</td>\n",
       "      <td>0.0</td>\n",
       "      <td>0.0</td>\n",
       "    </tr>\n",
       "    <tr>\n",
       "      <th>1</th>\n",
       "      <td>0.0</td>\n",
       "      <td>0.0</td>\n",
       "      <td>0.0</td>\n",
       "      <td>0.0</td>\n",
       "      <td>0.0</td>\n",
       "      <td>0.0</td>\n",
       "      <td>0.0</td>\n",
       "      <td>0.0</td>\n",
       "      <td>0.0</td>\n",
       "      <td>0.0</td>\n",
       "      <td>...</td>\n",
       "      <td>0.0</td>\n",
       "      <td>0.0</td>\n",
       "      <td>0.0</td>\n",
       "      <td>0.0</td>\n",
       "      <td>0.0</td>\n",
       "      <td>0.0</td>\n",
       "      <td>0.0</td>\n",
       "      <td>0.0</td>\n",
       "      <td>0.0</td>\n",
       "      <td>0.0</td>\n",
       "    </tr>\n",
       "    <tr>\n",
       "      <th>2</th>\n",
       "      <td>0.0</td>\n",
       "      <td>0.0</td>\n",
       "      <td>1.0</td>\n",
       "      <td>0.0</td>\n",
       "      <td>0.0</td>\n",
       "      <td>0.0</td>\n",
       "      <td>0.0</td>\n",
       "      <td>0.0</td>\n",
       "      <td>0.0</td>\n",
       "      <td>0.0</td>\n",
       "      <td>...</td>\n",
       "      <td>0.0</td>\n",
       "      <td>0.0</td>\n",
       "      <td>0.0</td>\n",
       "      <td>0.0</td>\n",
       "      <td>0.0</td>\n",
       "      <td>0.0</td>\n",
       "      <td>0.0</td>\n",
       "      <td>0.0</td>\n",
       "      <td>0.0</td>\n",
       "      <td>0.0</td>\n",
       "    </tr>\n",
       "    <tr>\n",
       "      <th>3</th>\n",
       "      <td>0.0</td>\n",
       "      <td>0.0</td>\n",
       "      <td>0.0</td>\n",
       "      <td>0.0</td>\n",
       "      <td>0.0</td>\n",
       "      <td>0.0</td>\n",
       "      <td>0.0</td>\n",
       "      <td>0.0</td>\n",
       "      <td>0.0</td>\n",
       "      <td>0.0</td>\n",
       "      <td>...</td>\n",
       "      <td>0.0</td>\n",
       "      <td>0.0</td>\n",
       "      <td>0.0</td>\n",
       "      <td>0.0</td>\n",
       "      <td>0.0</td>\n",
       "      <td>0.0</td>\n",
       "      <td>0.0</td>\n",
       "      <td>0.0</td>\n",
       "      <td>0.0</td>\n",
       "      <td>0.0</td>\n",
       "    </tr>\n",
       "    <tr>\n",
       "      <th>4</th>\n",
       "      <td>0.0</td>\n",
       "      <td>0.0</td>\n",
       "      <td>0.0</td>\n",
       "      <td>0.0</td>\n",
       "      <td>0.0</td>\n",
       "      <td>0.0</td>\n",
       "      <td>0.0</td>\n",
       "      <td>0.0</td>\n",
       "      <td>0.0</td>\n",
       "      <td>0.0</td>\n",
       "      <td>...</td>\n",
       "      <td>0.0</td>\n",
       "      <td>0.0</td>\n",
       "      <td>0.0</td>\n",
       "      <td>0.0</td>\n",
       "      <td>0.0</td>\n",
       "      <td>0.0</td>\n",
       "      <td>0.0</td>\n",
       "      <td>0.0</td>\n",
       "      <td>0.0</td>\n",
       "      <td>0.0</td>\n",
       "    </tr>\n",
       "  </tbody>\n",
       "</table>\n",
       "<p>5 rows × 180 columns</p>\n",
       "</div>"
      ],
      "text/plain": [
       "variable  三信銀行-VISA白金卡  上海商銀-TeresaCard  上海商銀-小小兵Bello回饋卡  上海商銀-簡單卡  \\\n",
       "user                                                                  \n",
       "0                  0.0              0.0               0.0       0.0   \n",
       "1                  0.0              0.0               0.0       0.0   \n",
       "2                  0.0              0.0               1.0       0.0   \n",
       "3                  0.0              0.0               0.0       0.0   \n",
       "4                  0.0              0.0               0.0       0.0   \n",
       "\n",
       "variable  中國信託-ANA聯名卡  中國信託-LINE Pay卡  中國信託-MUJI無印良品聯名卡  中國信託-Yahoo聯名卡  \\\n",
       "user                                                                     \n",
       "0                 0.0             1.0               0.0            0.0   \n",
       "1                 0.0             0.0               0.0            0.0   \n",
       "2                 0.0             0.0               0.0            0.0   \n",
       "3                 0.0             0.0               0.0            0.0   \n",
       "4                 0.0             0.0               0.0            0.0   \n",
       "\n",
       "variable  中國信託-中信兄弟聯名卡  中國信託-中信商旅鈦金卡  ...  華南銀行-i網購生活卡  華南銀行-享利樂活Combo卡  \\\n",
       "user                                  ...                                 \n",
       "0                  0.0           0.0  ...          0.0              0.0   \n",
       "1                  0.0           0.0  ...          0.0              0.0   \n",
       "2                  0.0           0.0  ...          0.0              0.0   \n",
       "3                  0.0           0.0  ...          0.0              0.0   \n",
       "4                  0.0           0.0  ...          0.0              0.0   \n",
       "\n",
       "variable  華南銀行-大甲媽祖認同卡  華南銀行-旅鑽商務御璽卡  華南銀行-美饌紅利卡  華南銀行-超級現金回饋卡  \\\n",
       "user                                                             \n",
       "0                  0.0           0.0         0.0           0.0   \n",
       "1                  0.0           0.0         0.0           0.0   \n",
       "2                  0.0           0.0         0.0           0.0   \n",
       "3                  0.0           0.0         0.0           0.0   \n",
       "4                  0.0           0.0         0.0           0.0   \n",
       "\n",
       "variable  遠東商銀-Bankee信用卡  遠東商銀-快樂信用卡  陽信銀行-一卡通聯名鈦金卡  陽信銀行-曜晶卡  \n",
       "user                                                           \n",
       "0                    0.0         0.0            0.0       0.0  \n",
       "1                    0.0         0.0            0.0       0.0  \n",
       "2                    0.0         0.0            0.0       0.0  \n",
       "3                    0.0         0.0            0.0       0.0  \n",
       "4                    0.0         0.0            0.0       0.0  \n",
       "\n",
       "[5 rows x 180 columns]"
      ]
     },
     "execution_count": 8,
     "metadata": {},
     "output_type": "execute_result"
    }
   ],
   "source": [
    "#melt data to df and fillna with 0\n",
    "train_df=train_data.pivot_table(values='value',index='user',columns='variable').fillna(0)\n",
    "train_df.head()"
   ]
  },
  {
   "cell_type": "code",
   "execution_count": 78,
   "metadata": {},
   "outputs": [
    {
     "name": "stdout",
     "output_type": "stream",
     "text": [
      "['中國信託-LINE Pay卡', '台新銀行-FlyGo卡']\n",
      "['中國信託-LINE Pay卡', '台新銀行-@GoGo iCash御璽卡', '花旗銀行-新世代花旗饗樂生活悠遊卡']\n"
     ]
    }
   ],
   "source": [
    "indices = pd.Series(train_df.columns)   #所有卡series\n",
    "#card_index_list=indices[train_df.loc[1]==1]\n",
    "\n",
    "print(train_df.columns[train_df.loc[0]==1].to_list())\n",
    "print(train_df.columns[train_df.loc[1]==1].to_list())"
   ]
  },
  {
   "cell_type": "code",
   "execution_count": 75,
   "metadata": {},
   "outputs": [
    {
     "data": {
      "text/plain": [
       "0.022097786725948296"
      ]
     },
     "execution_count": 75,
     "metadata": {},
     "output_type": "execute_result"
    }
   ],
   "source": [
    "#test data total card\n",
    "len(test_data[test_data['value']==1])/len(test_data)"
   ]
  },
  {
   "cell_type": "markdown",
   "metadata": {},
   "source": [
    "# Item_Based_Evaluate"
   ]
  },
  {
   "cell_type": "code",
   "execution_count": 124,
   "metadata": {},
   "outputs": [],
   "source": [
    "#item_base_rec\n",
    "def CF_Item_Based_Evaluate(train,TopN):\n",
    "    start_time = time.time()\n",
    "\n",
    "    #imput data type:df\n",
    "    #轉置df\n",
    "    traindata=train\n",
    "    traindata_T=traindata.T\n",
    "    #計算各卡間的相似度\n",
    "    card_sim=cosine_similarity(traindata_T,traindata_T)\n",
    "    \n",
    "    #找出已持有卡index\n",
    "    item_rec_list={}\n",
    "    for user in traindata.index:\n",
    "           #所有卡series\n",
    "        my_card=traindata.columns[traindata.loc[user]==1].to_list()#找持有卡\n",
    "        indices = pd.Series(traindata_T.index)\n",
    "        card_index_list=[indices[indices == name].index[0] for name in my_card]  #找出各卡index\n",
    "        weighted_card_rec=np.zeros(len(traindata_T.index))   #創全0且為卡片數量長度的array\n",
    "        for  i in card_index_list:\n",
    "            weighted_card_rec +=card_sim[i]           #將持有卡於其他卡的相似度相加成推薦權重\n",
    "        #排列相似度最高前TopN名卡片\n",
    "        weighted_score=pd.Series(weighted_card_rec).sort_values(ascending = False)\n",
    "        TopN_indexes=weighted_score.iloc[len(my_card):len(my_card)+TopN].index\n",
    "        rec_card=[]\n",
    "        for i in TopN_indexes:\n",
    "            rec_card.append(indices[i])\n",
    "        item_rec_list[user]=rec_card\n",
    "    #calculate TopN in test_data\n",
    "    #test_data user\n",
    "    total_precision=0\n",
    "    total_hit =0\n",
    "    result={}\n",
    "\n",
    "    for user in list(set(test_data['user'])):\n",
    "        user_df=test_data[test_data['user']==user]\n",
    "        user_df_hold=user_df[user_df['value']==1]['variable'].values\n",
    "        hit=sum([1 for item in item_rec_list[user] if item in user_df_hold])\n",
    "        precision=hit/TopN\n",
    "        \n",
    "        total_precision +=precision\n",
    "        total_hit +=hit\n",
    "    result['Precision']=total_precision/len(set(test_data['user']))\n",
    "    \n",
    "    result['Hit']=total_hit/len(set(test_data['user']))\n",
    "    exec_time= \"--- %s seconds ---\" % (time.time() - start_time)\n",
    "\n",
    "\n",
    "    return result,exec_time\n"
   ]
  },
  {
   "cell_type": "code",
   "execution_count": null,
   "metadata": {},
   "outputs": [],
   "source": []
  },
  {
   "cell_type": "code",
   "execution_count": 125,
   "metadata": {},
   "outputs": [
    {
     "data": {
      "text/plain": [
       "({'Precision': 0.10872027180067793, 'Hit': 0.5436013590033975},\n",
       " '--- 12.733741283416748 seconds ---')"
      ]
     },
     "execution_count": 125,
     "metadata": {},
     "output_type": "execute_result"
    }
   ],
   "source": [
    "CF_Item_Based_Evaluate(train_df,5)"
   ]
  },
  {
   "cell_type": "code",
   "execution_count": 109,
   "metadata": {},
   "outputs": [
    {
     "data": {
      "text/plain": [
       "3161"
      ]
     },
     "execution_count": 109,
     "metadata": {},
     "output_type": "execute_result"
    }
   ],
   "source": [
    "len(test_data[test_data['value']==1])"
   ]
  },
  {
   "cell_type": "markdown",
   "metadata": {},
   "source": [
    "#  User_Based"
   ]
  },
  {
   "cell_type": "code",
   "execution_count": 127,
   "metadata": {},
   "outputs": [],
   "source": [
    "def CF_User_Based_Evaluate(train,NeighborN,TopN):\n",
    "    #imput data type:my_card=['上海商銀-小小兵Bello回饋卡','中國信託-ANA聯名卡']\n",
    "    start_time = time.time()\n",
    "    traindata=train\n",
    "    \n",
    "\n",
    "    #user與其他user計算cosine相似度\n",
    "    user_sim_array=cosine_similarity(train_df,train_df)\n",
    "    user_rec_list={}\n",
    "    for user in traindata.index:\n",
    "        sim_value_sort=pd.Series(user_sim_array[user]).sort_values(ascending = False)\n",
    "    # df_m2m = pd.DataFrame(cosine_similarity(df))\n",
    "        topN_sim_user={}\n",
    "        \n",
    "        for idx,v in sim_value_sort.iteritems():\n",
    "            if len(topN_sim_user)<NeighborN:     #topN_sim_user\n",
    "                topN_sim_user[idx]=v  \n",
    "\n",
    "        weighted_card_rec=np.zeros(len(traindata.columns))\n",
    "        #相似權重相加\n",
    "        for i in topN_sim_user:\n",
    "            #print(i)\n",
    "            weighted_card_rec+= traindata.loc[i]*topN_sim_user[i]\n",
    "              \n",
    "        #未持有的卡推薦  \n",
    "        recommend_card=[]\n",
    "        weighted_card_rec_sort=weighted_card_rec.sort_values(ascending=False)\n",
    "        for card,value in weighted_card_rec_sort.iteritems():\n",
    "                if value >0:\n",
    "                    if train_df.loc[user,card]==0 and len(recommend_card) <TopN:\n",
    "                                      recommend_card.append(card)\n",
    "        user_rec_list[user]=recommend_card\n",
    "    total_precision=0\n",
    "    total_hit =0\n",
    "    result={}\n",
    "\n",
    "    for user in list(set(test_data['user'])):\n",
    "        user_df=test_data[test_data['user']==user]\n",
    "        user_df_hold=user_df[user_df['value']==1]['variable'].values\n",
    "        hit=sum([1 for item in user_rec_list[user] if item in user_df_hold])\n",
    "        precision=hit/TopN\n",
    "        \n",
    "        total_precision +=precision\n",
    "        total_hit +=hit\n",
    "    result['Precision']=total_precision/len(set(test_data['user']))\n",
    "    result['Hit']=total_hit/len(set(test_data['user']))\n",
    "    exec_time=\"--- %s seconds ---\" % (time.time() - start_time)\n",
    "\n",
    "    return result,exec_time\n",
    "                    "
   ]
  },
  {
   "cell_type": "code",
   "execution_count": 128,
   "metadata": {},
   "outputs": [
    {
     "data": {
      "text/plain": [
       "({'Precision': 0.10856927142317693, 'Hit': 0.5428463571158928},\n",
       " '--- 118.11028790473938 seconds ---')"
      ]
     },
     "execution_count": 128,
     "metadata": {},
     "output_type": "execute_result"
    }
   ],
   "source": [
    "CF_User_Based_Evaluate(train_df,100,5)\n",
    "\n",
    "#train_df.loc[user,card]==0\n",
    "#user_df=train_df[train_df['user']==1]\n",
    "#user_df['中國信託-ANA聯名卡'] == 1"
   ]
  },
  {
   "cell_type": "code",
   "execution_count": 130,
   "metadata": {},
   "outputs": [
    {
     "data": {
      "text/plain": [
       "({'Precision': 0.033069082672706814, 'Hit': 0.16534541336353342},\n",
       " '--- 14.566324710845947 seconds ---')"
      ]
     },
     "execution_count": 130,
     "metadata": {},
     "output_type": "execute_result"
    }
   ],
   "source": [
    "CF_User_Based_Evaluate(train_df,5,5)"
   ]
  },
  {
   "cell_type": "code",
   "execution_count": null,
   "metadata": {},
   "outputs": [],
   "source": [
    "\n",
    "\n",
    "reader = Reader(rating_scale=(0.5, 5))\n",
    "data = Dataset.load_from_df(df[['userId', 'title', 'rating']], reader)\n",
    "trainSet, testSet = train_test_split(data, test_size=.25, random_state=0)\n",
    "algo = SVD(random_state=0)\n",
    "algo.fit(trainSet)\n",
    "predictions = algo.test(testSet)\n",
    "\n",
    "def MAE(predictions):\n",
    "        return accuracy.mae(predictions, verbose=False)\n",
    "def RMSE(predictions):\n",
    "        return accuracy.rmse(predictions, verbose=False)\n",
    "    \n",
    "print(\"RMSE: \", RMSE(predictions))\n",
    "print(\"MAE: \", MAE(predictions))"
   ]
  },
  {
   "cell_type": "code",
   "execution_count": 3,
   "metadata": {},
   "outputs": [
    {
     "ename": "NameError",
     "evalue": "name 'SVD' is not defined",
     "output_type": "error",
     "traceback": [
      "\u001b[1;31m---------------------------------------------------------------------------\u001b[0m",
      "\u001b[1;31mNameError\u001b[0m                                 Traceback (most recent call last)",
      "\u001b[1;32m<ipython-input-3-7db4305ad58e>\u001b[0m in \u001b[0;36m<module>\u001b[1;34m\u001b[0m\n\u001b[1;32m----> 1\u001b[1;33m \u001b[0mSVD\u001b[0m\u001b[1;33m\u001b[0m\u001b[1;33m\u001b[0m\u001b[0m\n\u001b[0m",
      "\u001b[1;31mNameError\u001b[0m: name 'SVD' is not defined"
     ]
    }
   ],
   "source": [
    "SVD"
   ]
  },
  {
   "cell_type": "code",
   "execution_count": null,
   "metadata": {},
   "outputs": [],
   "source": []
  }
 ],
 "metadata": {
  "kernelspec": {
   "display_name": "Python 3",
   "language": "python",
   "name": "python3"
  },
  "language_info": {
   "codemirror_mode": {
    "name": "ipython",
    "version": 3
   },
   "file_extension": ".py",
   "mimetype": "text/x-python",
   "name": "python",
   "nbconvert_exporter": "python",
   "pygments_lexer": "ipython3",
   "version": "3.7.3"
  }
 },
 "nbformat": 4,
 "nbformat_minor": 2
}
