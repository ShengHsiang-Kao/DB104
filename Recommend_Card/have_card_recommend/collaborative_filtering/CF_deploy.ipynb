{
 "cells": [
  {
   "cell_type": "code",
   "execution_count": null,
   "metadata": {},
   "outputs": [],
   "source": [
    "import numpy as np\n",
    "import random"
   ]
  },
  {
   "cell_type": "code",
   "execution_count": null,
   "metadata": {},
   "outputs": [],
   "source": [
    "df = pd.read_excel(r'./cleaC04.xlsx',encoding='utf-16',sheet_name='sheet3')\n",
    "df = df.drop(['Unnamed: 0'], axis=1)\n",
    "df = df.drop(['總計'], axis=1)\n",
    "df = df.drop([2649], axis=0)\n",
    "df.fillna(0, inplace = True)"
   ]
  },
  {
   "cell_type": "code",
   "execution_count": null,
   "metadata": {},
   "outputs": [],
   "source": [
    "def CF_input_card(my_card):\n",
    "    a123=[]\n",
    "    a=[]\n",
    "    for m01,i in enumerate(range(len(df.columns))):\n",
    "        b=random.randrange(0, 2)\n",
    "        a.append(b)\n",
    "        a123.append(m01)\n",
    "    len(a)\n",
    "    #使用者輸入持有卡片，已持有卡片為1，其他為0\n",
    "    aa=pd.DataFrame(columns=a123)\n",
    "    aa.loc[0]=a\n",
    "    #cosine\n",
    "    c=cosine_similarity(aa,df)\n",
    "    # df_m2m = pd.DataFrame(cosine_similarity(df))\n",
    "    card_array = list(c[0])\n",
    "    return card_array"
   ]
  },
  {
   "cell_type": "code",
   "execution_count": null,
   "metadata": {},
   "outputs": [],
   "source": [
    "def CF_Recommend(card_array):\n",
    "\n",
    "    \n",
    "\n",
    "    #找出最相似的一筆，印出該筆資料中使用者未持有之卡片(值為0之卡片)\n",
    "    # print(temp_c)\n",
    "    MaxS=(max(temp_c))\n",
    "    print(MaxS)\n",
    "    maxSim=temp_c.index(MaxS)\n",
    "    # c_sort=sorted(temp_c,reverse=True)\n",
    "\n",
    "    for n,i in enumerate(df.loc[maxSim]):\n",
    "        if i >0 and aa[n][0]!=1:\n",
    "            print(df.columns[n])   "
   ]
  },
  {
   "cell_type": "code",
   "execution_count": null,
   "metadata": {},
   "outputs": [],
   "source": [
    "\n",
    "\n",
    "\n",
    "\n",
    "\n",
    "\n",
    "\n",
    "\n",
    "\n",
    "\n",
    "\n",
    "\n"
   ]
  }
 ],
 "metadata": {
  "kernelspec": {
   "display_name": "Python 3",
   "language": "python",
   "name": "python3"
  },
  "language_info": {
   "codemirror_mode": {
    "name": "ipython",
    "version": 3
   },
   "file_extension": ".py",
   "mimetype": "text/x-python",
   "name": "python",
   "nbconvert_exporter": "python",
   "pygments_lexer": "ipython3",
   "version": "3.7.3"
  }
 },
 "nbformat": 4,
 "nbformat_minor": 2
}
