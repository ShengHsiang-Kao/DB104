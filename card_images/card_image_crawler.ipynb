{
 "cells": [
  {
   "cell_type": "code",
   "execution_count": 21,
   "metadata": {},
   "outputs": [],
   "source": [
    "from selenium import webdriver\n",
    "import re\n",
    "import time\n",
    "import pandas as pd\n",
    "import os\n",
    "import requests\n",
    "from urllib import request"
   ]
  },
  {
   "cell_type": "code",
   "execution_count": 74,
   "metadata": {},
   "outputs": [],
   "source": [
    "driver = webdriver.Chrome('./chromedriver')\n",
    "#driver = webdriver.Chrome(os.path.join(os.getcwd(),'chromedriver'))\n",
    "driver.get('https://www.money101.com.tw/%E4%BF%A1%E7%94%A8%E5%8D%A1/%E5%85%A8%E9%83%A8')"
   ]
  },
  {
   "cell_type": "code",
   "execution_count": 75,
   "metadata": {},
   "outputs": [],
   "source": [
    "links = []"
   ]
  },
  {
   "cell_type": "code",
   "execution_count": 76,
   "metadata": {},
   "outputs": [],
   "source": [
    "for roll in range(100): \n",
    "    driver.execute_script('window.scrollBy(0,10000);')  \n",
    "    time.sleep(3)\n",
    "    \n",
    "\n",
    "        "
   ]
  },
  {
   "cell_type": "code",
   "execution_count": 77,
   "metadata": {},
   "outputs": [],
   "source": [
    "card = driver.find_elements_by_class_name('product-pane')\n",
    "\n",
    "for i in card:    \n",
    "    url = i.find_elements_by_css_selector('a')[0].get_attribute('href')\n",
    "    if url not in links:\n",
    "        #print(url)\n",
    "        links.append(url)"
   ]
  },
  {
   "cell_type": "code",
   "execution_count": 78,
   "metadata": {
    "scrolled": true
   },
   "outputs": [
    {
     "data": {
      "text/plain": [
       "['https://www.money101.com.tw/%E4%BF%A1%E7%94%A8%E5%8D%A1/%E6%B8%A3%E6%89%93%E9%8A%80%E8%A1%8C%E7%8F%BE%E9%87%91%E5%9B%9E%E9%A5%8B%E5%BE%A1%E7%92%BD%E5%8D%A1?entry=header&from=%E5%85%A8%E9%83%A8',\n",
       " 'https://www.money101.com.tw/%E4%BF%A1%E7%94%A8%E5%8D%A1/%E5%BD%B0%E5%8C%96%E9%8A%80%E8%A1%8CMy%E6%A8%82%E7%8F%BE%E9%87%91%E5%9B%9E%E9%A5%8B%E5%8D%A1?entry=header&from=%E5%85%A8%E9%83%A8',\n",
       " 'https://www.money101.com.tw/%E4%BF%A1%E7%94%A8%E5%8D%A1/%E8%8A%B1%E6%97%97%E9%8A%80%E8%A1%8C%E7%8F%BE%E9%87%91%E5%9B%9E%E9%A5%8Bplus%E5%8D%A1?entry=header&from=%E5%85%A8%E9%83%A8',\n",
       " 'https://www.money101.com.tw/%E4%BF%A1%E7%94%A8%E5%8D%A1/%E7%AC%AC%E4%B8%80%E9%8A%80%E8%A1%8C%E4%B8%80%E5%8D%A1%E9%80%9A%E8%81%AF%E5%90%8D%E5%8D%A1?entry=header&from=%E5%85%A8%E9%83%A8',\n",
       " 'https://www.money101.com.tw/%E4%BF%A1%E7%94%A8%E5%8D%A1/%E9%81%A0%E6%9D%B1%E5%95%86%E9%8A%80%E5%BF%AB%E6%A8%82%E4%BF%A1%E7%94%A8%E5%8D%A1?entry=header&from=%E5%85%A8%E9%83%A8',\n",
       " 'https://www.money101.com.tw/%E4%BF%A1%E7%94%A8%E5%8D%A1/%E8%81%AF%E9%82%A6%E9%8A%80%E8%A1%8C%E8%B3%B4%E9%BB%9E%E4%B8%80%E5%8D%A1%E9%80%9A%E5%BE%A1%E7%92%BD%E5%8D%A1?entry=header&from=%E5%85%A8%E9%83%A8',\n",
       " 'https://www.money101.com.tw/%E4%BF%A1%E7%94%A8%E5%8D%A1/%E6%B0%B8%E8%B1%90%E9%8A%80%E8%A1%8CDAWHO%E7%8F%BE%E9%87%91%E5%9B%9E%E9%A5%8B%E4%BF%A1%E7%94%A8%E5%8D%A1?entry=header&from=%E5%85%A8%E9%83%A8',\n",
       " 'https://www.money101.com.tw/%E4%BF%A1%E7%94%A8%E5%8D%A1/%E9%81%A0%E6%9D%B1%E5%95%86%E9%8A%80Bankee%E4%BF%A1%E7%94%A8%E5%8D%A1?entry=header&from=%E5%85%A8%E9%83%A8',\n",
       " 'https://www.money101.com.tw/%E4%BF%A1%E7%94%A8%E5%8D%A1/%E5%85%83%E5%A4%A7%E9%8A%80%E8%A1%8C%E9%91%BD%E9%87%91%E5%8D%A1?entry=header&from=%E5%85%A8%E9%83%A8',\n",
       " 'https://www.money101.com.tw/%E4%BF%A1%E7%94%A8%E5%8D%A1/%E5%85%83%E5%A4%A7%E9%8A%80%E8%A1%8C%E9%91%BD%E9%87%91ICASH%E8%81%AF%E5%90%8D%E5%8D%A1?entry=header&from=%E5%85%A8%E9%83%A8',\n",
       " 'https://www.money101.com.tw/%E4%BF%A1%E7%94%A8%E5%8D%A1/%E4%B8%8A%E6%B5%B7%E5%95%86%E9%8A%80%E7%B0%A1%E5%96%AE%E5%8D%A1?entry=header&from=%E5%85%A8%E9%83%A8',\n",
       " 'https://www.money101.com.tw/%E4%BF%A1%E7%94%A8%E5%8D%A1/%E5%8F%B0%E5%8C%97%E5%AF%8C%E9%82%A6J%E5%8D%A1?entry=header&from=%E5%85%A8%E9%83%A8',\n",
       " 'https://www.money101.com.tw/%E4%BF%A1%E7%94%A8%E5%8D%A1/%E5%8F%B0%E5%8C%97%E5%AF%8C%E9%82%A6momo%E5%8D%A1?entry=header&from=%E5%85%A8%E9%83%A8',\n",
       " 'https://www.money101.com.tw/%E4%BF%A1%E7%94%A8%E5%8D%A1/%E5%85%86%E8%B1%90%E9%8A%80%E8%A1%8C%E5%88%A9%E5%A4%9A%E5%BE%A1%E7%92%BD%E5%95%86%E6%97%85%E5%8D%A1?entry=header&from=%E5%85%A8%E9%83%A8',\n",
       " 'https://www.money101.com.tw/%E4%BF%A1%E7%94%A8%E5%8D%A1/%E6%96%B0%E5%85%89%E9%8A%80%E8%A1%8C%E6%97%A5%E6%9C%AC%E8%88%AA%E7%A9%BA%E8%81%AF%E5%90%8D%E5%8D%A1?entry=header&from=%E5%85%A8%E9%83%A8',\n",
       " 'https://www.money101.com.tw/%E4%BF%A1%E7%94%A8%E5%8D%A1/%E5%8F%B0%E6%96%B0%E9%8A%80%E8%A1%8CFLYGO%E5%8D%A1?entry=header&from=%E5%85%A8%E9%83%A8',\n",
       " 'https://www.money101.com.tw/%E4%BF%A1%E7%94%A8%E5%8D%A1/%E4%B8%AD%E5%9C%8B%E4%BF%A1%E8%A8%97%E9%9B%99%E5%B9%A3%E5%95%86%E5%8B%99%E5%8D%A1?entry=header&from=%E5%85%A8%E9%83%A8',\n",
       " 'https://www.money101.com.tw/%E4%BF%A1%E7%94%A8%E5%8D%A1/%E6%98%9F%E5%B1%95%E9%8A%80%E8%A1%8C%E7%82%AB%E6%99%B6%E5%BE%A1%E7%92%BD%E5%8D%A1?entry=header&from=%E5%85%A8%E9%83%A8',\n",
       " 'https://www.money101.com.tw/%E4%BF%A1%E7%94%A8%E5%8D%A1/%E4%B8%AD%E5%9C%8B%E4%BF%A1%E8%A8%97%E4%B8%AD%E4%BF%A1%E5%95%86%E6%97%85%E9%88%A6%E9%87%91%E5%8D%A1?entry=header&from=%E5%85%A8%E9%83%A8',\n",
       " 'https://www.money101.com.tw/%E4%BF%A1%E7%94%A8%E5%8D%A1/%E8%8F%AF%E5%8D%97%E9%8A%80%E8%A1%8C%E4%BA%AB%E5%88%A9%E6%A8%82%E6%B4%BBCOMBO%E5%8D%A1?entry=header&from=%E5%85%A8%E9%83%A8',\n",
       " 'https://www.money101.com.tw/%E4%BF%A1%E7%94%A8%E5%8D%A1/%E9%99%BD%E4%BF%A1%E9%8A%80%E8%A1%8C%E6%9B%9C%E6%99%B6%E5%8D%A1?entry=header&from=%E5%85%A8%E9%83%A8',\n",
       " 'https://www.money101.com.tw/%E4%BF%A1%E7%94%A8%E5%8D%A1/%E4%B8%AD%E5%9C%8B%E4%BF%A1%E8%A8%97%E7%8F%BE%E9%87%91%E5%9B%9E%E9%A5%8B%E9%88%A6%E9%87%91%E5%8D%A1?entry=header&from=%E5%85%A8%E9%83%A8',\n",
       " 'https://www.money101.com.tw/%E4%BF%A1%E7%94%A8%E5%8D%A1/%E4%B8%AD%E5%9C%8B%E4%BF%A1%E8%A8%97TAIPEI101%E5%A4%9C%E5%85%89%E8%81%AF%E5%90%8D%E5%8D%A1?entry=header&from=%E5%85%A8%E9%83%A8',\n",
       " 'https://www.money101.com.tw/%E4%BF%A1%E7%94%A8%E5%8D%A1/%E4%B8%AD%E5%9C%8B%E4%BF%A1%E8%A8%97GlobalMall%E8%81%AF%E5%90%8D%E5%8D%A1?entry=header&from=%E5%85%A8%E9%83%A8',\n",
       " 'https://www.money101.com.tw/%E4%BF%A1%E7%94%A8%E5%8D%A1/%E5%8F%B0%E6%96%B0%E9%8A%80%E8%A1%8C%E5%95%86%E5%8B%99%E5%8D%A1?entry=header&from=%E5%85%A8%E9%83%A8',\n",
       " 'https://www.money101.com.tw/%E4%BF%A1%E7%94%A8%E5%8D%A1/%E4%B8%8A%E6%B5%B7%E5%95%86%E9%8A%80%E5%B0%8F%E5%B0%8F%E5%85%B5Bello%E5%9B%9E%E9%A5%8B%E5%8D%A1?entry=header&from=%E5%85%A8%E9%83%A8',\n",
       " 'https://www.money101.com.tw/%E4%BF%A1%E7%94%A8%E5%8D%A1/%E6%BB%99%E8%B1%90%E9%8A%80%E8%A1%8C%E7%8F%BE%E9%87%91%E5%9B%9E%E9%A5%8B%E5%BE%A1%E7%92%BD%E5%8D%A1?entry=header&from=%E5%85%A8%E9%83%A8',\n",
       " 'https://www.money101.com.tw/%E4%BF%A1%E7%94%A8%E5%8D%A1/%E5%85%83%E5%A4%A7%E9%8A%80%E8%A1%8CWI-HO!ONLINE%E8%81%AF%E5%90%8D%E5%8D%A1?entry=header&from=%E5%85%A8%E9%83%A8',\n",
       " 'https://www.money101.com.tw/%E4%BF%A1%E7%94%A8%E5%8D%A1/%E5%85%83%E5%A4%A7%E9%8A%80%E8%A1%8C%E9%91%BD%E9%87%91%E4%B8%80%E5%8D%A1%E9%80%9A%E8%81%AF%E5%90%8D%E5%8D%A1?entry=header&from=%E5%85%A8%E9%83%A8',\n",
       " 'https://www.money101.com.tw/%E4%BF%A1%E7%94%A8%E5%8D%A1/%E5%85%83%E5%A4%A7%E9%8A%80%E8%A1%8C%E5%AF%8C%E8%B2%B4%E7%84%A1%E9%99%90%E5%8D%A1?entry=header&from=%E5%85%A8%E9%83%A8',\n",
       " 'https://www.money101.com.tw/%E4%BF%A1%E7%94%A8%E5%8D%A1/%E5%85%83%E5%A4%A7%E9%8A%80%E8%A1%8CICASH%E6%A8%82%E4%BA%AB%E6%99%B6%E7%B7%BB%E5%8D%A1?entry=header&from=%E5%85%A8%E9%83%A8',\n",
       " 'https://www.money101.com.tw/%E4%BF%A1%E7%94%A8%E5%8D%A1/%E5%85%83%E5%A4%A7%E9%8A%80%E8%A1%8CIPASS%E7%8F%BE%E8%B3%BA%E5%BE%A1%E7%92%BD%E5%8D%A1?entry=header&from=%E5%85%A8%E9%83%A8',\n",
       " 'https://www.money101.com.tw/%E4%BF%A1%E7%94%A8%E5%8D%A1/%E7%AC%AC%E4%B8%80%E9%8A%80%E8%A1%8C%E9%88%A6%E9%87%91%E5%95%86%E6%97%85%E5%8D%A1?entry=header&from=%E5%85%A8%E9%83%A8',\n",
       " 'https://www.money101.com.tw/%E4%BF%A1%E7%94%A8%E5%8D%A1/%E6%B0%B8%E8%B1%90%E9%8A%80%E8%A1%8C%E7%8F%BE%E9%87%91%E5%9B%9E%E9%A5%8B%E5%8D%A1?entry=header&from=%E5%85%A8%E9%83%A8',\n",
       " 'https://www.money101.com.tw/%E4%BF%A1%E7%94%A8%E5%8D%A1/%E6%97%A5%E7%9B%9B%E9%8A%80%E8%A1%8C%E7%84%A1%E9%99%90%E5%8D%A1?entry=header&from=%E5%85%A8%E9%83%A8',\n",
       " 'https://www.money101.com.tw/%E4%BF%A1%E7%94%A8%E5%8D%A1/%E6%B0%B8%E8%B1%90%E9%8A%80%E8%A1%8C%E9%9B%99%E5%B9%A3%E5%8D%A1?entry=header&from=%E5%85%A8%E9%83%A8',\n",
       " 'https://www.money101.com.tw/%E4%BF%A1%E7%94%A8%E5%8D%A1/%E5%9C%8B%E6%B3%B0%E4%B8%96%E8%8F%AF%E7%8F%BE%E9%87%91%E5%9B%9E%E9%A5%8B%E5%BE%A1%E7%92%BD%E5%8D%A1?entry=header&from=%E5%85%A8%E9%83%A8',\n",
       " 'https://www.money101.com.tw/%E4%BF%A1%E7%94%A8%E5%8D%A1/%E4%B8%8A%E6%B5%B7%E5%95%86%E9%8A%80TERESACARD?entry=header&from=%E5%85%A8%E9%83%A8',\n",
       " 'https://www.money101.com.tw/%E4%BF%A1%E7%94%A8%E5%8D%A1/%E5%90%88%E4%BD%9C%E9%87%91%E5%BA%AB%E9%9B%99%E5%B9%A3%E4%BF%A1%E7%94%A8%E5%8D%A1?entry=header&from=%E5%85%A8%E9%83%A8',\n",
       " 'https://www.money101.com.tw/%E4%BF%A1%E7%94%A8%E5%8D%A1/%E8%87%BA%E7%81%A3%E4%BC%81%E9%8A%80%E6%95%85%E5%AE%AE%E4%B9%8B%E5%8F%8B%E8%AA%8D%E5%90%8C%E5%8D%A1?entry=header&from=%E5%85%A8%E9%83%A8',\n",
       " 'https://www.money101.com.tw/%E4%BF%A1%E7%94%A8%E5%8D%A1/%E7%8E%8B%E9%81%93%E9%8A%80%E8%A1%8Ccama-caf%C3%A8%E8%81%AF%E5%90%8D%E5%8D%A1?entry=header&from=%E5%85%A8%E9%83%A8',\n",
       " 'https://www.money101.com.tw/%E4%BF%A1%E7%94%A8%E5%8D%A1/%E7%8E%8B%E9%81%93%E9%8A%80%E8%A1%8C%E7%B0%BD%E5%B8%B3%E9%87%91%E8%9E%8D%E5%8D%A1?entry=header&from=%E5%85%A8%E9%83%A8',\n",
       " 'https://www.money101.com.tw/%E4%BF%A1%E7%94%A8%E5%8D%A1/%E7%8E%8B%E9%81%93%E9%8A%80%E8%A1%8CFUNNOW%E8%81%AF%E5%90%8D%E5%8D%A1?entry=header&from=%E5%85%A8%E9%83%A8',\n",
       " 'https://www.money101.com.tw/%E4%BF%A1%E7%94%A8%E5%8D%A1/%E8%8F%AF%E5%8D%97%E9%8A%80%E8%A1%8C%E6%97%85%E9%91%BD%E5%95%86%E5%8B%99%E5%BE%A1%E7%92%BD%E5%8D%A1?entry=header&from=%E5%85%A8%E9%83%A8',\n",
       " 'https://www.money101.com.tw/%E4%BF%A1%E7%94%A8%E5%8D%A1/%E6%97%A5%E7%9B%9B%E9%8A%80%E8%A1%8C%E5%95%86%E5%8B%99%E5%BE%A1%E7%92%BD%E5%8D%A1?entry=header&from=%E5%85%A8%E9%83%A8',\n",
       " 'https://www.money101.com.tw/%E4%BF%A1%E7%94%A8%E5%8D%A1/%E6%96%B0%E5%85%89%E9%8A%80%E8%A1%8C%E6%96%B0%E5%85%89%E4%B8%89%E8%B6%8A%E8%81%AF%E5%90%8D%E5%8D%A1?entry=header&from=%E5%85%A8%E9%83%A8',\n",
       " 'https://www.money101.com.tw/%E4%BF%A1%E7%94%A8%E5%8D%A1/%E5%9C%8B%E6%B3%B0%E4%B8%96%E8%8F%AF%E4%BA%AB%E8%B3%BC%E9%88%A6%E9%87%91%E5%8D%A1?entry=header&from=%E5%85%A8%E9%83%A8',\n",
       " 'https://www.money101.com.tw/%E4%BF%A1%E7%94%A8%E5%8D%A1/%E6%B0%B8%E8%B1%90%E9%8A%80%E8%A1%8C%E8%B2%A1%E5%AF%8C%E7%84%A1%E9%99%90%E5%8D%A1?entry=header&from=%E5%85%A8%E9%83%A8',\n",
       " 'https://www.money101.com.tw/%E4%BF%A1%E7%94%A8%E5%8D%A1/%E7%8E%8B%E9%81%93%E9%8A%80%E8%A1%8C%E5%85%AC%E7%9B%8A%E8%AA%8D%E5%90%8C%E5%8D%A1?entry=header&from=%E5%85%A8%E9%83%A8',\n",
       " 'https://www.money101.com.tw/%E4%BF%A1%E7%94%A8%E5%8D%A1/%E5%8F%B0%E7%81%A3%E6%A8%82%E5%A4%A9%E6%A8%82%E5%A4%A9%E4%BF%A1%E7%94%A8%E5%8D%A1?entry=header&from=%E5%85%A8%E9%83%A8',\n",
       " 'https://www.money101.com.tw/%E4%BF%A1%E7%94%A8%E5%8D%A1/%E6%96%B0%E5%85%89%E9%8A%80%E8%A1%8C%E5%AF%B0%E5%AE%87%E7%8F%BE%E9%87%91%E5%9B%9E%E9%A5%8B%E5%8D%A1?entry=header&from=%E5%85%A8%E9%83%A8',\n",
       " 'https://www.money101.com.tw/%E4%BF%A1%E7%94%A8%E5%8D%A1/%E8%81%AF%E9%82%A6%E9%8A%80%E8%A1%8C%E5%B9%B8%E7%A6%8F%E5%BE%A1%E5%AE%88%E5%BE%A1%E7%92%BD%E5%8D%A1?entry=header&from=%E5%85%A8%E9%83%A8',\n",
       " 'https://www.money101.com.tw/%E4%BF%A1%E7%94%A8%E5%8D%A1/%E5%8F%B0%E6%96%B0%E9%8A%80%E8%A1%8C@GOGOICASH%E5%BE%A1%E7%92%BD%E5%8D%A1?entry=header&from=%E5%85%A8%E9%83%A8',\n",
       " 'https://www.money101.com.tw/%E4%BF%A1%E7%94%A8%E5%8D%A1/%E5%85%86%E8%B1%90%E9%8A%80%E8%A1%8CGOGORO%E8%81%AF%E5%90%8D%E5%8D%A1?entry=header&from=%E5%85%A8%E9%83%A8',\n",
       " 'https://www.money101.com.tw/%E4%BF%A1%E7%94%A8%E5%8D%A1/%E5%8F%B0%E6%96%B0%E9%8A%80%E8%A1%8C%E9%81%A0%E5%82%B3FRIDAY%E8%81%AF%E5%90%8D%E5%8D%A1?entry=header&from=%E5%85%A8%E9%83%A8',\n",
       " 'https://www.money101.com.tw/%E4%BF%A1%E7%94%A8%E5%8D%A1/%E5%8F%B0%E6%96%B0%E9%8A%80%E8%A1%8C%E5%8F%B0%E6%96%B0%E8%A1%97%E5%8F%A3%E8%81%AF%E5%90%8D%E5%8D%A1?entry=header&from=%E5%85%A8%E9%83%A8',\n",
       " 'https://www.money101.com.tw/%E4%BF%A1%E7%94%A8%E5%8D%A1/%E5%85%86%E8%B1%90%E9%8A%80%E8%A1%8CMEGAONE%E4%B8%80%E5%8D%A1%E9%80%9A%E8%81%AF%E5%90%8D%E5%8D%A1?entry=header&from=%E5%85%A8%E9%83%A8',\n",
       " 'https://www.money101.com.tw/%E4%BF%A1%E7%94%A8%E5%8D%A1/%E5%8F%B0%E6%96%B0%E9%8A%80%E8%A1%8C%E4%BA%9E%E6%B4%B2%E7%84%A1%E9%99%90%E5%8D%A1?entry=header&from=%E5%85%A8%E9%83%A8',\n",
       " 'https://www.money101.com.tw/%E4%BF%A1%E7%94%A8%E5%8D%A1/%E5%8F%B0%E6%96%B0%E9%8A%80%E8%A1%8C%E7%92%B0%E7%90%83%E7%84%A1%E9%99%90%E5%8D%A1?entry=header&from=%E5%85%A8%E9%83%A8',\n",
       " 'https://www.money101.com.tw/%E4%BF%A1%E7%94%A8%E5%8D%A1/%E5%8F%B0%E5%8C%97%E5%AF%8C%E9%82%A6IMPERIAL%E5%B0%8A%E5%BE%A1%E4%B8%96%E7%95%8C%E5%8D%A1?entry=header&from=%E5%85%A8%E9%83%A8',\n",
       " 'https://www.money101.com.tw/%E4%BF%A1%E7%94%A8%E5%8D%A1/%E5%87%B1%E5%9F%BA%E9%8A%80%E8%A1%8C%E7%8F%BE%E9%87%91%E5%9B%9E%E9%A5%8B%E9%88%A6%E9%87%91%E5%8D%A1?entry=header&from=%E5%85%A8%E9%83%A8',\n",
       " 'https://www.money101.com.tw/%E4%BF%A1%E7%94%A8%E5%8D%A1/%E5%87%B1%E5%9F%BA%E9%8A%80%E8%A1%8C%E7%8F%BE%E9%87%91%E5%9B%9E%E9%A5%8B%E5%BE%A1%E7%92%BD%E5%8D%A1?entry=header&from=%E5%85%A8%E9%83%A8',\n",
       " 'https://www.money101.com.tw/%E4%BF%A1%E7%94%A8%E5%8D%A1/%E4%B8%8A%E6%B5%B7%E5%95%86%E9%8A%80%E5%B0%8F%E5%B0%8F%E5%85%B5BeeDo%E5%88%86%E6%9C%9F%E5%8D%A1?entry=header&from=%E5%85%A8%E9%83%A8',\n",
       " 'https://www.money101.com.tw/%E4%BF%A1%E7%94%A8%E5%8D%A1/%E7%8E%89%E5%B1%B1%E9%8A%80%E8%A1%8C%E9%9B%99%E5%B9%A3%E4%BF%A1%E7%94%A8%E5%8D%A1?entry=header&from=%E5%85%A8%E9%83%A8',\n",
       " 'https://www.money101.com.tw/%E4%BF%A1%E7%94%A8%E5%8D%A1/%E5%BD%B0%E5%8C%96%E9%8A%80%E8%A1%8C%E5%95%86%E6%97%85%E5%BE%A1%E7%92%BD%E5%8D%A1?entry=header&from=%E5%85%A8%E9%83%A8',\n",
       " 'https://www.money101.com.tw/%E4%BF%A1%E7%94%A8%E5%8D%A1/%E6%B0%B8%E8%B1%90%E9%8A%80%E8%A1%8C%E5%A4%A2%E8%A1%8C%E5%8D%A1?entry=header&from=%E5%85%A8%E9%83%A8',\n",
       " 'https://www.money101.com.tw/%E4%BF%A1%E7%94%A8%E5%8D%A1/%E8%87%BA%E7%81%A3%E4%BC%81%E9%8A%80%E9%88%A6%E9%87%91%E5%95%86%E6%97%85%E5%8D%A1?entry=header&from=%E5%85%A8%E9%83%A8',\n",
       " 'https://www.money101.com.tw/%E4%BF%A1%E7%94%A8%E5%8D%A1/%E5%85%86%E8%B1%90%E9%8A%80%E8%A1%8CE%E7%A7%92%E5%88%B7%E9%88%A6%E9%87%91%E5%8D%A1?entry=header&from=%E5%85%A8%E9%83%A8',\n",
       " 'https://www.money101.com.tw/%E4%BF%A1%E7%94%A8%E5%8D%A1/%E5%8F%B0%E6%96%B0%E9%8A%80%E8%A1%8C%E6%98%87%E6%81%86%E6%98%8C%E8%81%AF%E5%90%8D%E5%8D%A1?entry=header&from=%E5%85%A8%E9%83%A8',\n",
       " 'https://www.money101.com.tw/%E4%BF%A1%E7%94%A8%E5%8D%A1/%E8%8A%B1%E6%97%97%E9%8A%80%E8%A1%8CPCHOMEPRIME%E8%81%AF%E5%90%8D%E5%8D%A1?entry=header&from=%E5%85%A8%E9%83%A8',\n",
       " 'https://www.money101.com.tw/%E4%BF%A1%E7%94%A8%E5%8D%A1/%E5%90%88%E4%BD%9C%E9%87%91%E5%BA%ABJCB%E6%82%A0%E9%81%8A%E6%99%B6%E7%B7%BB%E5%8D%A1?entry=header&from=%E5%85%A8%E9%83%A8',\n",
       " 'https://www.money101.com.tw/%E4%BF%A1%E7%94%A8%E5%8D%A1/%E8%87%BA%E7%81%A3%E4%BC%81%E9%8A%80%E5%8C%97%E6%B8%AF%E6%9C%9D%E5%A4%A9%E5%AE%AE%E5%AA%BD%E7%A5%96%E8%AA%8D%E5%90%8C%E5%8D%A1?entry=header&from=%E5%85%A8%E9%83%A8',\n",
       " 'https://www.money101.com.tw/%E4%BF%A1%E7%94%A8%E5%8D%A1/%E8%87%BA%E7%81%A3%E9%8A%80%E8%A1%8C%E9%88%A6%E9%87%91%E5%95%86%E6%97%85%E5%8D%A1?entry=header&from=%E5%85%A8%E9%83%A8',\n",
       " 'https://www.money101.com.tw/%E4%BF%A1%E7%94%A8%E5%8D%A1/%E6%B0%B8%E8%B1%90%E9%8A%80%E8%A1%8CPRESTIGE%E7%BE%8E%E5%9C%8B%E9%81%8B%E9%80%9A%E5%8D%A1?entry=header&from=%E5%85%A8%E9%83%A8',\n",
       " 'https://www.money101.com.tw/%E4%BF%A1%E7%94%A8%E5%8D%A1/%E9%99%BD%E4%BF%A1%E9%8A%80%E8%A1%8C%E4%B8%80%E5%8D%A1%E9%80%9A%E8%81%AF%E5%90%8D%E9%88%A6%E9%87%91%E5%8D%A1?entry=header&from=%E5%85%A8%E9%83%A8',\n",
       " 'https://www.money101.com.tw/%E4%BF%A1%E7%94%A8%E5%8D%A1/%E6%98%9F%E5%B1%95%E9%8A%80%E8%A1%8CEVERYDAY%E9%88%A6%E9%87%91%E5%8D%A1?entry=header&from=%E5%85%A8%E9%83%A8',\n",
       " 'https://www.money101.com.tw/%E4%BF%A1%E7%94%A8%E5%8D%A1/%E7%8E%89%E5%B1%B1%E9%8A%80%E8%A1%8CUBear%E4%BF%A1%E7%94%A8%E5%8D%A1?entry=header&from=%E5%85%A8%E9%83%A8',\n",
       " 'https://www.money101.com.tw/%E4%BF%A1%E7%94%A8%E5%8D%A1/%E8%8F%AF%E5%8D%97%E9%8A%80%E8%A1%8C%E8%B6%85%E7%B4%9A%E7%8F%BE%E9%87%91%E5%9B%9E%E9%A5%8B%E5%8D%A1?entry=header&from=%E5%85%A8%E9%83%A8',\n",
       " 'https://www.money101.com.tw/%E4%BF%A1%E7%94%A8%E5%8D%A1/%E5%8F%B0%E4%B8%AD%E5%95%86%E9%8A%80JCB%E5%93%86%E5%95%A6A%E5%A4%A2%E6%99%B6%E7%B7%BB%E5%8D%A1?entry=header&from=%E5%85%A8%E9%83%A8',\n",
       " 'https://www.money101.com.tw/%E4%BF%A1%E7%94%A8%E5%8D%A1/%E5%90%88%E4%BD%9C%E9%87%91%E5%BA%AB%E5%88%A9HIGH%E5%8D%A1?entry=header&from=%E5%85%A8%E9%83%A8',\n",
       " 'https://www.money101.com.tw/%E4%BF%A1%E7%94%A8%E5%8D%A1/%E5%90%88%E4%BD%9C%E9%87%91%E5%BA%AB%E5%8D%A1%E5%A8%9C%E8%B5%AB%E6%8B%89%E7%9A%84%E5%B0%8F%E5%8B%95%E7%89%A9ICASH%E8%81%AF%E5%90%8D%E5%8D%A1?entry=header&from=%E5%85%A8%E9%83%A8',\n",
       " 'https://www.money101.com.tw/%E4%BF%A1%E7%94%A8%E5%8D%A1/%E5%87%B1%E5%9F%BA%E9%8A%80%E8%A1%8C%E9%AD%94FUN%E6%82%A0%E9%81%8A%E5%BE%A1%E7%92%BD%E5%8D%A1?entry=header&from=%E5%85%A8%E9%83%A8',\n",
       " 'https://www.money101.com.tw/%E4%BF%A1%E7%94%A8%E5%8D%A1/%E5%9C%9F%E5%9C%B0%E9%8A%80%E8%A1%8CJCB%E4%B8%80%E5%8D%A1%E9%80%9A%E8%81%AF%E5%90%8D%E6%99%B6%E7%B7%BB%E5%8D%A1?entry=header&from=%E5%85%A8%E9%83%A8',\n",
       " 'https://www.money101.com.tw/%E4%BF%A1%E7%94%A8%E5%8D%A1/%E5%87%B1%E5%9F%BA%E9%8A%80%E8%A1%8C%E4%B8%AD%E5%A3%BD%E8%81%AF%E5%90%8D%E5%8D%A1?entry=header&from=%E5%85%A8%E9%83%A8',\n",
       " 'https://www.money101.com.tw/%E4%BF%A1%E7%94%A8%E5%8D%A1/%E5%9C%9F%E5%9C%B0%E9%8A%80%E8%A1%8C%E7%99%BD%E9%87%91%E5%95%86%E5%8B%99%E5%8D%A1?entry=header&from=%E5%85%A8%E9%83%A8',\n",
       " 'https://www.money101.com.tw/%E4%BF%A1%E7%94%A8%E5%8D%A1/%E5%85%83%E5%A4%A7%E9%8A%80%E8%A1%8C%E8%97%9D%E8%A1%93%E7%99%BD%E9%87%91%E5%8D%A1?entry=header&from=%E5%85%A8%E9%83%A8',\n",
       " 'https://www.money101.com.tw/%E4%BF%A1%E7%94%A8%E5%8D%A1/%E7%8E%89%E5%B1%B1%E9%8A%80%E8%A1%8C%E6%BC%A2%E7%A5%9E%E5%B7%A8%E8%9B%8B%E8%81%AF%E5%90%8D%E5%8D%A1?entry=header&from=%E5%85%A8%E9%83%A8',\n",
       " 'https://www.money101.com.tw/%E4%BF%A1%E7%94%A8%E5%8D%A1/%E5%90%88%E4%BD%9C%E9%87%91%E5%BA%AB%E6%BC%A2%E4%BE%86%E7%BE%8E%E9%A3%9F%E8%81%AF%E5%90%8D%E5%8D%A1?entry=header&from=%E5%85%A8%E9%83%A8',\n",
       " 'https://www.money101.com.tw/%E4%BF%A1%E7%94%A8%E5%8D%A1/%E7%8E%89%E5%B1%B1%E9%8A%80%E8%A1%8C%E7%8E%89%E5%B1%B1%E4%B8%96%E7%95%8C%E5%8D%A1?entry=header&from=%E5%85%A8%E9%83%A8',\n",
       " 'https://www.money101.com.tw/%E4%BF%A1%E7%94%A8%E5%8D%A1/%E5%85%86%E8%B1%90%E9%8A%80%E8%A1%8C%E4%B8%96%E7%95%8C%E5%8D%A1?entry=header&from=%E5%85%A8%E9%83%A8',\n",
       " 'https://www.money101.com.tw/%E4%BF%A1%E7%94%A8%E5%8D%A1/%E5%AE%89%E6%B3%B0%E9%8A%80%E8%A1%8C%E6%99%B6%E7%B7%BB%E5%8D%A1?entry=header&from=%E5%85%A8%E9%83%A8',\n",
       " 'https://www.money101.com.tw/%E4%BF%A1%E7%94%A8%E5%8D%A1/%E5%AE%89%E6%B3%B0%E9%8A%80%E8%A1%8C%E9%88%A6%E9%87%91%E5%8D%A1?entry=header&from=%E5%85%A8%E9%83%A8',\n",
       " 'https://www.money101.com.tw/%E4%BF%A1%E7%94%A8%E5%8D%A1/%E8%81%AF%E9%82%A6%E9%8A%80%E8%A1%8C%E7%90%86%E8%B2%A1%E5%9E%8B%E7%99%BD%E9%87%91%E5%8D%A1?entry=header&from=%E5%85%A8%E9%83%A8',\n",
       " 'https://www.money101.com.tw/%E4%BF%A1%E7%94%A8%E5%8D%A1/%E4%B8%89%E4%BF%A1%E9%8A%80%E8%A1%8CVISA%E7%99%BD%E9%87%91%E5%8D%A1?entry=header&from=%E5%85%A8%E9%83%A8',\n",
       " 'https://www.money101.com.tw/%E4%BF%A1%E7%94%A8%E5%8D%A1/%E5%8F%B0%E5%8C%97%E5%AF%8C%E9%82%A6%E6%95%B8%E4%BD%8D%E7%94%9F%E6%B4%BB%E5%8D%A1?entry=header&from=%E5%85%A8%E9%83%A8',\n",
       " 'https://www.money101.com.tw/%E4%BF%A1%E7%94%A8%E5%8D%A1/%E5%8F%B0%E5%8C%97%E5%AF%8C%E9%82%A6%E9%91%BD%E4%BF%9D%E5%8D%A1?entry=header&from=%E5%85%A8%E9%83%A8',\n",
       " 'https://www.money101.com.tw/%E4%BF%A1%E7%94%A8%E5%8D%A1/%E6%B0%B8%E8%B1%90%E9%8A%80%E8%A1%8CMECARD?entry=header&from=%E5%85%A8%E9%83%A8',\n",
       " 'https://www.money101.com.tw/%E4%BF%A1%E7%94%A8%E5%8D%A1/%E6%B0%B8%E8%B1%90%E9%8A%80%E8%A1%8C%E9%88%A6%E8%B1%90%E5%8D%A1?entry=header&from=%E5%85%A8%E9%83%A8',\n",
       " 'https://www.money101.com.tw/%E4%BF%A1%E7%94%A8%E5%8D%A1/%E4%B8%AD%E5%9C%8B%E4%BF%A1%E8%A8%97%E5%AF%B0%E9%81%8A%E7%BE%8E%E5%9C%8B%E9%81%8B%E9%80%9A%E5%8D%A1?entry=header&from=%E5%85%A8%E9%83%A8',\n",
       " 'https://www.money101.com.tw/%E4%BF%A1%E7%94%A8%E5%8D%A1/%E7%8E%89%E5%B1%B1%E9%8A%80%E8%A1%8C%E5%B9%B8%E9%81%8B%E9%88%A6%E9%87%91%E5%8D%A1?entry=header&from=%E5%85%A8%E9%83%A8',\n",
       " 'https://www.money101.com.tw/%E4%BF%A1%E7%94%A8%E5%8D%A1/%E7%8E%89%E5%B1%B1%E9%8A%80%E8%A1%8C%E5%B9%B8%E9%81%8BPLUS%E9%88%A6%E9%87%91%E5%8D%A1?entry=header&from=%E5%85%A8%E9%83%A8',\n",
       " 'https://www.money101.com.tw/%E4%BF%A1%E7%94%A8%E5%8D%A1/%E8%81%AF%E9%82%A6%E9%8A%80%E8%A1%8C%E6%A8%82%E6%B4%BB%E6%82%A0%E9%81%8A%E5%BE%A1%E7%92%BD%E5%8D%A1?entry=header&from=%E5%85%A8%E9%83%A8',\n",
       " 'https://www.money101.com.tw/%E4%BF%A1%E7%94%A8%E5%8D%A1/%E7%AC%AC%E4%B8%80%E9%8A%80%E8%A1%8CWONDERFUL%E6%98%9F%E7%92%A8%E5%8D%A1?entry=header&from=%E5%85%A8%E9%83%A8',\n",
       " 'https://www.money101.com.tw/%E4%BF%A1%E7%94%A8%E5%8D%A1/%E6%97%A5%E7%9B%9B%E9%8A%80%E8%A1%8CGOGO%E5%8D%A1?entry=header&from=%E5%85%A8%E9%83%A8',\n",
       " 'https://www.money101.com.tw/%E4%BF%A1%E7%94%A8%E5%8D%A1/%E5%9C%8B%E6%B3%B0%E4%B8%96%E8%8F%AF%E5%9C%8B%E6%B3%B0%E4%BA%BA%E5%A3%BD%E7%99%BD%E9%87%91%E5%8D%A1?entry=header&from=%E5%85%A8%E9%83%A8',\n",
       " 'https://www.money101.com.tw/%E4%BF%A1%E7%94%A8%E5%8D%A1/%E8%81%AF%E9%82%A6%E9%8A%80%E8%A1%8C%E8%BE%B2%E9%87%91%E4%B8%80%E5%8D%A1%E9%80%9A%E8%81%AF%E5%90%8D%E5%8D%A1?entry=header&from=%E5%85%A8%E9%83%A8',\n",
       " 'https://www.money101.com.tw/%E4%BF%A1%E7%94%A8%E5%8D%A1/%E8%81%AF%E9%82%A6%E9%8A%80%E8%A1%8CF1%E5%8A%A0%E6%B2%B9%E5%8D%A1?entry=header&from=%E5%85%A8%E9%83%A8',\n",
       " 'https://www.money101.com.tw/%E4%BF%A1%E7%94%A8%E5%8D%A1/%E5%9C%8B%E6%B3%B0%E4%B8%96%E8%8F%AF%E8%9D%A6%E7%9A%AE%E8%B3%BC%E7%89%A9%E8%81%AF%E5%90%8D%E5%8D%A1?entry=header&from=%E5%85%A8%E9%83%A8',\n",
       " 'https://www.money101.com.tw/%E4%BF%A1%E7%94%A8%E5%8D%A1/%E5%8F%B0%E6%96%B0%E9%8A%80%E8%A1%8C%E7%87%A6%E5%9D%A4%E7%94%9F%E6%B4%BB%E8%81%AF%E5%90%8D%E5%8D%A1?entry=header&from=%E5%85%A8%E9%83%A8',\n",
       " 'https://www.money101.com.tw/%E4%BF%A1%E7%94%A8%E5%8D%A1/%E5%8F%B0%E5%8C%97%E5%AF%8C%E9%82%A6%E8%B2%A1%E7%A5%9E%E5%8D%A1?entry=header&from=%E5%85%A8%E9%83%A8',\n",
       " 'https://www.money101.com.tw/%E4%BF%A1%E7%94%A8%E5%8D%A1/%E5%8F%B0%E5%8C%97%E5%AF%8C%E9%82%A6%E5%8F%B0%E7%81%A3%E5%A4%A7%E5%93%A5%E5%A4%A7%E6%82%A0%E9%81%8A%E8%81%AF%E5%90%8D%E5%8D%A1?entry=header&from=%E5%85%A8%E9%83%A8',\n",
       " 'https://www.money101.com.tw/%E4%BF%A1%E7%94%A8%E5%8D%A1/%E8%87%BA%E7%81%A3%E4%BC%81%E9%8A%80%E6%82%A0%E9%81%8A%E8%81%AF%E5%90%8D%E5%8D%A1?entry=header&from=%E5%85%A8%E9%83%A8',\n",
       " 'https://www.money101.com.tw/%E4%BF%A1%E7%94%A8%E5%8D%A1/%E5%8F%B0%E6%96%B0%E9%8A%80%E8%A1%8C%E4%B8%89%E5%95%86%E7%BE%8E%E9%82%A6%E4%BA%BA%E5%A3%BD%E8%81%AF%E5%90%8D%E5%8D%A1?entry=header&from=%E5%85%A8%E9%83%A8',\n",
       " 'https://www.money101.com.tw/%E4%BF%A1%E7%94%A8%E5%8D%A1/%E5%85%86%E8%B1%90%E9%8A%80%E8%A1%8C%E5%B9%B8%E7%A6%8F%E5%8D%A1?entry=header&from=%E5%85%A8%E9%83%A8',\n",
       " 'https://www.money101.com.tw/%E4%BF%A1%E7%94%A8%E5%8D%A1/%E5%85%83%E5%A4%A7%E9%8A%80%E8%A1%8C%E4%B8%96%E7%95%8C%E5%8D%A1?entry=header&from=%E5%85%A8%E9%83%A8',\n",
       " 'https://www.money101.com.tw/%E4%BF%A1%E7%94%A8%E5%8D%A1/%E5%9C%9F%E5%9C%B0%E9%8A%80%E8%A1%8C%E5%9C%8B%E9%9A%9B%E4%BF%A1%E7%94%A8%E5%8D%A1?entry=header&from=%E5%85%A8%E9%83%A8',\n",
       " 'https://www.money101.com.tw/%E4%BF%A1%E7%94%A8%E5%8D%A1/%E7%8E%89%E5%B1%B1%E9%8A%80%E8%A1%8C%E5%AE%B6%E6%A8%82%E7%A6%8F%E6%82%A0%E9%81%8A%E8%81%AF%E5%90%8D%E5%8D%A1?entry=header&from=%E5%85%A8%E9%83%A8',\n",
       " 'https://www.money101.com.tw/%E4%BF%A1%E7%94%A8%E5%8D%A1/%E7%8E%89%E5%B1%B1%E9%8A%80%E8%A1%8C%E5%AE%B6%E6%A8%82%E7%A6%8FICASH%E8%81%AF%E5%90%8D%E5%8D%A1?entry=header&from=%E5%85%A8%E9%83%A8',\n",
       " 'https://www.money101.com.tw/%E4%BF%A1%E7%94%A8%E5%8D%A1/%E6%96%B0%E5%85%89%E9%8A%80%E8%A1%8C%E9%AD%94%E6%B3%95%E5%B0%91%E5%A5%B3%E4%B8%80%E5%8D%A1%E9%80%9A%E9%88%A6%E9%87%91%E5%8D%A1?entry=header&from=%E5%85%A8%E9%83%A8',\n",
       " 'https://www.money101.com.tw/%E4%BF%A1%E7%94%A8%E5%8D%A1/%E6%96%B0%E5%85%89%E9%8A%80%E8%A1%8C%E6%82%A0%E9%81%8A%E8%81%AF%E5%90%8D%E5%8D%A1?entry=header&from=%E5%85%A8%E9%83%A8',\n",
       " 'https://www.money101.com.tw/%E4%BF%A1%E7%94%A8%E5%8D%A1/%E5%8F%B0%E6%96%B0%E9%8A%80%E8%A1%8C%E5%A4%AA%E9%99%BD%E5%8D%A1?entry=header&from=%E5%85%A8%E9%83%A8',\n",
       " 'https://www.money101.com.tw/%E4%BF%A1%E7%94%A8%E5%8D%A1/%E5%8F%B0%E6%96%B0%E9%8A%80%E8%A1%8C%E7%8E%AB%E7%91%B0%E5%8D%A1?entry=header&from=%E5%85%A8%E9%83%A8',\n",
       " 'https://www.money101.com.tw/%E4%BF%A1%E7%94%A8%E5%8D%A1/%E5%8F%B0%E6%96%B0%E9%8A%80%E8%A1%8CETC%E8%81%AF%E5%90%8D%E5%8D%A1?entry=header&from=%E5%85%A8%E9%83%A8',\n",
       " 'https://www.money101.com.tw/%E4%BF%A1%E7%94%A8%E5%8D%A1/%E7%AC%AC%E4%B8%80%E9%8A%80%E8%A1%8CI-FUN%E6%84%9B%E7%8E%A9%E6%A8%82%E5%8D%A1?entry=header&from=%E5%85%A8%E9%83%A8',\n",
       " 'https://www.money101.com.tw/%E4%BF%A1%E7%94%A8%E5%8D%A1/%E8%81%AF%E9%82%A6%E9%8A%80%E8%A1%8C%E9%A0%86%E7%99%BC%E8%81%AF%E5%90%8D%E5%8D%A1?entry=header&from=%E5%85%A8%E9%83%A8',\n",
       " 'https://www.money101.com.tw/%E4%BF%A1%E7%94%A8%E5%8D%A1/%E5%9C%8B%E6%B3%B0%E4%B8%96%E8%8F%AFKOKOCOMBOICASH%E8%81%AF%E5%90%8D%E5%8D%A1?entry=header&from=%E5%85%A8%E9%83%A8',\n",
       " 'https://www.money101.com.tw/%E4%BF%A1%E7%94%A8%E5%8D%A1/%E5%BD%B0%E5%8C%96%E9%8A%80%E8%A1%8CJCB%E6%82%A0%E9%81%8A%E6%99%B6%E7%B7%BB%E5%8D%A1?entry=header&from=%E5%85%A8%E9%83%A8',\n",
       " 'https://www.money101.com.tw/%E4%BF%A1%E7%94%A8%E5%8D%A1/%E5%BD%B0%E5%8C%96%E9%8A%80%E8%A1%8CVISA%E4%B8%80%E5%8D%A1%E9%80%9A%E5%BE%A1%E7%92%BD%E5%8D%A1?entry=header&from=%E5%85%A8%E9%83%A8',\n",
       " 'https://www.money101.com.tw/%E4%BF%A1%E7%94%A8%E5%8D%A1/%E5%9C%8B%E6%B3%B0%E4%B8%96%E8%8F%AFKOKOICASH%E8%81%AF%E5%90%8D%E5%8D%A1?entry=header&from=%E5%85%A8%E9%83%A8',\n",
       " 'https://www.money101.com.tw/%E4%BF%A1%E7%94%A8%E5%8D%A1/%E6%B8%A3%E6%89%93%E9%8A%80%E8%A1%8C%E6%98%87%E5%88%A9%E5%8D%A1(%E7%8F%BE%E9%87%91%E5%9B%9E%E9%A5%8B)?entry=header&from=%E5%85%A8%E9%83%A8',\n",
       " 'https://www.money101.com.tw/%E4%BF%A1%E7%94%A8%E5%8D%A1/%E6%97%A5%E7%9B%9B%E9%8A%80%E8%A1%8CALLPASS%E5%8D%A1?entry=header&from=%E5%85%A8%E9%83%A8',\n",
       " 'https://www.money101.com.tw/%E4%BF%A1%E7%94%A8%E5%8D%A1/%E5%8F%B0%E6%96%B0%E9%8A%80%E8%A1%8C%E8%B3%93%E5%A3%ABSMART%E8%81%AF%E5%90%8D%E5%8D%A1?entry=header&from=%E5%85%A8%E9%83%A8',\n",
       " 'https://www.money101.com.tw/%E4%BF%A1%E7%94%A8%E5%8D%A1/%E7%8E%89%E5%B1%B1%E9%8A%80%E8%A1%8CETAG%E6%82%A0%E9%81%8A%E8%81%AF%E5%90%8D%E5%8D%A1?entry=header&from=%E5%85%A8%E9%83%A8',\n",
       " 'https://www.money101.com.tw/%E4%BF%A1%E7%94%A8%E5%8D%A1/%E5%8F%B0%E6%96%B0%E9%8A%80%E8%A1%8C%E5%85%A8%E5%AE%B6FISH%E6%82%A0%E9%81%8A%E8%81%AF%E5%90%8D%E5%8D%A1?entry=header&from=%E5%85%A8%E9%83%A8',\n",
       " 'https://www.money101.com.tw/%E4%BF%A1%E7%94%A8%E5%8D%A1/%E5%85%86%E8%B1%90%E9%8A%80%E8%A1%8C%E4%B8%AD%E8%88%88%E4%BF%9D%E5%85%A8%E8%81%AF%E5%90%8D%E5%8D%A1?entry=header&from=%E5%85%A8%E9%83%A8',\n",
       " 'https://www.money101.com.tw/%E4%BF%A1%E7%94%A8%E5%8D%A1/%E8%8F%AF%E5%8D%97%E9%8A%80%E8%A1%8CLOVE%E6%99%B6%E7%B7%BB%E6%82%A0%E9%81%8A%E8%81%AF%E5%90%8D%E5%8D%A1%EF%BC%8D%E9%85%B7%E6%84%9B%E9%BB%91%E5%8D%A1?entry=header&from=%E5%85%A8%E9%83%A8',\n",
       " 'https://www.money101.com.tw/%E4%BF%A1%E7%94%A8%E5%8D%A1/%E8%8F%AF%E5%8D%97%E9%8A%80%E8%A1%8C%E6%AB%83%E8%B2%B7%E8%B4%8F%E5%AE%B6%E7%94%9F%E6%B4%BB%E5%8D%A1?entry=header&from=%E5%85%A8%E9%83%A8',\n",
       " 'https://www.money101.com.tw/%E4%BF%A1%E7%94%A8%E5%8D%A1/%E6%B0%B8%E8%B1%90%E9%8A%80%E8%A1%8CVOGUE%E8%81%AF%E5%90%8D%E5%8D%A1?entry=header&from=%E5%85%A8%E9%83%A8',\n",
       " 'https://www.money101.com.tw/%E4%BF%A1%E7%94%A8%E5%8D%A1/%E4%B8%AD%E5%9C%8B%E4%BF%A1%E8%A8%97LINEPAY%E5%8D%A1?entry=header&from=%E5%85%A8%E9%83%A8',\n",
       " 'https://www.money101.com.tw/%E4%BF%A1%E7%94%A8%E5%8D%A1/%E7%8E%89%E5%B1%B1%E9%8A%80%E8%A1%8CICASH%E8%81%AF%E5%90%8D%E5%8D%A1?entry=header&from=%E5%85%A8%E9%83%A8',\n",
       " 'https://www.money101.com.tw/%E4%BF%A1%E7%94%A8%E5%8D%A1/%E7%8E%89%E5%B1%B1%E9%8A%80%E8%A1%8C%E5%95%86%E5%8B%99%E5%BE%A1%E7%92%BD%E5%8D%A1?entry=header&from=%E5%85%A8%E9%83%A8',\n",
       " 'https://www.money101.com.tw/%E4%BF%A1%E7%94%A8%E5%8D%A1/%E8%8F%AF%E5%8D%97%E9%8A%80%E8%A1%8CI%E7%B6%B2%E8%B3%BC%E7%94%9F%E6%B4%BB%E5%8D%A1?entry=header&from=%E5%85%A8%E9%83%A8',\n",
       " 'https://www.money101.com.tw/%E4%BF%A1%E7%94%A8%E5%8D%A1/%E5%85%83%E5%A4%A7%E9%8A%80%E8%A1%8C%E6%84%9BPASS%E9%88%A6%E9%87%91%E5%8D%A1?entry=header&from=%E5%85%A8%E9%83%A8',\n",
       " 'https://www.money101.com.tw/%E4%BF%A1%E7%94%A8%E5%8D%A1/%E8%81%AF%E9%82%A6%E9%8A%80%E8%A1%8C%E5%BE%AE%E9%A2%A8%E8%81%AF%E5%90%8D%E5%8D%A1?entry=header&from=%E5%85%A8%E9%83%A8',\n",
       " 'https://www.money101.com.tw/%E4%BF%A1%E7%94%A8%E5%8D%A1/%E5%85%83%E5%A4%A7%E9%8A%80%E8%A1%8C%E5%88%86%E4%BA%AB%E5%8D%A1?entry=header&from=%E5%85%A8%E9%83%A8',\n",
       " 'https://www.money101.com.tw/%E4%BF%A1%E7%94%A8%E5%8D%A1/%E5%8F%B0%E6%96%B0%E9%8A%80%E8%A1%8C%E6%96%B0%E5%85%89%E4%B8%89%E8%B6%8A%E8%81%AF%E5%90%8D%E5%8D%A1?entry=header&from=%E5%85%A8%E9%83%A8',\n",
       " 'https://www.money101.com.tw/%E4%BF%A1%E7%94%A8%E5%8D%A1/%E5%8F%B0%E6%96%B0%E9%8A%80%E8%A1%8C%E5%A4%A7%E6%BD%A4%E7%99%BC%E8%81%AF%E5%90%8D%E5%8D%A1?entry=header&from=%E5%85%A8%E9%83%A8',\n",
       " 'https://www.money101.com.tw/%E4%BF%A1%E7%94%A8%E5%8D%A1/%E5%85%83%E5%A4%A7%E9%8A%80%E8%A1%8C%E6%A8%82%E9%81%8A%E5%8D%A1?entry=header&from=%E5%85%A8%E9%83%A8',\n",
       " 'https://www.money101.com.tw/%E4%BF%A1%E7%94%A8%E5%8D%A1/%E5%85%86%E8%B1%90%E9%8A%80%E8%A1%8C%E6%82%A0%E9%81%8A%E8%81%AF%E5%90%8D%E5%8D%A1?entry=header&from=%E5%85%A8%E9%83%A8',\n",
       " 'https://www.money101.com.tw/%E4%BF%A1%E7%94%A8%E5%8D%A1/%E7%AC%AC%E4%B8%80%E9%8A%80%E8%A1%8C%E5%AA%9A%E5%84%B7%E9%88%A6%E9%87%91%E5%8D%A1?entry=header&from=%E5%85%A8%E9%83%A8',\n",
       " 'https://www.money101.com.tw/%E4%BF%A1%E7%94%A8%E5%8D%A1/%E5%9C%8B%E6%B3%B0%E4%B8%96%E8%8F%AF%E5%8F%B0%E5%A1%91%E8%81%AF%E5%90%8D%E5%8D%A1?entry=header&from=%E5%85%A8%E9%83%A8',\n",
       " 'https://www.money101.com.tw/%E4%BF%A1%E7%94%A8%E5%8D%A1/%E9%AB%98%E9%9B%84%E9%8A%80%E8%A1%8C%E9%AB%98%E9%9B%84GOING%E9%88%A6%E9%87%91%E5%8D%A1?entry=header&from=%E5%85%A8%E9%83%A8',\n",
       " 'https://www.money101.com.tw/%E4%BF%A1%E7%94%A8%E5%8D%A1/%E7%8E%89%E5%B1%B1%E9%8A%80%E8%A1%8C%E4%BD%90%E7%99%BB%E5%A6%AE%E7%B5%B2%E8%81%AF%E5%90%8D%E5%8D%A1?entry=header&from=%E5%85%A8%E9%83%A8',\n",
       " 'https://www.money101.com.tw/%E4%BF%A1%E7%94%A8%E5%8D%A1/%E5%9C%8B%E6%B3%B0%E4%B8%96%E8%8F%AFCOSTCO%E8%81%AF%E5%90%8D%E5%8D%A1?entry=header&from=%E5%85%A8%E9%83%A8',\n",
       " 'https://www.money101.com.tw/%E4%BF%A1%E7%94%A8%E5%8D%A1/%E5%8F%B0%E4%B8%AD%E5%95%86%E9%8A%80%E5%AA%BD%E7%A5%96%E7%99%BD%E9%87%91%E5%8D%A1?entry=header&from=%E5%85%A8%E9%83%A8',\n",
       " 'https://www.money101.com.tw/%E4%BF%A1%E7%94%A8%E5%8D%A1/%E6%B8%A3%E6%89%93%E9%8A%80%E8%A1%8C%E5%84%AA%E5%85%88%E7%90%86%E8%B2%A1%E7%84%A1%E9%99%90%E5%8D%A1?entry=header&from=%E5%85%A8%E9%83%A8',\n",
       " 'https://www.money101.com.tw/%E4%BF%A1%E7%94%A8%E5%8D%A1/%E4%B8%AD%E5%9C%8B%E4%BF%A1%E8%A8%97IPLAN%E5%8D%A1?entry=header&from=%E5%85%A8%E9%83%A8',\n",
       " 'https://www.money101.com.tw/%E4%BF%A1%E7%94%A8%E5%8D%A1/%E7%8E%89%E5%B1%B1%E9%8A%80%E8%A1%8C%E6%82%A0%E9%81%8A%E8%81%AF%E5%90%8D%E5%8D%A1?entry=header&from=%E5%85%A8%E9%83%A8',\n",
       " 'https://www.money101.com.tw/%E4%BF%A1%E7%94%A8%E5%8D%A1/%E7%8E%89%E5%B1%B1%E9%8A%80%E8%A1%8C%E5%B1%B1%E9%9A%86%E5%84%AA%E6%B2%B9%E5%8D%A1?entry=header&from=%E5%85%A8%E9%83%A8',\n",
       " 'https://www.money101.com.tw/%E4%BF%A1%E7%94%A8%E5%8D%A1/%E7%8E%89%E5%B1%B1%E9%8A%80%E8%A1%8C%E7%B5%B1%E4%B8%80%E6%99%82%E4%BB%A3ICASH%E8%81%AF%E5%90%8D%E5%8D%A1?entry=header&from=%E5%85%A8%E9%83%A8',\n",
       " 'https://www.money101.com.tw/%E4%BF%A1%E7%94%A8%E5%8D%A1/%E7%8E%89%E5%B1%B1%E9%8A%80%E8%A1%8C%E4%B8%AD%E5%8F%8B%E7%99%BE%E8%B2%A8%E6%82%A0%E9%81%8A%E8%81%AF%E5%90%8D%E5%8D%A1?entry=header&from=%E5%85%A8%E9%83%A8',\n",
       " 'https://www.money101.com.tw/%E4%BF%A1%E7%94%A8%E5%8D%A1/%E7%8E%89%E5%B1%B1%E9%8A%80%E8%A1%8C%E5%85%A8%E5%9C%8B%E9%9B%BB%E5%AD%90%E8%81%AF%E5%90%8D%E5%8D%A1?entry=header&from=%E5%85%A8%E9%83%A8',\n",
       " 'https://www.money101.com.tw/%E4%BF%A1%E7%94%A8%E5%8D%A1/%E7%8E%89%E5%B1%B1%E9%8A%80%E8%A1%8C%E5%AF%B6%E9%9B%85%E6%82%A0%E9%81%8A%E8%81%AF%E5%90%8D%E5%8D%A1?entry=header&from=%E5%85%A8%E9%83%A8',\n",
       " 'https://www.money101.com.tw/%E4%BF%A1%E7%94%A8%E5%8D%A1/%E7%8E%89%E5%B1%B1%E9%8A%80%E8%A1%8C%E6%96%B0%E6%9D%B1%E9%99%BD%E6%82%A0%E9%81%8A%E8%81%AF%E5%90%8D%E5%8D%A1?entry=header&from=%E5%85%A8%E9%83%A8',\n",
       " 'https://www.money101.com.tw/%E4%BF%A1%E7%94%A8%E5%8D%A1/%E7%8E%89%E5%B1%B1%E9%8A%80%E8%A1%8CNISSAN%E6%82%A0%E9%81%8A%E8%81%AF%E5%90%8D%E5%8D%A1?entry=header&from=%E5%85%A8%E9%83%A8',\n",
       " 'https://www.money101.com.tw/%E4%BF%A1%E7%94%A8%E5%8D%A1/%E7%8E%89%E5%B1%B1%E9%8A%80%E8%A1%8C%E8%B3%80%E5%AF%B6%E8%8A%99%E6%82%A0%E9%81%8A%E8%81%AF%E5%90%8D%E5%8D%A1?entry=header&from=%E5%85%A8%E9%83%A8',\n",
       " 'https://www.money101.com.tw/%E4%BF%A1%E7%94%A8%E5%8D%A1/%E7%8E%89%E5%B1%B1%E9%8A%80%E8%A1%8C%E9%BA%97%E5%AF%B6%E6%82%A0%E9%81%8A%E8%81%AF%E5%90%8D%E5%8D%A1?entry=header&from=%E5%85%A8%E9%83%A8',\n",
       " 'https://www.money101.com.tw/%E4%BF%A1%E7%94%A8%E5%8D%A1/%E7%8E%89%E5%B1%B1%E9%8A%80%E8%A1%8CPI%E6%8B%8D%E9%8C%A2%E5%8C%85%E4%BF%A1%E7%94%A8%E5%8D%A1?entry=header&from=%E5%85%A8%E9%83%A8',\n",
       " 'https://www.money101.com.tw/%E4%BF%A1%E7%94%A8%E5%8D%A1/%E7%8E%89%E5%B1%B1%E9%8A%80%E8%A1%8C%E5%8D%97%E5%B1%B1%E6%82%A0%E9%81%8A%E8%81%AF%E5%90%8D%E5%8D%A1?entry=header&from=%E5%85%A8%E9%83%A8',\n",
       " 'https://www.money101.com.tw/%E4%BF%A1%E7%94%A8%E5%8D%A1/%E7%8E%89%E5%B1%B1%E9%8A%80%E8%A1%8C%E6%84%9B%E5%BF%83%E5%8D%A1?entry=header&from=%E5%85%A8%E9%83%A8',\n",
       " 'https://www.money101.com.tw/%E4%BF%A1%E7%94%A8%E5%8D%A1/%E5%9C%8B%E6%B3%B0%E4%B8%96%E8%8F%AF%E9%95%B7%E6%A6%AE%E8%81%AF%E5%90%8D%E5%BE%A1%E7%92%BD%E5%8D%A1?entry=header&from=%E5%85%A8%E9%83%A8',\n",
       " 'https://www.money101.com.tw/%E4%BF%A1%E7%94%A8%E5%8D%A1/%E4%B8%AD%E5%9C%8B%E4%BF%A1%E8%A8%97%E4%B8%AD%E4%BF%A1%E5%85%84%E5%BC%9F%E8%81%AF%E5%90%8D%E5%8D%A1?entry=header&from=%E5%85%A8%E9%83%A8',\n",
       " 'https://www.money101.com.tw/%E4%BF%A1%E7%94%A8%E5%8D%A1/%E4%B8%AD%E5%9C%8B%E4%BF%A1%E8%A8%97YAHOO%E8%81%AF%E5%90%8D%E5%8D%A1?entry=header&from=%E5%85%A8%E9%83%A8',\n",
       " 'https://www.money101.com.tw/%E4%BF%A1%E7%94%A8%E5%8D%A1/%E6%96%B0%E5%85%89%E9%8A%80%E8%A1%8C%E6%96%B0%E5%85%89%E5%8A%A0%E6%B2%B9%E5%8D%A1?entry=header&from=%E5%85%A8%E9%83%A8',\n",
       " 'https://www.money101.com.tw/%E4%BF%A1%E7%94%A8%E5%8D%A1/%E6%96%B0%E5%85%89%E9%8A%80%E8%A1%8C%E7%BE%A9%E5%A4%A7%E4%B8%96%E7%95%8C%E8%81%AF%E5%90%8D%E5%8D%A1?entry=header&from=%E5%85%A8%E9%83%A8',\n",
       " 'https://www.money101.com.tw/%E4%BF%A1%E7%94%A8%E5%8D%A1/%E6%96%B0%E5%85%89%E9%8A%80%E8%A1%8CLAMIGO%E4%BF%A1%E7%94%A8%E5%8D%A1?entry=header&from=%E5%85%A8%E9%83%A8',\n",
       " 'https://www.money101.com.tw/%E4%BF%A1%E7%94%A8%E5%8D%A1/%E6%98%9F%E5%B1%95%E9%8A%80%E8%A1%8C%E9%A3%9B%E8%A1%8C%E9%88%A6%E9%87%91%E5%8D%A1?entry=header&from=%E5%85%A8%E9%83%A8',\n",
       " 'https://www.money101.com.tw/%E4%BF%A1%E7%94%A8%E5%8D%A1/%E6%B8%A3%E6%89%93%E9%8A%80%E8%A1%8CTHESHOPPINGCARD%E5%88%86%E6%9C%9F%E5%8D%A1?entry=header&from=%E5%85%A8%E9%83%A8',\n",
       " 'https://www.money101.com.tw/%E4%BF%A1%E7%94%A8%E5%8D%A1/%E6%B8%A3%E6%89%93%E9%8A%80%E8%A1%8C%E6%98%87%E5%88%A9%E5%8D%A1(%E7%B4%85%E5%88%A9%E5%9B%9E%E9%A5%8B)?entry=header&from=%E5%85%A8%E9%83%A8',\n",
       " 'https://www.money101.com.tw/%E4%BF%A1%E7%94%A8%E5%8D%A1/%E4%B8%AD%E5%9C%8B%E4%BF%A1%E8%A8%97%E7%A7%80%E6%B3%B0%E8%81%AF%E5%90%8D%E5%8D%A1?entry=header&from=%E5%85%A8%E9%83%A8',\n",
       " 'https://www.money101.com.tw/%E4%BF%A1%E7%94%A8%E5%8D%A1/%E4%B8%AD%E5%9C%8B%E4%BF%A1%E8%A8%97%E4%B8%AD%E8%8F%AF%E9%9B%BB%E4%BF%A1%E8%81%AF%E5%90%8D%E7%99%BD%E9%87%91%E5%8D%A1?entry=header&from=%E5%85%A8%E9%83%A8',\n",
       " 'https://www.money101.com.tw/%E4%BF%A1%E7%94%A8%E5%8D%A1/%E8%8A%B1%E6%97%97%E9%8A%80%E8%A1%8C%E8%B6%85%E7%B4%9A%E7%B4%85%E5%88%A9%E6%82%A0%E9%81%8A%E5%8D%A1?entry=header&from=%E5%85%A8%E9%83%A8',\n",
       " 'https://www.money101.com.tw/%E4%BF%A1%E7%94%A8%E5%8D%A1/%E4%B8%AD%E5%9C%8B%E4%BF%A1%E8%A8%97%E8%98%AD%E5%9F%8E%E6%96%B0%E6%9C%88%E5%BB%A3%E5%A0%B4%E8%81%AF%E5%90%8D%E5%8D%A1?entry=header&from=%E5%85%A8%E9%83%A8',\n",
       " 'https://www.money101.com.tw/%E4%BF%A1%E7%94%A8%E5%8D%A1/%E6%96%B0%E5%85%89%E9%8A%80%E8%A1%8C%E5%88%86%E6%9C%9F7%E5%8D%A1?entry=header&from=%E5%85%A8%E9%83%A8',\n",
       " 'https://www.money101.com.tw/%E4%BF%A1%E7%94%A8%E5%8D%A1/%E5%9C%8B%E6%B3%B0%E4%B8%96%E8%8F%AF%E4%BA%9E%E6%B4%B2%E8%90%AC%E9%87%8C%E9%80%9A%E8%81%AF%E5%90%8D%E9%87%8C%E4%BA%AB%E5%8D%A1?entry=header&from=%E5%85%A8%E9%83%A8',\n",
       " 'https://www.money101.com.tw/%E4%BF%A1%E7%94%A8%E5%8D%A1/%E5%8F%B0%E6%96%B0%E9%8A%80%E8%A1%8C%E5%9C%8B%E6%B3%B0%E8%88%AA%E7%A9%BA%E9%88%A6%E9%87%91%E5%8D%A1?entry=header&from=%E5%85%A8%E9%83%A8',\n",
       " 'https://www.money101.com.tw/%E4%BF%A1%E7%94%A8%E5%8D%A1/%E5%AE%89%E6%B3%B0%E9%8A%80%E8%A1%8C%E5%88%86%E6%9C%9F%E5%8D%A1?entry=header&from=%E5%85%A8%E9%83%A8',\n",
       " 'https://www.money101.com.tw/%E4%BF%A1%E7%94%A8%E5%8D%A1/%E9%81%A0%E6%9D%B1%E5%95%86%E9%8A%80NEWCENTURYMC%E5%8D%A1?entry=header&from=%E5%85%A8%E9%83%A8',\n",
       " 'https://www.money101.com.tw/%E4%BF%A1%E7%94%A8%E5%8D%A1/%E9%81%A0%E6%9D%B1%E5%95%86%E9%8A%80ETAG%E8%81%AF%E5%90%8D%E5%8D%A1?entry=header&from=%E5%85%A8%E9%83%A8',\n",
       " 'https://www.money101.com.tw/%E4%BF%A1%E7%94%A8%E5%8D%A1/%E9%81%A0%E6%9D%B1%E5%95%86%E9%8A%80%E8%8F%AF%E4%BF%A1%E8%88%AA%E7%A9%BA%E8%81%AF%E5%90%8D%E5%8D%A1?entry=header&from=%E5%85%A8%E9%83%A8',\n",
       " 'https://www.money101.com.tw/%E4%BF%A1%E7%94%A8%E5%8D%A1/%E8%8F%AF%E6%B3%B0%E9%8A%80%E8%A1%8CVISA%E6%97%97%E8%89%A6%E5%8D%A1?entry=header&from=%E5%85%A8%E9%83%A8',\n",
       " 'https://www.money101.com.tw/%E4%BF%A1%E7%94%A8%E5%8D%A1/%E8%87%BA%E7%81%A3%E9%8A%80%E8%A1%8C%E9%87%91%E9%87%87%E7%99%BD%E9%87%91%E5%8D%A1?entry=header&from=%E5%85%A8%E9%83%A8',\n",
       " 'https://www.money101.com.tw/%E4%BF%A1%E7%94%A8%E5%8D%A1/%E5%85%86%E8%B1%90%E9%8A%80%E8%A1%8C%E7%B5%B1%E4%B8%807-ELEVEn%E7%8D%85%E8%81%AF%E5%90%8D%E5%8D%A1?entry=header&from=%E5%85%A8%E9%83%A8',\n",
       " 'https://www.money101.com.tw/%E4%BF%A1%E7%94%A8%E5%8D%A1/%E6%B0%B8%E8%B1%90%E9%8A%80%E8%A1%8Csport%E5%8D%A1?entry=header&from=%E5%85%A8%E9%83%A8',\n",
       " 'https://www.money101.com.tw/%E4%BF%A1%E7%94%A8%E5%8D%A1/%E7%8E%89%E5%B1%B1%E9%8A%80%E8%A1%8CATT4FUN%E6%82%A0%E9%81%8A%E8%81%AF%E5%90%8D%E5%8D%A1?entry=header&from=%E5%85%A8%E9%83%A8',\n",
       " 'https://www.money101.com.tw/%E4%BF%A1%E7%94%A8%E5%8D%A1/%E7%AC%AC%E4%B8%80%E9%8A%80%E8%A1%8C%E7%94%B1%E4%BD%A0%E5%88%86%E6%9C%9F%E5%8D%A1?entry=header&from=%E5%85%A8%E9%83%A8',\n",
       " 'https://www.money101.com.tw/%E4%BF%A1%E7%94%A8%E5%8D%A1/%E7%AC%AC%E4%B8%80%E9%8A%80%E8%A1%8C%E6%9B%BC%E9%BB%9B%E7%91%AA%E7%92%89%E8%81%AF%E5%90%8D%E5%8D%A1?entry=header&from=%E5%85%A8%E9%83%A8',\n",
       " 'https://www.money101.com.tw/%E4%BF%A1%E7%94%A8%E5%8D%A1/%E7%AC%AC%E4%B8%80%E9%8A%80%E8%A1%8C%E5%A4%A7%E5%90%8C%E5%AF%B6%E5%AF%B6%E8%81%AF%E5%90%8D%E5%8D%A1?entry=header&from=%E5%85%A8%E9%83%A8',\n",
       " 'https://www.money101.com.tw/%E4%BF%A1%E7%94%A8%E5%8D%A1/%E6%B0%B8%E8%B1%90%E9%8A%80%E8%A1%8C%E6%BC%A2%E7%A5%9E%E5%B7%A8%E8%9B%8B%E8%81%AF%E5%90%8D%E5%8D%A1?entry=header&from=%E5%85%A8%E9%83%A8',\n",
       " 'https://www.money101.com.tw/%E4%BF%A1%E7%94%A8%E5%8D%A1/%E4%B8%AD%E5%9C%8B%E4%BF%A1%E8%A8%97%E5%8D%97%E7%B4%A1%E8%B3%BC%E7%89%A9%E4%B8%AD%E5%BF%83%E8%81%AF%E5%90%8D%E5%8D%A1?entry=header&from=%E5%85%A8%E9%83%A8',\n",
       " 'https://www.money101.com.tw/%E4%BF%A1%E7%94%A8%E5%8D%A1/%E5%8F%B0%E6%96%B0%E9%8A%80%E8%A1%8CPAYEASY%E8%81%AF%E5%90%8D%E5%8D%A1?entry=header&from=%E5%85%A8%E9%83%A8',\n",
       " 'https://www.money101.com.tw/%E4%BF%A1%E7%94%A8%E5%8D%A1/%E6%96%B0%E5%85%89%E9%8A%80%E8%A1%8C%E7%BE%8E%E9%BA%97%E8%8F%AF%E7%99%BE%E6%A8%82%E5%8D%A1?entry=header&from=%E5%85%A8%E9%83%A8',\n",
       " 'https://www.money101.com.tw/%E4%BF%A1%E7%94%A8%E5%8D%A1/%E5%9C%8B%E6%B3%B0%E4%B8%96%E8%8F%AF%E4%BA%9E%E6%B4%B2%E8%90%AC%E9%87%8C%E9%80%9A%E8%81%AF%E5%90%8D%E7%99%BD%E9%87%91%E5%8D%A1?entry=header&from=%E5%85%A8%E9%83%A8',\n",
       " 'https://www.money101.com.tw/%E4%BF%A1%E7%94%A8%E5%8D%A1/%E7%8E%89%E5%B1%B1%E9%8A%80%E8%A1%8C%E8%80%90%E6%96%AF%E5%BB%A3%E5%A0%B4NP%E8%81%AF%E5%90%8D%E5%8D%A1?entry=header&from=%E5%85%A8%E9%83%A8',\n",
       " 'https://www.money101.com.tw/%E4%BF%A1%E7%94%A8%E5%8D%A1/%E7%AC%AC%E4%B8%80%E9%8A%80%E8%A1%8C%E8%B3%87%E7%94%9F%E5%A0%82SHISEIDO%E8%81%AF%E5%90%8D%E5%8D%A1?entry=header&from=%E5%85%A8%E9%83%A8',\n",
       " 'https://www.money101.com.tw/%E4%BF%A1%E7%94%A8%E5%8D%A1/%E5%85%86%E8%B1%90%E9%8A%80%E8%A1%8C%E5%8E%9F%E5%AD%90%E5%B0%8F%E9%87%91%E5%89%9B%E5%8D%A1?entry=header&from=%E5%85%A8%E9%83%A8',\n",
       " 'https://www.money101.com.tw/%E4%BF%A1%E7%94%A8%E5%8D%A1/%E5%85%86%E8%B1%90%E9%8A%80%E8%A1%8C%E7%94%9F%E6%B4%BB%E5%B7%A5%E5%A0%B4%E8%81%AF%E5%90%8D%E5%8D%A1?entry=header&from=%E5%85%A8%E9%83%A8',\n",
       " 'https://www.money101.com.tw/%E4%BF%A1%E7%94%A8%E5%8D%A1/%E5%85%83%E5%A4%A7%E9%8A%80%E8%A1%8C%E6%96%B0%E4%B8%96%E4%BB%A3%E5%8D%A1?entry=header&from=%E5%85%A8%E9%83%A8',\n",
       " 'https://www.money101.com.tw/%E4%BF%A1%E7%94%A8%E5%8D%A1/%E5%9C%8B%E6%B3%B0%E4%B8%96%E8%8F%AF%E9%81%A0%E6%9D%B1SOGO%E6%82%A0%E9%81%8A%E8%81%AF%E5%90%8D%E5%8D%A1?entry=header&from=%E5%85%A8%E9%83%A8',\n",
       " 'https://www.money101.com.tw/%E4%BF%A1%E7%94%A8%E5%8D%A1/%E5%9C%8B%E6%B3%B0%E4%B8%96%E8%8F%AF%E9%95%B7%E6%A6%AE%E8%81%AF%E5%90%8D%E6%A5%B5%E8%87%B4%E5%BE%A1%E7%92%BD%E5%8D%A1?entry=header&from=%E5%85%A8%E9%83%A8',\n",
       " 'https://www.money101.com.tw/%E4%BF%A1%E7%94%A8%E5%8D%A1/%E4%B8%AD%E5%9C%8B%E4%BF%A1%E8%A8%97%E4%BA%AB%E6%83%B3%E7%94%9F%E6%B4%BB%E5%8D%A1?entry=header&from=%E5%85%A8%E9%83%A8',\n",
       " 'https://www.money101.com.tw/%E4%BF%A1%E7%94%A8%E5%8D%A1/%E5%85%83%E5%A4%A7%E9%8A%80%E8%A1%8CLIFE%E5%8D%A1?entry=header&from=%E5%85%A8%E9%83%A8',\n",
       " 'https://www.money101.com.tw/%E4%BF%A1%E7%94%A8%E5%8D%A1/%E5%85%83%E5%A4%A7%E9%8A%80%E8%A1%8C%E4%B8%80%E7%95%AA%E5%8D%A1?entry=header&from=%E5%85%A8%E9%83%A8',\n",
       " 'https://www.money101.com.tw/%E4%BF%A1%E7%94%A8%E5%8D%A1/%E8%81%AF%E9%82%A6%E9%8A%80%E8%A1%8C%E5%85%A8%E5%9C%8B%E5%8A%A0%E6%B2%B9%E8%81%AF%E5%90%8D%E5%8D%A1?entry=header&from=%E5%85%A8%E9%83%A8',\n",
       " 'https://www.money101.com.tw/%E4%BF%A1%E7%94%A8%E5%8D%A1/%E8%81%AF%E9%82%A6%E9%8A%80%E8%A1%8CTIGERCITY%E6%82%A0%E9%81%8A%E7%99%BD%E9%87%91%E5%8D%A1?entry=header&from=%E5%85%A8%E9%83%A8',\n",
       " 'https://www.money101.com.tw/%E4%BF%A1%E7%94%A8%E5%8D%A1/%E8%81%AF%E9%82%A6%E9%8A%80%E8%A1%8C%E8%81%AF%E9%82%A6%E6%97%85%E9%81%8A%E5%8D%A1?entry=header&from=%E5%85%A8%E9%83%A8',\n",
       " 'https://www.money101.com.tw/%E4%BF%A1%E7%94%A8%E5%8D%A1/%E8%81%AF%E9%82%A6%E9%8A%80%E8%A1%8C%E7%B4%85%E5%88%A9%E5%8D%A1?entry=header&from=%E5%85%A8%E9%83%A8',\n",
       " 'https://www.money101.com.tw/%E4%BF%A1%E7%94%A8%E5%8D%A1/%E8%81%AF%E9%82%A6%E9%8A%80%E8%A1%8C%E6%B3%B0%E8%88%AA%E8%81%AF%E5%90%8D%E5%8D%A1?entry=header&from=%E5%85%A8%E9%83%A8',\n",
       " 'https://www.money101.com.tw/%E4%BF%A1%E7%94%A8%E5%8D%A1/%E8%81%AF%E9%82%A6%E9%8A%80%E8%A1%8C%E5%87%B1%E6%92%92%E9%A3%AF%E5%BA%97%E8%81%AF%E5%90%8D%E5%8D%A1?entry=header&from=%E5%85%A8%E9%83%A8',\n",
       " \"https://www.money101.com.tw/%E4%BF%A1%E7%94%A8%E5%8D%A1/%E9%81%A0%E6%9D%B1%E5%95%86%E9%8A%80C'ESTMOI%E6%88%91%E7%9A%84%E5%8D%A1?entry=header&from=%E5%85%A8%E9%83%A8\",\n",
       " 'https://www.money101.com.tw/%E4%BF%A1%E7%94%A8%E5%8D%A1/%E7%AC%AC%E4%B8%80%E9%8A%80%E8%A1%8CICASH%E8%81%AF%E5%90%8D%E5%8D%A1?entry=header&from=%E5%85%A8%E9%83%A8',\n",
       " 'https://www.money101.com.tw/%E4%BF%A1%E7%94%A8%E5%8D%A1/%E7%AC%AC%E4%B8%80%E9%8A%80%E8%A1%8C%E8%8F%81%E8%8B%B1%E5%BE%A1%E7%92%BD%E5%8D%A1?entry=header&from=%E5%85%A8%E9%83%A8',\n",
       " 'https://www.money101.com.tw/%E4%BF%A1%E7%94%A8%E5%8D%A1/%E7%AC%AC%E4%B8%80%E9%8A%80%E8%A1%8C%E5%B0%8A%E6%A6%AE%E7%99%BD%E9%87%91%E5%8D%A1?entry=header&from=%E5%85%A8%E9%83%A8',\n",
       " 'https://www.money101.com.tw/%E4%BF%A1%E7%94%A8%E5%8D%A1/%E7%AC%AC%E4%B8%80%E9%8A%80%E8%A1%8C%E6%82%A0%E9%81%8A%E8%81%AF%E5%90%8D%E5%8D%A1?entry=header&from=%E5%85%A8%E9%83%A8',\n",
       " 'https://www.money101.com.tw/%E4%BF%A1%E7%94%A8%E5%8D%A1/%E7%AC%AC%E4%B8%80%E9%8A%80%E8%A1%8C%E9%80%9F%E9%82%81%E6%A8%82%E8%81%AF%E5%90%8D%E5%8D%A1?entry=header&from=%E5%85%A8%E9%83%A8',\n",
       " 'https://www.money101.com.tw/%E4%BF%A1%E7%94%A8%E5%8D%A1/%E7%AC%AC%E4%B8%80%E9%8A%80%E8%A1%8CLIVINGGREEN%E7%B6%A0%E6%B4%BB%E5%8D%A1?entry=header&from=%E5%85%A8%E9%83%A8',\n",
       " 'https://www.money101.com.tw/%E4%BF%A1%E7%94%A8%E5%8D%A1/%E8%8F%AF%E5%8D%97%E9%8A%80%E8%A1%8CLOVE%E6%99%B6%E7%B7%BB%E6%82%A0%E9%81%8A%E8%81%AF%E5%90%8D%E5%8D%A1%EF%BC%8D%E5%AF%B5%E6%84%9B%E7%B4%85%E5%8D%A1?entry=header&from=%E5%85%A8%E9%83%A8',\n",
       " 'https://www.money101.com.tw/%E4%BF%A1%E7%94%A8%E5%8D%A1/%E8%8F%AF%E5%8D%97%E9%8A%80%E8%A1%8C%E7%BE%8E%E9%A5%8C%E7%B4%85%E5%88%A9%E5%8D%A1?entry=header&from=%E5%85%A8%E9%83%A8',\n",
       " 'https://www.money101.com.tw/%E4%BF%A1%E7%94%A8%E5%8D%A1/%E8%8F%AF%E5%8D%97%E9%8A%80%E8%A1%8C%E5%84%AA%E6%B4%BBYOHO%E6%99%B6%E7%B7%BB%E5%8D%A1?entry=header&from=%E5%85%A8%E9%83%A8',\n",
       " 'https://www.money101.com.tw/%E4%BF%A1%E7%94%A8%E5%8D%A1/%E8%8F%AF%E5%8D%97%E9%8A%80%E8%A1%8CSCOTTISHHOUSE%E8%81%AF%E5%90%8D%E5%8D%A1?entry=header&from=%E5%85%A8%E9%83%A8',\n",
       " 'https://www.money101.com.tw/%E4%BF%A1%E7%94%A8%E5%8D%A1/%E8%8F%AF%E5%8D%97%E9%8A%80%E8%A1%8C%E5%A4%A7%E7%94%B2%E5%AA%BD%E7%A5%96%E8%AA%8D%E5%90%8C%E5%8D%A1?entry=header&from=%E5%85%A8%E9%83%A8',\n",
       " 'https://www.money101.com.tw/%E4%BF%A1%E7%94%A8%E5%8D%A1/%E8%8F%AF%E5%8D%97%E9%8A%80%E8%A1%8COPENPOINT%E8%B6%85%E7%B4%9A%E9%BB%9E%E6%95%B8%E8%81%AF%E5%90%8D%E5%8D%A1-HELLOKITTY%E6%AC%BE?entry=header&from=%E5%85%A8%E9%83%A8',\n",
       " 'https://www.money101.com.tw/%E4%BF%A1%E7%94%A8%E5%8D%A1/%E8%8F%AF%E5%8D%97%E9%8A%80%E8%A1%8CCOMBOLIFE%E5%8D%A1?entry=header&from=%E5%85%A8%E9%83%A8',\n",
       " 'https://www.money101.com.tw/%E4%BF%A1%E7%94%A8%E5%8D%A1/%E5%8F%B0%E5%8C%97%E5%AF%8C%E9%82%A6%E9%87%87%E7%9B%9F%E8%81%AF%E5%90%8D%E5%8D%A1?entry=header&from=%E5%85%A8%E9%83%A8',\n",
       " 'https://www.money101.com.tw/%E4%BF%A1%E7%94%A8%E5%8D%A1/%E5%8F%B0%E5%8C%97%E5%AF%8C%E9%82%A6DHC%E8%81%AF%E5%90%8D%E5%8D%A1?entry=header&from=%E5%85%A8%E9%83%A8',\n",
       " 'https://www.money101.com.tw/%E4%BF%A1%E7%94%A8%E5%8D%A1/%E5%8F%B0%E5%8C%97%E5%AF%8C%E9%82%A6%E7%A6%8F%E8%8F%AF%E8%81%AF%E5%90%8D%E5%8D%A1?entry=header&from=%E5%85%A8%E9%83%A8',\n",
       " 'https://www.money101.com.tw/%E4%BF%A1%E7%94%A8%E5%8D%A1/%E5%8F%B0%E5%8C%97%E5%AF%8C%E9%82%A6%E5%9C%8B%E8%B3%93%E5%A4%A7%E9%A3%AF%E5%BA%97%E8%81%AF%E5%90%8D%E5%8D%A1?entry=header&from=%E5%85%A8%E9%83%A8',\n",
       " 'https://www.money101.com.tw/%E4%BF%A1%E7%94%A8%E5%8D%A1/%E5%8F%B0%E5%8C%97%E5%AF%8C%E9%82%A6%E9%BA%97%E5%AC%B0%E6%88%BF%E8%81%AF%E5%90%8D%E5%8D%A1?entry=header&from=%E5%85%A8%E9%83%A8',\n",
       " 'https://www.money101.com.tw/%E4%BF%A1%E7%94%A8%E5%8D%A1/%E6%B0%B8%E8%B1%90%E9%8A%80%E8%A1%8C%E7%BE%8E%E9%BA%97%E8%8F%AF%E5%8D%A1?entry=header&from=%E5%85%A8%E9%83%A8',\n",
       " 'https://www.money101.com.tw/%E4%BF%A1%E7%94%A8%E5%8D%A1/%E9%99%BD%E4%BF%A1%E9%8A%80%E8%A1%8C%E4%BA%AB%E5%88%A9%E7%99%BD%E9%87%91%E5%8D%A1?entry=header&from=%E5%85%A8%E9%83%A8',\n",
       " 'https://www.money101.com.tw/%E4%BF%A1%E7%94%A8%E5%8D%A1/%E5%8F%B0%E5%8C%97%E5%AF%8C%E9%82%A6%E5%AF%8C%E9%82%A6%E6%82%8D%E5%B0%87%E6%82%A0%E9%81%8A%E8%81%AF%E5%90%8D%E5%8D%A1?entry=header&from=%E5%85%A8%E9%83%A8',\n",
       " 'https://www.money101.com.tw/%E4%BF%A1%E7%94%A8%E5%8D%A1/%E4%B8%AD%E5%9C%8B%E4%BF%A1%E8%A8%97%E4%B8%AD%E6%B2%B9VIP%E8%81%AF%E5%90%8D%E5%8D%A1?entry=header&from=%E5%85%A8%E9%83%A8',\n",
       " 'https://www.money101.com.tw/%E4%BF%A1%E7%94%A8%E5%8D%A1/%E4%B8%AD%E5%9C%8B%E4%BF%A1%E8%A8%97MUJI%E7%84%A1%E5%8D%B0%E8%89%AF%E5%93%81%E8%81%AF%E5%90%8D%E5%8D%A1?entry=header&from=%E5%85%A8%E9%83%A8',\n",
       " 'https://www.money101.com.tw/%E4%BF%A1%E7%94%A8%E5%8D%A1/%E5%8F%B0%E5%8C%97%E5%AF%8C%E9%82%A6%E5%BB%A3%E4%B8%89SOGO%E8%81%AF%E5%90%8D%E5%8D%A1?entry=header&from=%E5%85%A8%E9%83%A8',\n",
       " 'https://www.money101.com.tw/%E4%BF%A1%E7%94%A8%E5%8D%A1/%E5%8F%B0%E5%8C%97%E5%AF%8C%E9%82%A6%E5%AF%8C%E5%88%A9%E7%94%9F%E6%B4%BB%E7%B3%BB%E5%88%97%E5%8D%A1?entry=header&from=%E5%85%A8%E9%83%A8',\n",
       " 'https://www.money101.com.tw/%E4%BF%A1%E7%94%A8%E5%8D%A1/%E5%8F%B0%E5%8C%97%E5%AF%8C%E9%82%A6%E5%8F%B0%E8%8C%82%E8%81%AF%E5%90%8D%E5%8D%A1?entry=header&from=%E5%85%A8%E9%83%A8',\n",
       " 'https://www.money101.com.tw/%E4%BF%A1%E7%94%A8%E5%8D%A1/%E5%8F%B0%E6%96%B0%E9%8A%80%E8%A1%8C%E5%B9%B8%E7%A6%8F%E5%8A%A0%E5%80%BC%E5%8D%A1?entry=header&from=%E5%85%A8%E9%83%A8',\n",
       " 'https://www.money101.com.tw/%E4%BF%A1%E7%94%A8%E5%8D%A1/%E4%B8%AD%E5%9C%8B%E4%BF%A1%E8%A8%97%E9%85%B7%E7%8E%A9%E5%8D%A1?entry=header&from=%E5%85%A8%E9%83%A8',\n",
       " 'https://www.money101.com.tw/%E4%BF%A1%E7%94%A8%E5%8D%A1/%E4%B8%AD%E5%9C%8B%E4%BF%A1%E8%A8%97%E5%8B%A4%E7%BE%8E%E5%A4%A9%E5%9C%B0%E8%81%AF%E5%90%8D%E6%99%B6%E7%B7%BB%E5%8D%A1?entry=header&from=%E5%85%A8%E9%83%A8',\n",
       " 'https://www.money101.com.tw/%E4%BF%A1%E7%94%A8%E5%8D%A1/%E4%B8%AD%E5%9C%8B%E4%BF%A1%E8%A8%97%E6%BC%A2%E7%A5%9E%E7%99%BE%E8%B2%A8%E8%81%AF%E5%90%8D%E5%8D%A1?entry=header&from=%E5%85%A8%E9%83%A8',\n",
       " 'https://www.money101.com.tw/%E4%BF%A1%E7%94%A8%E5%8D%A1/%E4%B8%AD%E5%9C%8B%E4%BF%A1%E8%A8%97%E7%B4%85%E5%88%A9%E5%BE%A1%E7%92%BD%E5%8D%A1?entry=header&from=%E5%85%A8%E9%83%A8',\n",
       " 'https://www.money101.com.tw/%E4%BF%A1%E7%94%A8%E5%8D%A1/%E4%B8%AD%E5%9C%8B%E4%BF%A1%E8%A8%97%E5%A4%A7%E8%91%89%E9%AB%98%E5%B3%B6%E5%B1%8B%E7%99%BE%E8%B2%A8%E8%81%AF%E5%90%8D%E5%8D%A1?entry=header&from=%E5%85%A8%E9%83%A8',\n",
       " 'https://www.money101.com.tw/%E4%BF%A1%E7%94%A8%E5%8D%A1/%E4%B8%AD%E5%9C%8B%E4%BF%A1%E8%A8%97%E5%A4%A7%E4%B8%AD%E8%8F%AF%E6%94%9C%E6%89%8B%E9%A3%9B%E8%81%AF%E5%90%8D%E5%8D%A1?entry=header&from=%E5%85%A8%E9%83%A8',\n",
       " 'https://www.money101.com.tw/%E4%BF%A1%E7%94%A8%E5%8D%A1/%E7%BE%8E%E5%9C%8B%E9%81%8B%E9%80%9A%E5%9C%8B%E6%B3%B0%E8%88%AA%E7%A9%BA%E4%BF%A1%E7%94%A8%E5%8D%A1?entry=header&from=%E5%85%A8%E9%83%A8',\n",
       " 'https://www.money101.com.tw/%E4%BF%A1%E7%94%A8%E5%8D%A1/%E5%9C%8B%E6%B3%B0%E4%B8%96%E8%8F%AF%E4%BA%9E%E6%B4%B2%E8%90%AC%E9%87%8C%E9%80%9A%E8%81%AF%E5%90%8D%E9%88%A6%E5%95%86%E5%8D%A1?entry=header&from=%E5%85%A8%E9%83%A8',\n",
       " 'https://www.money101.com.tw/%E4%BF%A1%E7%94%A8%E5%8D%A1/%E5%9C%8B%E6%B3%B0%E4%B8%96%E8%8F%AFETAG%E8%81%AF%E5%90%8D%E5%8D%A1?entry=header&from=%E5%85%A8%E9%83%A8',\n",
       " 'https://www.money101.com.tw/%E4%BF%A1%E7%94%A8%E5%8D%A1/%E5%9C%8B%E6%B3%B0%E4%B8%96%E8%8F%AF%E9%9B%99%E5%B9%A3%E5%8D%A1?entry=header&from=%E5%85%A8%E9%83%A8',\n",
       " 'https://www.money101.com.tw/%E4%BF%A1%E7%94%A8%E5%8D%A1/%E5%9C%8B%E6%B3%B0%E4%B8%96%E8%8F%AF%E9%88%A6%E9%87%91%E5%95%86%E5%8B%99%E5%8D%A1?entry=header&from=%E5%85%A8%E9%83%A8',\n",
       " 'https://www.money101.com.tw/%E4%BF%A1%E7%94%A8%E5%8D%A1/%E5%9C%8B%E6%B3%B0%E4%B8%96%E8%8F%AF%E5%B0%8A%E6%A6%AE%E5%BE%A1%E7%92%BD%E5%8D%A1?entry=header&from=%E5%85%A8%E9%83%A8',\n",
       " 'https://www.money101.com.tw/%E4%BF%A1%E7%94%A8%E5%8D%A1/%E4%B8%AD%E5%9C%8B%E4%BF%A1%E8%A8%97ANA%E6%99%B6%E7%B7%BB%E8%81%AF%E5%90%8D%E5%8D%A1?entry=header&from=%E5%85%A8%E9%83%A8',\n",
       " 'https://www.money101.com.tw/%E4%BF%A1%E7%94%A8%E5%8D%A1/%E8%81%AF%E9%82%A6%E9%8A%80%E8%A1%8C%E7%BE%8E%E8%8F%AF%E6%B3%B0%E8%81%AF%E5%90%8D%E5%8D%A1?entry=header&from=%E5%85%A8%E9%83%A8',\n",
       " 'https://www.money101.com.tw/%E4%BF%A1%E7%94%A8%E5%8D%A1/%E8%8A%B1%E6%97%97%E9%8A%80%E8%A1%8C%E6%96%B0%E4%B8%96%E4%BB%A3%E8%8A%B1%E6%97%97%E9%A5%97%E6%A8%82%E7%94%9F%E6%B4%BB%E6%82%A0%E9%81%8A%E5%8D%A1?entry=header&from=%E5%85%A8%E9%83%A8',\n",
       " 'https://www.money101.com.tw/%E4%BF%A1%E7%94%A8%E5%8D%A1/%E5%8F%B0%E6%96%B0%E9%8A%80%E8%A1%8C%E5%9C%8B%E6%B3%B0%E8%88%AA%E7%A9%BA%E7%BF%B1%E7%BF%94%E9%88%A6%E9%87%91%E5%8D%A1?entry=header&from=%E5%85%A8%E9%83%A8',\n",
       " 'https://www.money101.com.tw/%E4%BF%A1%E7%94%A8%E5%8D%A1/%E8%8A%B1%E6%97%97%E9%8A%80%E8%A1%8C%E5%AF%B0%E6%97%85%E4%B8%96%E7%95%8C%E5%8D%A1?entry=header&from=%E5%85%A8%E9%83%A8',\n",
       " 'https://www.money101.com.tw/%E4%BF%A1%E7%94%A8%E5%8D%A1/%E5%9C%8B%E6%B3%B0%E4%B8%96%E8%8F%AF%E9%95%B7%E6%A6%AE%E8%81%AF%E5%90%8D%E7%84%A1%E9%99%90%E5%8D%A1?entry=header&from=%E5%85%A8%E9%83%A8',\n",
       " 'https://www.money101.com.tw/%E4%BF%A1%E7%94%A8%E5%8D%A1/%E6%B0%B8%E8%B1%90%E9%8A%80%E8%A1%8C%E4%BF%9D%E5%80%8D%E5%8D%A1?entry=header&from=%E5%85%A8%E9%83%A8',\n",
       " 'https://www.money101.com.tw/%E4%BF%A1%E7%94%A8%E5%8D%A1/%E7%8E%89%E5%B1%B1%E9%8A%80%E8%A1%8C%E7%B5%B1%E9%A0%98%E7%99%BE%E8%B2%A8%E6%82%A0%E9%81%8A%E8%81%AF%E5%90%8D%E5%8D%A1?entry=header&from=%E5%85%A8%E9%83%A8',\n",
       " 'https://www.money101.com.tw/%E4%BF%A1%E7%94%A8%E5%8D%A1/%E7%8E%89%E5%B1%B1%E9%8A%80%E8%A1%8C%E8%8F%AF%E6%AD%8C%E7%88%BE%E6%82%A0%E9%81%8A%E8%81%AF%E5%90%8D%E5%8D%A1?entry=header&from=%E5%85%A8%E9%83%A8',\n",
       " 'https://www.money101.com.tw/%E4%BF%A1%E7%94%A8%E5%8D%A1/%E5%85%86%E8%B1%90%E9%8A%80%E8%A1%8C%E6%AD%90%E4%BB%98%E5%AF%B6%E6%82%A0%E9%81%8A%E8%81%AF%E5%90%8D%E5%8D%A1?entry=header&from=%E5%85%A8%E9%83%A8',\n",
       " 'https://www.money101.com.tw/%E4%BF%A1%E7%94%A8%E5%8D%A1/%E6%B0%B8%E8%B1%90%E9%8A%80%E8%A1%8C%E6%82%A0%E9%81%8AHICARD?entry=header&from=%E5%85%A8%E9%83%A8',\n",
       " 'https://www.money101.com.tw/%E4%BF%A1%E7%94%A8%E5%8D%A1/%E6%B0%B8%E8%B1%90%E9%8A%80%E8%A1%8C%E7%A7%91%E5%A3%AB%E5%A8%81%E8%81%AF%E5%90%8D%E5%8D%A1?entry=header&from=%E5%85%A8%E9%83%A8',\n",
       " 'https://www.money101.com.tw/%E4%BF%A1%E7%94%A8%E5%8D%A1/%E7%BE%8E%E5%9C%8B%E9%81%8B%E9%80%9A%E7%B0%BD%E5%B8%B3%E9%87%91%E5%8D%A1?entry=header&from=%E5%85%A8%E9%83%A8',\n",
       " 'https://www.money101.com.tw/%E4%BF%A1%E7%94%A8%E5%8D%A1/%E7%BE%8E%E5%9C%8B%E9%81%8B%E9%80%9A%E6%96%B0%E5%8A%A0%E5%9D%A1%E8%88%AA%E7%A9%BA%E5%A4%A9%E5%AE%87%E4%BF%A1%E7%94%A8%E5%8D%A1?entry=header&from=%E5%85%A8%E9%83%A8',\n",
       " 'https://www.money101.com.tw/%E4%BF%A1%E7%94%A8%E5%8D%A1/%E6%B0%B8%E8%B1%90%E9%8A%80%E8%A1%8CMITSUIOUTLETPARK%E5%8D%A1?entry=header&from=%E5%85%A8%E9%83%A8',\n",
       " 'https://www.money101.com.tw/%E4%BF%A1%E7%94%A8%E5%8D%A1/%E5%8F%B0%E5%8C%97%E5%AF%8C%E9%82%A6%E5%95%86%E5%8B%99%E5%8D%A1?entry=header&from=%E5%85%A8%E9%83%A8',\n",
       " 'https://www.money101.com.tw/%E4%BF%A1%E7%94%A8%E5%8D%A1/%E6%98%9F%E5%B1%95%E9%8A%80%E8%A1%8C%E9%A3%9B%E8%A1%8C%E4%B8%96%E7%95%8C%E5%8D%A1?entry=header&from=%E5%85%A8%E9%83%A8',\n",
       " 'https://www.money101.com.tw/%E4%BF%A1%E7%94%A8%E5%8D%A1/%E7%BE%8E%E5%9C%8B%E9%81%8B%E9%80%9A%E9%95%B7%E6%A6%AE%E8%88%AA%E7%A9%BA%E7%B0%BD%E5%B8%B3%E9%87%91%E5%8D%A1?entry=header&from=%E5%85%A8%E9%83%A8',\n",
       " 'https://www.money101.com.tw/%E4%BF%A1%E7%94%A8%E5%8D%A1/%E4%B8%AD%E5%9C%8B%E4%BF%A1%E8%A8%97%E9%BC%8E%E6%A5%B5%E5%8D%A1?entry=header&from=%E5%85%A8%E9%83%A8',\n",
       " 'https://www.money101.com.tw/%E4%BF%A1%E7%94%A8%E5%8D%A1/%E4%B8%AD%E5%9C%8B%E4%BF%A1%E8%A8%97ANA%E6%A5%B5%E7%B7%BB%E8%81%AF%E5%90%8D%E5%8D%A1?entry=header&from=%E5%85%A8%E9%83%A8',\n",
       " 'https://www.money101.com.tw/%E4%BF%A1%E7%94%A8%E5%8D%A1/%E5%9C%8B%E6%B3%B0%E4%B8%96%E8%8F%AF%E4%BA%9E%E6%B4%B2%E8%90%AC%E9%87%8C%E9%80%9A%E8%81%AF%E5%90%8D%E4%B8%96%E7%95%8C%E5%8D%A1?entry=header&from=%E5%85%A8%E9%83%A8',\n",
       " 'https://www.money101.com.tw/%E4%BF%A1%E7%94%A8%E5%8D%A1/%E8%81%AF%E9%82%A6%E9%8A%80%E8%A1%8C%E5%A4%A7%E7%AB%8B%E7%84%A1%E9%99%90%E5%8D%A1?entry=header&from=%E5%85%A8%E9%83%A8',\n",
       " 'https://www.money101.com.tw/%E4%BF%A1%E7%94%A8%E5%8D%A1/%E7%BE%8E%E5%9C%8B%E9%81%8B%E9%80%9A%E4%BF%A1%E7%94%A8%E7%99%BD%E9%87%91%E5%8D%A1?entry=header&from=%E5%85%A8%E9%83%A8',\n",
       " 'https://www.money101.com.tw/%E4%BF%A1%E7%94%A8%E5%8D%A1/%E8%8F%AF%E5%8D%97%E9%8A%80%E8%A1%8CTHEONE%E5%B0%8A%E6%A6%AE%E7%84%A1%E9%99%90%E5%8D%A1?entry=header&from=%E5%85%A8%E9%83%A8',\n",
       " 'https://www.money101.com.tw/%E4%BF%A1%E7%94%A8%E5%8D%A1/%E5%8F%B0%E6%96%B0%E9%8A%80%E8%A1%8C%E5%9C%8B%E6%B3%B0%E8%88%AA%E7%A9%BA%E4%B8%96%E7%95%8C%E5%8D%A1?entry=header&from=%E5%85%A8%E9%83%A8',\n",
       " 'https://www.money101.com.tw/%E4%BF%A1%E7%94%A8%E5%8D%A1/%E8%8A%B1%E6%97%97%E9%8A%80%E8%A1%8C%E5%AF%B0%E6%97%85%E5%B0%8A%E5%B0%9A%E4%B8%96%E7%95%8C%E6%82%A0%E9%81%8A%E5%8D%A1?entry=header&from=%E5%85%A8%E9%83%A8',\n",
       " 'https://www.money101.com.tw/%E4%BF%A1%E7%94%A8%E5%8D%A1/%E5%9C%8B%E6%B3%B0%E4%B8%96%E8%8F%AF%E9%95%B7%E6%A6%AE%E8%81%AF%E5%90%8D%E6%A5%B5%E8%87%B4%E7%84%A1%E9%99%90%E5%8D%A1?entry=header&from=%E5%85%A8%E9%83%A8',\n",
       " 'https://www.money101.com.tw/%E4%BF%A1%E7%94%A8%E5%8D%A1/%E5%9C%8B%E6%B3%B0%E4%B8%96%E8%8F%AF%E4%B8%96%E7%95%8C%E5%8D%A1?entry=header&from=%E5%85%A8%E9%83%A8',\n",
       " 'https://www.money101.com.tw/%E4%BF%A1%E7%94%A8%E5%8D%A1/%E8%8A%B1%E6%97%97%E9%8A%80%E8%A1%8CCITIPRESTIGE?entry=header&from=%E5%85%A8%E9%83%A8',\n",
       " 'https://www.money101.com.tw/%E4%BF%A1%E7%94%A8%E5%8D%A1/%E7%BE%8E%E5%9C%8B%E9%81%8B%E9%80%9A%E9%95%B7%E6%A6%AE%E8%88%AA%E7%A9%BA%E7%B0%BD%E5%B8%B3%E7%99%BD%E9%87%91%E5%8D%A1?entry=header&from=%E5%85%A8%E9%83%A8',\n",
       " 'https://www.money101.com.tw/%E4%BF%A1%E7%94%A8%E5%8D%A1/%E7%8E%89%E5%B1%B1%E9%8A%80%E8%A1%8C%E7%8E%89%E5%B1%B1Only%E5%8D%A1?entry=header&from=%E5%85%A8%E9%83%A8',\n",
       " 'https://www.money101.com.tw/%E4%BF%A1%E7%94%A8%E5%8D%A1/%E7%8E%89%E5%B1%B1%E9%8A%80%E8%A1%8C%E5%BC%98%E5%AE%89%E8%97%A5%E7%B2%A7%E8%81%AF%E5%90%8D%E5%8D%A1?entry=header&from=%E5%85%A8%E9%83%A8',\n",
       " 'https://www.money101.com.tw/%E4%BF%A1%E7%94%A8%E5%8D%A1/%E7%8E%89%E5%B1%B1%E9%8A%80%E8%A1%8C%E8%87%BA%E5%8C%97%E5%8D%97%E5%B1%B1%E5%BB%A3%E5%A0%B4%E8%81%AF%E5%90%8D%E5%8D%A1?entry=header&from=%E5%85%A8%E9%83%A8',\n",
       " 'https://www.money101.com.tw/%E4%BF%A1%E7%94%A8%E5%8D%A1/%E7%8E%89%E5%B1%B1%E9%8A%80%E8%A1%8C%E5%95%84%E6%9C%A8%E9%B3%A5%E6%82%A0%E9%81%8A%E8%81%AF%E5%90%8D%E5%8D%A1?entry=header&from=%E5%85%A8%E9%83%A8',\n",
       " 'https://www.money101.com.tw/%E4%BF%A1%E7%94%A8%E5%8D%A1/%E5%9C%8B%E6%B3%B0%E4%B8%96%E8%8F%AF%E7%99%BD%E9%87%91%E5%8D%A1?entry=header&from=%E5%85%A8%E9%83%A8',\n",
       " 'https://www.money101.com.tw/%E4%BF%A1%E7%94%A8%E5%8D%A1/%E7%BE%8E%E5%9C%8B%E9%81%8B%E9%80%9A%E7%B0%BD%E5%B8%B3%E5%8D%A1?entry=header&from=%E5%85%A8%E9%83%A8',\n",
       " 'https://www.money101.com.tw/%E4%BF%A1%E7%94%A8%E5%8D%A1/%E7%BE%8E%E5%9C%8B%E9%81%8B%E9%80%9A%E4%BF%A1%E7%94%A8%E9%87%91%E5%8D%A1?entry=header&from=%E5%85%A8%E9%83%A8',\n",
       " 'https://www.money101.com.tw/%E4%BF%A1%E7%94%A8%E5%8D%A1/%E5%87%B1%E5%9F%BA%E9%8A%80%E8%A1%8C%E7%84%A1%E9%99%90%E5%8D%A1?entry=header&from=%E5%85%A8%E9%83%A8',\n",
       " 'https://www.money101.com.tw/%E4%BF%A1%E7%94%A8%E5%8D%A1/%E7%BE%8E%E5%9C%8B%E9%81%8B%E9%80%9A%E5%9C%8B%E6%B3%B0%E8%88%AA%E7%A9%BA%E5%B0%8A%E5%B0%9A%E4%BF%A1%E7%94%A8%E5%8D%A1?entry=header&from=%E5%85%A8%E9%83%A8']"
      ]
     },
     "execution_count": 78,
     "metadata": {},
     "output_type": "execute_result"
    }
   ],
   "source": [
    "links"
   ]
  },
  {
   "cell_type": "code",
   "execution_count": 79,
   "metadata": {},
   "outputs": [
    {
     "data": {
      "text/plain": [
       "298"
      ]
     },
     "execution_count": 79,
     "metadata": {},
     "output_type": "execute_result"
    }
   ],
   "source": [
    "len(links)"
   ]
  },
  {
   "cell_type": "code",
   "execution_count": 80,
   "metadata": {},
   "outputs": [
    {
     "data": {
      "text/plain": [
       "298"
      ]
     },
     "execution_count": 80,
     "metadata": {},
     "output_type": "execute_result"
    }
   ],
   "source": [
    "len(set(links))"
   ]
  },
  {
   "cell_type": "code",
   "execution_count": null,
   "metadata": {},
   "outputs": [],
   "source": []
  },
  {
   "cell_type": "code",
   "execution_count": 81,
   "metadata": {
    "scrolled": true
   },
   "outputs": [
    {
     "data": {
      "text/plain": [
       "'298 項搜尋結果 -'"
      ]
     },
     "execution_count": 81,
     "metadata": {},
     "output_type": "execute_result"
    }
   ],
   "source": [
    "driver.find_element_by_class_name('h3').text"
   ]
  },
  {
   "cell_type": "code",
   "execution_count": 82,
   "metadata": {},
   "outputs": [],
   "source": [
    "def rename(title):\n",
    "    banned_list = [':','\"','<','>','?','\\\\','/','*','|']\n",
    "    for ii in banned_list:\n",
    "        if ii in title:\n",
    "            title = title.replace(ii,'')\n",
    "    return title"
   ]
  },
  {
   "cell_type": "code",
   "execution_count": 83,
   "metadata": {
    "scrolled": true
   },
   "outputs": [],
   "source": [
    "picname=[]\n",
    "piclink=[]\n",
    "respath= r'./cardpic'\n",
    "if not os.path.exists(respath):\n",
    "    os.mkdir(respath)\n",
    "\n",
    "for link in links:\n",
    "\n",
    "    driver.get(link)\n",
    "    pic = driver.find_element_by_class_name('product-image').find_element_by_css_selector('img').get_attribute('src')\n",
    "    title = driver.find_element_by_class_name('h3').text\n",
    "    \n",
    "    title= rename(title)\n",
    "    \n",
    "    picname.append(title)\n",
    "    piclink.append(pic)\n",
    "#     print(title)\n",
    "#     print(pic)\n",
    "    location = os.path.join(respath+'/%s.png'%(title))\n",
    "    request.urlretrieve(pic,location)\n",
    "    \n",
    "#     except:\n",
    "#         pass\n",
    "#     if pic != []:\n",
    "#         print(pic)\n",
    "#         for i in pic:\n",
    "#             url01=i.get_attribute('src')\n",
    "#             piclink.append(url01)"
   ]
  },
  {
   "cell_type": "code",
   "execution_count": 55,
   "metadata": {},
   "outputs": [
    {
     "data": {
      "text/plain": [
       "'台新銀行 大潤發/大買家聯名卡'"
      ]
     },
     "execution_count": 55,
     "metadata": {},
     "output_type": "execute_result"
    }
   ],
   "source": [
    "title=rename(title)\n",
    "title"
   ]
  },
  {
   "cell_type": "code",
   "execution_count": null,
   "metadata": {},
   "outputs": [],
   "source": [
    "driver.find_element_by_class_name('product-image').find_element_by_css_selector('img').get_attribute('src')"
   ]
  },
  {
   "cell_type": "code",
   "execution_count": null,
   "metadata": {
    "scrolled": true
   },
   "outputs": [],
   "source": [
    "driver.find_element_by_class_name('product-image product-image-landscape')"
   ]
  },
  {
   "cell_type": "code",
   "execution_count": null,
   "metadata": {},
   "outputs": [],
   "source": []
  }
 ],
 "metadata": {
  "kernelspec": {
   "display_name": "Python 3",
   "language": "python",
   "name": "python3"
  },
  "language_info": {
   "codemirror_mode": {
    "name": "ipython",
    "version": 3
   },
   "file_extension": ".py",
   "mimetype": "text/x-python",
   "name": "python",
   "nbconvert_exporter": "python",
   "pygments_lexer": "ipython3",
   "version": "3.7.3"
  }
 },
 "nbformat": 4,
 "nbformat_minor": 2
}
