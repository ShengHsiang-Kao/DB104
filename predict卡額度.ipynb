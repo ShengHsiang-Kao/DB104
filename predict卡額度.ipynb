{
 "cells": [
  {
   "cell_type": "code",
   "execution_count": 8,
   "metadata": {},
   "outputs": [],
   "source": [
    "from keras.datasets import boston_housing\n",
    "from keras.datasets import reuters\n",
    "import numpy as np\n",
    "import os\n",
    "import tensorflow as tf\n",
    "from keras import models\n",
    "from keras import layers\n",
    "from keras import optimizers\n",
    "from keras import losses\n",
    "from keras import metrics\n",
    "import matplotlib.pyplot as plt\n",
    "import time\n",
    "import pandas as pd\n",
    "import random\n",
    "from sklearn.utils import shuffle\n",
    "from sklearn.model_selection import cross_validate\n",
    "from sklearn.model_selection import train_test_split"
   ]
  },
  {
   "cell_type": "code",
   "execution_count": 21,
   "metadata": {},
   "outputs": [
    {
     "name": "stdout",
     "output_type": "stream",
     "text": [
      "(1427, 6)\n",
      "(612, 6)\n",
      "(1427, 1)\n",
      "(612, 1)\n"
     ]
    },
    {
     "data": {
      "text/html": [
       "<div>\n",
       "<style scoped>\n",
       "    .dataframe tbody tr th:only-of-type {\n",
       "        vertical-align: middle;\n",
       "    }\n",
       "\n",
       "    .dataframe tbody tr th {\n",
       "        vertical-align: top;\n",
       "    }\n",
       "\n",
       "    .dataframe thead th {\n",
       "        text-align: right;\n",
       "    }\n",
       "</style>\n",
       "<table border=\"1\" class=\"dataframe\">\n",
       "  <thead>\n",
       "    <tr style=\"text-align: right;\">\n",
       "      <th></th>\n",
       "      <th>age</th>\n",
       "      <th>serveTime</th>\n",
       "      <th>Loan</th>\n",
       "      <th>SalPerY</th>\n",
       "      <th>holdCard</th>\n",
       "      <th>Career</th>\n",
       "    </tr>\n",
       "  </thead>\n",
       "  <tbody>\n",
       "    <tr>\n",
       "      <th>0</th>\n",
       "      <td>-4.06771</td>\n",
       "      <td>1.96412</td>\n",
       "      <td>4.27199</td>\n",
       "      <td>-0.120386</td>\n",
       "      <td>0.845662</td>\n",
       "      <td>-1.73233</td>\n",
       "    </tr>\n",
       "    <tr>\n",
       "      <th>1</th>\n",
       "      <td>0.236575</td>\n",
       "      <td>-0.362508</td>\n",
       "      <td>-0.588851</td>\n",
       "      <td>-0.120386</td>\n",
       "      <td>-1.18251</td>\n",
       "      <td>-3.28804</td>\n",
       "    </tr>\n",
       "    <tr>\n",
       "      <th>2</th>\n",
       "      <td>0.236575</td>\n",
       "      <td>-0.362508</td>\n",
       "      <td>-0.588851</td>\n",
       "      <td>-0.701995</td>\n",
       "      <td>2.87383</td>\n",
       "      <td>-3.28804</td>\n",
       "    </tr>\n",
       "  </tbody>\n",
       "</table>\n",
       "</div>"
      ],
      "text/plain": [
       "        age serveTime      Loan   SalPerY  holdCard   Career\n",
       "0  -4.06771   1.96412   4.27199 -0.120386  0.845662 -1.73233\n",
       "1  0.236575 -0.362508 -0.588851 -0.120386  -1.18251 -3.28804\n",
       "2  0.236575 -0.362508 -0.588851 -0.701995   2.87383 -3.28804"
      ]
     },
     "execution_count": 21,
     "metadata": {},
     "output_type": "execute_result"
    }
   ],
   "source": [
    "def to_one_hot(labels, dimension=5):\n",
    "    results = np.zeros((len(labels),dimension))\n",
    "    for i,label in enumerate(labels):\n",
    "        results[i,label]=1.\n",
    "    return results\n",
    "\n",
    "\n",
    "df = pd.read_excel(r'C:\\Users\\Big data\\Desktop\\補值\\補值data\\補值_rf_Y分群.xls',encoding='utf-16')\n",
    "df = df.loc[:, [\"age\",\"serveTime\",\"credLimit\",\"Loan\",\"SalPerY\",\"holdCard\",\"Career\"]] \n",
    "len(df)\n",
    "\n",
    "for i in range(3):\n",
    "    df = shuffle(df)\n",
    "#再切成訓練與測試\n",
    "train_data, test_data, train_targets, test_targets = train_test_split(df.loc[:, [\"age\",\"serveTime\",\"Loan\",\"SalPerY\",\"holdCard\",\"Career\"]] , df.loc[:, [\"credLimit\"]] , test_size=0.3, random_state=42)\n",
    "print(train_data.shape)\n",
    "print(test_data.shape)\n",
    "print(train_targets.shape)\n",
    "print(test_targets.shape)\n",
    "\n",
    "train_data = np.array(train_data).astype(float)\n",
    "test_data = np.array(test_data).astype(float)\n",
    "train_targets = np.array(train_targets).astype(int)\n",
    "test_targets = np.array(test_targets).astype(int)\n",
    "\n",
    "train_targets = to_one_hot(train_targets)\n",
    "test_targets = to_one_hot(test_targets)\n",
    "\n",
    "mean = train_data.mean(axis=0)\n",
    "train_data -=mean\n",
    "std = train_data.std(axis=0)\n",
    "train_data/=std\n",
    "test_data-=mean\n",
    "test_data/=std\n",
    "\n",
    "#模型定義\n",
    "model = models.Sequential()\n",
    "model.add(layers.Dense(12, activation='relu',input_shape=(6, )))\n",
    "model.add(layers.Dense(6, activation='relu'))\n",
    "\n",
    "model.add(layers.Dense(5, activation='softmax'))\n",
    "\n",
    "    \n",
    "\n"
   ]
  },
  {
   "cell_type": "code",
   "execution_count": 137,
   "metadata": {},
   "outputs": [],
   "source": [
    "def inputs():\n",
    "    a,b,c,d,e,f=0,0,0,0,0,0\n",
    "    a=input(\"age\");b=input(\"serveTime\");c=input(\"Loan\");d=input(\"SalPerY\");e=input(\"holdCard\");\n",
    "    f=input(\"Career\");\n",
    "    \n",
    "    list_1=[a,b,c,d,e,f]\n",
    "    for n,i in enumerate(list_1):\n",
    "        try:\n",
    "            list_1[n]=int(i)\n",
    "        except:\n",
    "            list_1[n]=0\n",
    "        \n",
    "        \n",
    "    userdf= pd.DataFrame(columns=[\"age\",\"serveTime\",\"Loan\",\"SalPerY\",\"holdCard\",\"Career\"])\n",
    "    userdf.loc[0]=list_1\n",
    "    userdf-=mean\n",
    "    userdf/=std\n",
    "\n",
    "    preds = model.predict(userdf)\n",
    "    print(preds)\n",
    "    #print(max(preds))\n",
    "    pp=np.argmax(preds)\n",
    "    print(preds.item(np.argmax(preds)))\n",
    "    \n",
    "    list_2=['2W~4.5W','4.5W~9.5W','9.5W~19.5W','19.5W~29.5W','29.5W以上']\n",
    "    print('您的額度是',list_2[pp])\n",
    "    \n",
    "    \n",
    "    "
   ]
  },
  {
   "cell_type": "code",
   "execution_count": 138,
   "metadata": {},
   "outputs": [
    {
     "name": "stdout",
     "output_type": "stream",
     "text": [
      "age\n",
      "serveTime\n",
      "Loan\n",
      "SalPerY\n",
      "holdCard\n",
      "Career1\n",
      "[[0.4740984  0.13663268 0.06287735 0.17734961 0.14904201]]\n",
      "0.47409841418266296\n",
      "您的額度是 2W~4.5W\n"
     ]
    }
   ],
   "source": [
    "inputs()"
   ]
  },
  {
   "cell_type": "code",
   "execution_count": 35,
   "metadata": {},
   "outputs": [
    {
     "name": "stdout",
     "output_type": "stream",
     "text": [
      "4\n"
     ]
    }
   ],
   "source": [
    "import numpy \n",
    "np\n",
    "print(np.max([1, 2, 3, 4]))"
   ]
  },
  {
   "cell_type": "code",
   "execution_count": null,
   "metadata": {},
   "outputs": [],
   "source": []
  }
 ],
 "metadata": {
  "kernelspec": {
   "display_name": "Python 3",
   "language": "python",
   "name": "python3"
  },
  "language_info": {
   "codemirror_mode": {
    "name": "ipython",
    "version": 3
   },
   "file_extension": ".py",
   "mimetype": "text/x-python",
   "name": "python",
   "nbconvert_exporter": "python",
   "pygments_lexer": "ipython3",
   "version": "3.7.3"
  }
 },
 "nbformat": 4,
 "nbformat_minor": 2
}
