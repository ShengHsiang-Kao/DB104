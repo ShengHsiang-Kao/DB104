{
 "cells": [
  {
   "cell_type": "code",
   "execution_count": 1,
   "metadata": {},
   "outputs": [],
   "source": [
    "import json\n",
    "import time\n",
    "import pymongo\n",
    "import pandas as pd"
   ]
  },
  {
   "cell_type": "code",
   "execution_count": null,
   "metadata": {},
   "outputs": [],
   "source": [
    "#丟入mongodb\n",
    "\n",
    "\n",
    "#連接 mongodb\n",
    "\n",
    "client = pymongo.MongoClient(host='123.241.175.34', port=27017)\n",
    "#mongodb帳號密碼\n",
    "\n",
    "client.admin.authenticate('root', '1qaz@WSX3edc')\n",
    "\n",
    "\n",
    "\n",
    "#設定名稱為test的資料庫 也可用 db = client['test']\n",
    "\n",
    "db_GPS = client.GPS\n",
    "coll_LP = db_GPS.LINEPay_store\n",
    "#df 轉json\n",
    "df_store_list=pd.read_excel(r'./store_location.xlsx',encoding='utf-16',index_col=0)\n",
    "store_list= json.loads(df_store_list.T.to_json()).values()\n",
    "coll_LP .insert_many(store_list)"
   ]
  },
  {
   "cell_type": "code",
   "execution_count": null,
   "metadata": {},
   "outputs": [],
   "source": [
    "#df to json\n",
    "json.loads(df_store_list.to_json(orient='index',force_ascii=False)).values()\n",
    "json.loads(df_store_list.T.to_json()).values()"
   ]
  },
  {
   "cell_type": "code",
   "execution_count": null,
   "metadata": {},
   "outputs": [],
   "source": [
    "#df to json file\n",
    "df_store_list.to_json('./LINEPay_store_location.json',orient='index',force_ascii=False)"
   ]
  }
 ],
 "metadata": {
  "kernelspec": {
   "display_name": "Python 3",
   "language": "python",
   "name": "python3"
  },
  "language_info": {
   "codemirror_mode": {
    "name": "ipython",
    "version": 3
   },
   "file_extension": ".py",
   "mimetype": "text/x-python",
   "name": "python",
   "nbconvert_exporter": "python",
   "pygments_lexer": "ipython3",
   "version": "3.7.3"
  }
 },
 "nbformat": 4,
 "nbformat_minor": 2
}
