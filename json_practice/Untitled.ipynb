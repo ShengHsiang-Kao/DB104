{
 "cells": [
  {
   "cell_type": "code",
   "execution_count": 7,
   "metadata": {},
   "outputs": [
    {
     "name": "stdout",
     "output_type": "stream",
     "text": [
      "x  None\n"
     ]
    }
   ],
   "source": [
    "x = None \n",
    "if x: \n",
    "    print ('if x')\n",
    "else:\n",
    "    print ('x  None')\n",
    "# if x is not None: \n",
    "#     print ('if x is not None')"
   ]
  },
  {
   "cell_type": "code",
   "execution_count": 10,
   "metadata": {},
   "outputs": [
    {
     "name": "stdout",
     "output_type": "stream",
     "text": [
      "x is None\n"
     ]
    }
   ],
   "source": [
    "x = []\n",
    "if x: \n",
    "    print ('if x')\n",
    "else:\n",
    "    print ('x is None')\n",
    "# if x is not None: \n",
    "#     print ('if x is not None')"
   ]
  },
  {
   "cell_type": "code",
   "execution_count": 13,
   "metadata": {},
   "outputs": [
    {
     "name": "stdout",
     "output_type": "stream",
     "text": [
      "x is not None\n"
     ]
    }
   ],
   "source": [
    "x = 1\n",
    "if x: \n",
    "    print ('x is not None')\n",
    "else:\n",
    "    print ('x is None')\n",
    "# if x is not None: \n",
    "#     print ('if x is not None')"
   ]
  },
  {
   "cell_type": "code",
   "execution_count": null,
   "metadata": {},
   "outputs": [],
   "source": []
  }
 ],
 "metadata": {
  "kernelspec": {
   "display_name": "Python 3",
   "language": "python",
   "name": "python3"
  },
  "language_info": {
   "codemirror_mode": {
    "name": "ipython",
    "version": 3
   },
   "file_extension": ".py",
   "mimetype": "text/x-python",
   "name": "python",
   "nbconvert_exporter": "python",
   "pygments_lexer": "ipython3",
   "version": "3.7.3"
  }
 },
 "nbformat": 4,
 "nbformat_minor": 2
}
