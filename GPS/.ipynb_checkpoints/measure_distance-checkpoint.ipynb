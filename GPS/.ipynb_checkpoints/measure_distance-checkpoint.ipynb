{
 "cells": [
  {
   "cell_type": "code",
   "execution_count": 82,
   "metadata": {},
   "outputs": [],
   "source": [
    "from geopy.distance import geodesic\n",
    "from geopy.geocoders import Nominatim\n",
    "import googlemaps\n",
    "import requests\n",
    "import pandas as pd\n",
    "from bs4 import BeautifulSoup\n",
    "import json\n",
    "import time"
   ]
  },
  {
   "cell_type": "code",
   "execution_count": 83,
   "metadata": {},
   "outputs": [],
   "source": [
    "df_store_list=pd.read_excel(r'./store_location.xlsx',encoding='utf-16',index_col=0)"
   ]
  },
  {
   "cell_type": "code",
   "execution_count": 43,
   "metadata": {
    "scrolled": true
   },
   "outputs": [],
   "source": [
    "# df_store_list=df_store_list.reset_index()\n",
    "# df_store_list=df_store_list.drop(['index'],axis=1)"
   ]
  },
  {
   "cell_type": "code",
   "execution_count": 66,
   "metadata": {
    "scrolled": true
   },
   "outputs": [
    {
     "data": {
      "text/html": [
       "<div>\n",
       "<style scoped>\n",
       "    .dataframe tbody tr th:only-of-type {\n",
       "        vertical-align: middle;\n",
       "    }\n",
       "\n",
       "    .dataframe tbody tr th {\n",
       "        vertical-align: top;\n",
       "    }\n",
       "\n",
       "    .dataframe thead th {\n",
       "        text-align: right;\n",
       "    }\n",
       "</style>\n",
       "<table border=\"1\" class=\"dataframe\">\n",
       "  <thead>\n",
       "    <tr style=\"text-align: right;\">\n",
       "      <th></th>\n",
       "      <th>store</th>\n",
       "      <th>store_name</th>\n",
       "      <th>address</th>\n",
       "      <th>lat</th>\n",
       "      <th>lng</th>\n",
       "    </tr>\n",
       "  </thead>\n",
       "  <tbody>\n",
       "    <tr>\n",
       "      <th>0</th>\n",
       "      <td>屈臣氏</td>\n",
       "      <td>七堵門市</td>\n",
       "      <td>基隆市七堵區明德一路188號1-2F</td>\n",
       "      <td>25.0975</td>\n",
       "      <td>121.713030</td>\n",
       "    </tr>\n",
       "    <tr>\n",
       "      <th>1</th>\n",
       "      <td>屈臣氏</td>\n",
       "      <td>仁三門市</td>\n",
       "      <td>基隆市仁愛區仁三路68號</td>\n",
       "      <td>25.1289</td>\n",
       "      <td>121.742670</td>\n",
       "    </tr>\n",
       "    <tr>\n",
       "      <th>2</th>\n",
       "      <td>屈臣氏</td>\n",
       "      <td>基隆門市</td>\n",
       "      <td>基隆市仁愛區忠一路8號</td>\n",
       "      <td>25.1309</td>\n",
       "      <td>121.740541</td>\n",
       "    </tr>\n",
       "    <tr>\n",
       "      <th>3</th>\n",
       "      <td>屈臣氏</td>\n",
       "      <td>廟口門市</td>\n",
       "      <td>基隆市仁愛區愛四路76號</td>\n",
       "      <td>25.1296</td>\n",
       "      <td>121.744538</td>\n",
       "    </tr>\n",
       "    <tr>\n",
       "      <th>4</th>\n",
       "      <td>屈臣氏</td>\n",
       "      <td>安一門市</td>\n",
       "      <td>基隆市安樂區安一路115號</td>\n",
       "      <td>25.1318</td>\n",
       "      <td>121.734483</td>\n",
       "    </tr>\n",
       "  </tbody>\n",
       "</table>\n",
       "</div>"
      ],
      "text/plain": [
       "  store store_name             address      lat         lng\n",
       "0   屈臣氏       七堵門市  基隆市七堵區明德一路188號1-2F  25.0975  121.713030\n",
       "1   屈臣氏       仁三門市        基隆市仁愛區仁三路68號  25.1289  121.742670\n",
       "2   屈臣氏       基隆門市         基隆市仁愛區忠一路8號  25.1309  121.740541\n",
       "3   屈臣氏       廟口門市        基隆市仁愛區愛四路76號  25.1296  121.744538\n",
       "4   屈臣氏       安一門市       基隆市安樂區安一路115號  25.1318  121.734483"
      ]
     },
     "execution_count": 66,
     "metadata": {},
     "output_type": "execute_result"
    }
   ],
   "source": [
    "df_store_list.head()"
   ]
  },
  {
   "cell_type": "code",
   "execution_count": 99,
   "metadata": {
    "scrolled": true
   },
   "outputs": [],
   "source": [
    "#設計回傳附近店家優惠函數\n",
    "def near_by_info(now_place):\n",
    "    import googlemaps\n",
    "    #輸入API憑證，上限40000次\n",
    "    gmap=googlemaps.Client(key='')\n",
    "    #轉換地址為經緯度\n",
    "    geocode=gmap.geocode(now_place)\n",
    "    #若無法轉換成功\n",
    "    if geocode==[]:\n",
    "        print('偵測不到位置')\n",
    "\n",
    "    \n",
    "    else:\n",
    "        code=geocode[0]['geometry']['location']\n",
    "        now_code=(code['lat'],code['lng'])\n",
    "        store=[]\n",
    "        addr=[]\n",
    "        info=[]\n",
    "        distance=[]\n",
    "\n",
    "        #找尋資料庫df_store_list中商家位置，計算距離\n",
    "        for i in range(len(df_store_list)):\n",
    "            address=(df_store_list['lat'][i],df_store_list['lng'][i])\n",
    "            #計算當下位置與商家位置距離\n",
    "            dist=geodesic(address,now_code).kilometers\n",
    "            #若小於0.5公里\n",
    "            if dist<0.5:\n",
    "                store.append(df_store_list['store'][i])\n",
    "                if df_store_list['store'][i]=='屈臣氏':\n",
    "                    info.append('刷LINEPay卡5%回饋')\n",
    "                elif df_store_list['store'][i]=='美廉社':\n",
    "                    info.append('刷LINEPay卡2%回饋')\n",
    "                addr.append(df_store_list['address'][i])\n",
    "                distance.append(str(round(dist,2))+'km')\n",
    "        neardf=pd.DataFrame({'店家':store,'優惠內容':info,'地址':addr,'距離':distance},columns=['店家','優惠內容','地址','距離'])\n",
    "        if len(neardf)==0:\n",
    "            print('附近沒有優惠店家')\n",
    "        else:\n",
    "            return neardf\n"
   ]
  },
  {
   "cell_type": "code",
   "execution_count": 98,
   "metadata": {},
   "outputs": [
    {
     "name": "stdout",
     "output_type": "stream",
     "text": [
      "偵測不到位置\n"
     ]
    }
   ],
   "source": [
    "near_by_info('台中市大里區至聖路74號')"
   ]
  },
  {
   "cell_type": "code",
   "execution_count": 56,
   "metadata": {},
   "outputs": [
    {
     "name": "stdout",
     "output_type": "stream",
     "text": [
      "        name           address\n",
      "107  屈臣氏忠五門市  台北市信義區忠孝東路五段494號\n",
      "112  屈臣氏中坡門市  台北市南港區忠孝東路五段982號\n"
     ]
    }
   ],
   "source": [
    "\n",
    "now_place=(25.042354, 121.578692)\n",
    "near=[]\n",
    "for i in range(len(df_watson_list)):\n",
    "    address=(df_watson_list['lat'][i],df_watson_list['lng'][i])\n",
    "    dist=geodesic(address,now_place).kilometers\n",
    "    if dist<0.5:\n",
    "        near.append(i)\n",
    "    #print(near)\n",
    "if near==[]:\n",
    "    print( 'There is no watson near_by')\n",
    "else:\n",
    "    print( df_watson_list.loc[near,['name','address']])"
   ]
  },
  {
   "cell_type": "code",
   "execution_count": null,
   "metadata": {},
   "outputs": [],
   "source": [
    "df_watson_list.loc[[1,3],['name','address']]"
   ]
  }
 ],
 "metadata": {
  "kernelspec": {
   "display_name": "Python 3",
   "language": "python",
   "name": "python3"
  },
  "language_info": {
   "codemirror_mode": {
    "name": "ipython",
    "version": 3
   },
   "file_extension": ".py",
   "mimetype": "text/x-python",
   "name": "python",
   "nbconvert_exporter": "python",
   "pygments_lexer": "ipython3",
   "version": "3.7.3"
  }
 },
 "nbformat": 4,
 "nbformat_minor": 2
}
