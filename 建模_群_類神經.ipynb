{
 "cells": [
  {
   "cell_type": "code",
   "execution_count": 1,
   "metadata": {},
   "outputs": [
    {
     "name": "stderr",
     "output_type": "stream",
     "text": [
      "Using TensorFlow backend.\n"
     ]
    }
   ],
   "source": [
    "from keras.datasets import boston_housing\n",
    "from keras.datasets import reuters\n",
    "import numpy as np\n",
    "import os\n",
    "import tensorflow as tf\n",
    "from keras import models\n",
    "from keras import layers\n",
    "from keras import optimizers\n",
    "from keras import losses\n",
    "from keras import metrics\n",
    "import matplotlib.pyplot as plt\n",
    "import time\n",
    "import pandas as pd\n",
    "import random\n",
    "from sklearn.utils import shuffle\n",
    "from sklearn.model_selection import cross_validate\n",
    "from sklearn.model_selection import train_test_split\n",
    "from keras.optimizers import Adam,Adagrad"
   ]
  },
  {
   "cell_type": "code",
   "execution_count": 2,
   "metadata": {
    "scrolled": true
   },
   "outputs": [
    {
     "data": {
      "text/plain": [
       "1687"
      ]
     },
     "execution_count": 2,
     "metadata": {},
     "output_type": "execute_result"
    }
   ],
   "source": [
    "df = pd.read_excel(r'C:\\Users\\Big data\\Desktop\\class\\funcardproject\\斷詞與和卡額度_20群.xls',encoding='utf-16')\n",
    "df = df.loc[:, [\"age\",\"serveTime\",\"credLimit\",\"Loan\",\"SalPerY\",\"holdCard\",\"Career\",\"credLimit_group\"]] \n",
    "len(df)"
   ]
  },
  {
   "cell_type": "code",
   "execution_count": 3,
   "metadata": {
    "scrolled": true
   },
   "outputs": [],
   "source": [
    "df =df.dropna(\n",
    "    axis=0,     # 0: 对行进行操作; 1: 对列进行操作\n",
    "    how='any'   # 'any': 只要存在 NaN 就 drop 掉; 'all': 必须全部是 NaN 才 drop \n",
    "    ) "
   ]
  },
  {
   "cell_type": "code",
   "execution_count": 4,
   "metadata": {},
   "outputs": [],
   "source": [
    "df['credLimit_group'] = df['credLimit_group'].astype('int')"
   ]
  },
  {
   "cell_type": "code",
   "execution_count": 5,
   "metadata": {
    "scrolled": true
   },
   "outputs": [
    {
     "name": "stdout",
     "output_type": "stream",
     "text": [
      "<class 'pandas.core.frame.DataFrame'>\n",
      "Int64Index: 1680 entries, 0 to 1686\n",
      "Data columns (total 8 columns):\n",
      "age                1680 non-null float64\n",
      "serveTime          1680 non-null float64\n",
      "credLimit          1680 non-null int64\n",
      "Loan               1680 non-null float64\n",
      "SalPerY            1680 non-null int64\n",
      "holdCard           1680 non-null int64\n",
      "Career             1680 non-null int64\n",
      "credLimit_group    1680 non-null int32\n",
      "dtypes: float64(3), int32(1), int64(4)\n",
      "memory usage: 111.6 KB\n"
     ]
    }
   ],
   "source": [
    "df.info()"
   ]
  },
  {
   "cell_type": "code",
   "execution_count": 17,
   "metadata": {},
   "outputs": [
    {
     "name": "stdout",
     "output_type": "stream",
     "text": [
      "(1176, 6)\n",
      "(504, 6)\n",
      "(1176, 1)\n",
      "(504, 1)\n"
     ]
    }
   ],
   "source": [
    "#先打散資料(三次)\n",
    "for i in range(3):\n",
    "    df = shuffle(df)\n",
    "#再切成訓練與測試\n",
    "train_data, test_data, train_targets, test_targets = train_test_split(df.loc[:, [\"age\",\"serveTime\",\"Loan\",\"SalPerY\",\"holdCard\",\"Career\"]] , df.loc[:, [\"credLimit_group\"]] , test_size=0.3)\n",
    "print(train_data.shape)\n",
    "print(test_data.shape)\n",
    "print(train_targets.shape)\n",
    "print(test_targets.shape)"
   ]
  },
  {
   "cell_type": "code",
   "execution_count": 18,
   "metadata": {},
   "outputs": [],
   "source": [
    "#轉array\n",
    "train_data = np.array(train_data).astype(float)\n",
    "test_data = np.array(test_data).astype(float)\n",
    "train_targets = np.array(train_targets).astype(int)\n",
    "test_targets = np.array(test_targets).astype(int)\n"
   ]
  },
  {
   "cell_type": "code",
   "execution_count": 19,
   "metadata": {},
   "outputs": [],
   "source": [
    "def to_one_hot(labels, dimension=20):\n",
    "    results = np.zeros((len(labels),dimension))\n",
    "    for i,label in enumerate(labels):\n",
    "        results[i,label]=1.\n",
    "    return results\n",
    "train_targets = to_one_hot(train_targets)\n",
    "test_targets = to_one_hot(test_targets)"
   ]
  },
  {
   "cell_type": "code",
   "execution_count": 20,
   "metadata": {
    "scrolled": true
   },
   "outputs": [
    {
     "name": "stdout",
     "output_type": "stream",
     "text": [
      "(1176, 6)\n",
      "(504, 6)\n",
      "(1176, 20)\n",
      "(504, 20)\n"
     ]
    }
   ],
   "source": [
    "print(train_data.shape)\n",
    "print(test_data.shape)\n",
    "print(train_targets.shape)\n",
    "print(test_targets.shape)"
   ]
  },
  {
   "cell_type": "markdown",
   "metadata": {},
   "source": [
    "# 正規化(例如本資料serveTime與SalPerY不同單位且數值差異甚大,因此需轉為標準差)"
   ]
  },
  {
   "cell_type": "code",
   "execution_count": 21,
   "metadata": {
    "scrolled": true
   },
   "outputs": [],
   "source": [
    "# 懶人正規化??????????????????????\n",
    "mean = train_data.mean(axis=0)\n",
    "train_data -=mean\n",
    "std = train_data.std(axis=0)\n",
    "train_data/=std\n",
    "test_data-=mean\n",
    "test_data/=std\n"
   ]
  },
  {
   "cell_type": "markdown",
   "metadata": {},
   "source": [
    "# 建立模型"
   ]
  },
  {
   "cell_type": "code",
   "execution_count": 22,
   "metadata": {},
   "outputs": [],
   "source": [
    "#模型定義\n",
    "model = models.Sequential()\n",
    "model.add(layers.Dense(30, activation='relu',input_shape=(6 , )))\n",
    "model.add(layers.Dense(25, activation='relu'))\n",
    "model.add(layers.Dense(20, activation='relu'))\n",
    "\n",
    "\n",
    "\n",
    "\n",
    "model.add(layers.Dense(20, activation='softmax'))"
   ]
  },
  {
   "cell_type": "code",
   "execution_count": 23,
   "metadata": {},
   "outputs": [],
   "source": [
    "\n",
    "model.compile(optimizer=optimizers.RMSprop(lr=0.0001, rho=0.9),\n",
    "              loss='categorical_crossentropy',\n",
    "             metrics=['accuracy'])"
   ]
  },
  {
   "cell_type": "code",
   "execution_count": 24,
   "metadata": {
    "scrolled": false
   },
   "outputs": [
    {
     "name": "stdout",
     "output_type": "stream",
     "text": [
      "Model: \"sequential_2\"\n",
      "_________________________________________________________________\n",
      "Layer (type)                 Output Shape              Param #   \n",
      "=================================================================\n",
      "dense_5 (Dense)              (None, 30)                210       \n",
      "_________________________________________________________________\n",
      "dense_6 (Dense)              (None, 25)                775       \n",
      "_________________________________________________________________\n",
      "dense_7 (Dense)              (None, 20)                520       \n",
      "_________________________________________________________________\n",
      "dense_8 (Dense)              (None, 20)                420       \n",
      "=================================================================\n",
      "Total params: 1,925\n",
      "Trainable params: 1,925\n",
      "Non-trainable params: 0\n",
      "_________________________________________________________________\n"
     ]
    }
   ],
   "source": [
    "model.summary()"
   ]
  },
  {
   "cell_type": "code",
   "execution_count": 25,
   "metadata": {
    "scrolled": true
   },
   "outputs": [
    {
     "name": "stdout",
     "output_type": "stream",
     "text": [
      "Train on 1176 samples, validate on 504 samples\n",
      "Epoch 1/200\n",
      "1176/1176 [==============================] - 0s 304us/step - loss: 2.9781 - accuracy: 0.0672 - val_loss: 2.9404 - val_accuracy: 0.1587\n",
      "Epoch 2/200\n",
      "1176/1176 [==============================] - 0s 236us/step - loss: 2.8730 - accuracy: 0.2338 - val_loss: 2.8240 - val_accuracy: 0.2421\n",
      "Epoch 3/200\n",
      "1176/1176 [==============================] - 0s 252us/step - loss: 2.7287 - accuracy: 0.2840 - val_loss: 2.6686 - val_accuracy: 0.2560\n",
      "Epoch 4/200\n",
      "1176/1176 [==============================] - 0s 230us/step - loss: 2.5510 - accuracy: 0.2738 - val_loss: 2.4932 - val_accuracy: 0.2421\n",
      "Epoch 5/200\n",
      "1176/1176 [==============================] - 0s 234us/step - loss: 2.3637 - accuracy: 0.2704 - val_loss: 2.3221 - val_accuracy: 0.2341\n",
      "Epoch 6/200\n",
      "1176/1176 [==============================] - 0s 237us/step - loss: 2.1988 - accuracy: 0.2687 - val_loss: 2.1841 - val_accuracy: 0.2381\n",
      "Epoch 7/200\n",
      "1176/1176 [==============================] - 0s 244us/step - loss: 2.0754 - accuracy: 0.2696 - val_loss: 2.0872 - val_accuracy: 0.2341\n",
      "Epoch 8/200\n",
      "1176/1176 [==============================] - 0s 235us/step - loss: 1.9923 - accuracy: 0.2696 - val_loss: 2.0224 - val_accuracy: 0.2440\n",
      "Epoch 9/200\n",
      "1176/1176 [==============================] - 0s 230us/step - loss: 1.9377 - accuracy: 0.2789 - val_loss: 1.9810 - val_accuracy: 0.2659\n",
      "Epoch 10/200\n",
      "1176/1176 [==============================] - 0s 238us/step - loss: 1.9000 - accuracy: 0.3036 - val_loss: 1.9517 - val_accuracy: 0.3095\n",
      "Epoch 11/200\n",
      "1176/1176 [==============================] - 0s 238us/step - loss: 1.8715 - accuracy: 0.3435 - val_loss: 1.9302 - val_accuracy: 0.3075\n",
      "Epoch 12/200\n",
      "1176/1176 [==============================] - 0s 232us/step - loss: 1.8484 - accuracy: 0.3401 - val_loss: 1.9100 - val_accuracy: 0.3254\n",
      "Epoch 13/200\n",
      "1176/1176 [==============================] - 0s 243us/step - loss: 1.8291 - accuracy: 0.3597 - val_loss: 1.8957 - val_accuracy: 0.3254\n",
      "Epoch 14/200\n",
      "1176/1176 [==============================] - 0s 230us/step - loss: 1.8128 - accuracy: 0.3597 - val_loss: 1.8835 - val_accuracy: 0.3274\n",
      "Epoch 15/200\n",
      "1176/1176 [==============================] - 0s 230us/step - loss: 1.7991 - accuracy: 0.3546 - val_loss: 1.8714 - val_accuracy: 0.3274\n",
      "Epoch 16/200\n",
      "1176/1176 [==============================] - 0s 234us/step - loss: 1.7870 - accuracy: 0.3554 - val_loss: 1.8621 - val_accuracy: 0.3294\n",
      "Epoch 17/200\n",
      "1176/1176 [==============================] - 0s 232us/step - loss: 1.7762 - accuracy: 0.3512 - val_loss: 1.8547 - val_accuracy: 0.3294\n",
      "Epoch 18/200\n",
      "1176/1176 [==============================] - 0s 232us/step - loss: 1.7661 - accuracy: 0.3546 - val_loss: 1.8465 - val_accuracy: 0.3333\n",
      "Epoch 19/200\n",
      "1176/1176 [==============================] - 0s 233us/step - loss: 1.7570 - accuracy: 0.3546 - val_loss: 1.8410 - val_accuracy: 0.3254\n",
      "Epoch 20/200\n",
      "1176/1176 [==============================] - 0s 239us/step - loss: 1.7488 - accuracy: 0.3537 - val_loss: 1.8349 - val_accuracy: 0.3234\n",
      "Epoch 21/200\n",
      "1176/1176 [==============================] - 0s 232us/step - loss: 1.7402 - accuracy: 0.3529 - val_loss: 1.8302 - val_accuracy: 0.3155\n",
      "Epoch 22/200\n",
      "1176/1176 [==============================] - 0s 232us/step - loss: 1.7330 - accuracy: 0.3537 - val_loss: 1.8238 - val_accuracy: 0.3155\n",
      "Epoch 23/200\n",
      "1176/1176 [==============================] - 0s 226us/step - loss: 1.7250 - accuracy: 0.3546 - val_loss: 1.8210 - val_accuracy: 0.3175\n",
      "Epoch 24/200\n",
      "1176/1176 [==============================] - 0s 231us/step - loss: 1.7187 - accuracy: 0.3580 - val_loss: 1.8164 - val_accuracy: 0.3155\n",
      "Epoch 25/200\n",
      "1176/1176 [==============================] - 0s 230us/step - loss: 1.7130 - accuracy: 0.3563 - val_loss: 1.8125 - val_accuracy: 0.3155\n",
      "Epoch 26/200\n",
      "1176/1176 [==============================] - 0s 229us/step - loss: 1.7068 - accuracy: 0.3571 - val_loss: 1.8097 - val_accuracy: 0.3194\n",
      "Epoch 27/200\n",
      "1176/1176 [==============================] - 0s 232us/step - loss: 1.7016 - accuracy: 0.3588 - val_loss: 1.8055 - val_accuracy: 0.3214\n",
      "Epoch 28/200\n",
      "1176/1176 [==============================] - 0s 234us/step - loss: 1.6964 - accuracy: 0.3563 - val_loss: 1.8039 - val_accuracy: 0.3214\n",
      "Epoch 29/200\n",
      "1176/1176 [==============================] - 0s 228us/step - loss: 1.6917 - accuracy: 0.3537 - val_loss: 1.8024 - val_accuracy: 0.3214\n",
      "Epoch 30/200\n",
      "1176/1176 [==============================] - 0s 230us/step - loss: 1.6877 - accuracy: 0.3622 - val_loss: 1.8014 - val_accuracy: 0.3175\n",
      "Epoch 31/200\n",
      "1176/1176 [==============================] - 0s 239us/step - loss: 1.6833 - accuracy: 0.3571 - val_loss: 1.7987 - val_accuracy: 0.3194\n",
      "Epoch 32/200\n",
      "1176/1176 [==============================] - 0s 238us/step - loss: 1.6794 - accuracy: 0.3622 - val_loss: 1.7969 - val_accuracy: 0.3175\n",
      "Epoch 33/200\n",
      "1176/1176 [==============================] - 0s 241us/step - loss: 1.6757 - accuracy: 0.3597 - val_loss: 1.7951 - val_accuracy: 0.3214\n",
      "Epoch 34/200\n",
      "1176/1176 [==============================] - 0s 233us/step - loss: 1.6724 - accuracy: 0.3656 - val_loss: 1.7940 - val_accuracy: 0.3234\n",
      "Epoch 35/200\n",
      "1176/1176 [==============================] - 0s 232us/step - loss: 1.6690 - accuracy: 0.3622 - val_loss: 1.7928 - val_accuracy: 0.3234\n",
      "Epoch 36/200\n",
      "1176/1176 [==============================] - 0s 239us/step - loss: 1.6655 - accuracy: 0.3605 - val_loss: 1.7916 - val_accuracy: 0.3194\n",
      "Epoch 37/200\n",
      "1176/1176 [==============================] - 0s 226us/step - loss: 1.6629 - accuracy: 0.3682 - val_loss: 1.7901 - val_accuracy: 0.3194\n",
      "Epoch 38/200\n",
      "1176/1176 [==============================] - 0s 238us/step - loss: 1.6600 - accuracy: 0.3690 - val_loss: 1.7883 - val_accuracy: 0.3214\n",
      "Epoch 39/200\n",
      "1176/1176 [==============================] - 0s 239us/step - loss: 1.6572 - accuracy: 0.3707 - val_loss: 1.7861 - val_accuracy: 0.3333\n",
      "Epoch 40/200\n",
      "1176/1176 [==============================] - 0s 234us/step - loss: 1.6543 - accuracy: 0.3673 - val_loss: 1.7851 - val_accuracy: 0.3313\n",
      "Epoch 41/200\n",
      "1176/1176 [==============================] - 0s 227us/step - loss: 1.6513 - accuracy: 0.3631 - val_loss: 1.7835 - val_accuracy: 0.3333\n",
      "Epoch 42/200\n",
      "1176/1176 [==============================] - 0s 237us/step - loss: 1.6491 - accuracy: 0.3699 - val_loss: 1.7831 - val_accuracy: 0.3313\n",
      "Epoch 43/200\n",
      "1176/1176 [==============================] - 0s 233us/step - loss: 1.6466 - accuracy: 0.3682 - val_loss: 1.7821 - val_accuracy: 0.3313\n",
      "Epoch 44/200\n",
      "1176/1176 [==============================] - 0s 232us/step - loss: 1.6442 - accuracy: 0.3707 - val_loss: 1.7815 - val_accuracy: 0.3294\n",
      "Epoch 45/200\n",
      "1176/1176 [==============================] - 0s 234us/step - loss: 1.6420 - accuracy: 0.3724 - val_loss: 1.7804 - val_accuracy: 0.3333\n",
      "Epoch 46/200\n",
      "1176/1176 [==============================] - 0s 232us/step - loss: 1.6395 - accuracy: 0.3750 - val_loss: 1.7795 - val_accuracy: 0.3393\n",
      "Epoch 47/200\n",
      "1176/1176 [==============================] - 0s 229us/step - loss: 1.6377 - accuracy: 0.3724 - val_loss: 1.7782 - val_accuracy: 0.3373\n",
      "Epoch 48/200\n",
      "1176/1176 [==============================] - 0s 231us/step - loss: 1.6350 - accuracy: 0.3784 - val_loss: 1.7783 - val_accuracy: 0.3353\n",
      "Epoch 49/200\n",
      "1176/1176 [==============================] - 0s 236us/step - loss: 1.6330 - accuracy: 0.3784 - val_loss: 1.7777 - val_accuracy: 0.3373\n",
      "Epoch 50/200\n",
      "1176/1176 [==============================] - 0s 236us/step - loss: 1.6307 - accuracy: 0.3869 - val_loss: 1.7755 - val_accuracy: 0.3393\n",
      "Epoch 51/200\n",
      "1176/1176 [==============================] - 0s 230us/step - loss: 1.6291 - accuracy: 0.3818 - val_loss: 1.7737 - val_accuracy: 0.3413\n",
      "Epoch 52/200\n",
      "1176/1176 [==============================] - 0s 234us/step - loss: 1.6268 - accuracy: 0.3852 - val_loss: 1.7731 - val_accuracy: 0.3373\n",
      "Epoch 53/200\n",
      "1176/1176 [==============================] - 0s 237us/step - loss: 1.6239 - accuracy: 0.3835 - val_loss: 1.7726 - val_accuracy: 0.3373\n",
      "Epoch 54/200\n",
      "1176/1176 [==============================] - 0s 236us/step - loss: 1.6224 - accuracy: 0.3835 - val_loss: 1.7737 - val_accuracy: 0.3373\n",
      "Epoch 55/200\n",
      "1176/1176 [==============================] - 0s 227us/step - loss: 1.6203 - accuracy: 0.3861 - val_loss: 1.7743 - val_accuracy: 0.3393\n",
      "Epoch 56/200\n",
      "1176/1176 [==============================] - 0s 231us/step - loss: 1.6184 - accuracy: 0.3869 - val_loss: 1.7723 - val_accuracy: 0.3512\n",
      "Epoch 57/200\n",
      "1176/1176 [==============================] - 0s 234us/step - loss: 1.6166 - accuracy: 0.3844 - val_loss: 1.7727 - val_accuracy: 0.3512\n",
      "Epoch 58/200\n",
      "1176/1176 [==============================] - 0s 240us/step - loss: 1.6149 - accuracy: 0.3920 - val_loss: 1.7712 - val_accuracy: 0.3433\n",
      "Epoch 59/200\n",
      "1176/1176 [==============================] - 0s 231us/step - loss: 1.6128 - accuracy: 0.3852 - val_loss: 1.7714 - val_accuracy: 0.3433\n",
      "Epoch 60/200\n",
      "1176/1176 [==============================] - 0s 235us/step - loss: 1.6113 - accuracy: 0.3878 - val_loss: 1.7699 - val_accuracy: 0.3413\n",
      "Epoch 61/200\n",
      "1176/1176 [==============================] - 0s 227us/step - loss: 1.6090 - accuracy: 0.3903 - val_loss: 1.7700 - val_accuracy: 0.3433\n",
      "Epoch 62/200\n",
      "1176/1176 [==============================] - 0s 228us/step - loss: 1.6073 - accuracy: 0.3903 - val_loss: 1.7705 - val_accuracy: 0.3552\n",
      "Epoch 63/200\n",
      "1176/1176 [==============================] - 0s 227us/step - loss: 1.6056 - accuracy: 0.3886 - val_loss: 1.7695 - val_accuracy: 0.3591\n",
      "Epoch 64/200\n",
      "1176/1176 [==============================] - 0s 251us/step - loss: 1.6041 - accuracy: 0.3912 - val_loss: 1.7679 - val_accuracy: 0.3571\n",
      "Epoch 65/200\n",
      "1176/1176 [==============================] - 0s 245us/step - loss: 1.6025 - accuracy: 0.3980 - val_loss: 1.7675 - val_accuracy: 0.3532\n",
      "Epoch 66/200\n",
      "1176/1176 [==============================] - 0s 261us/step - loss: 1.6007 - accuracy: 0.3937 - val_loss: 1.7656 - val_accuracy: 0.3552\n",
      "Epoch 67/200\n",
      "1176/1176 [==============================] - 0s 254us/step - loss: 1.5995 - accuracy: 0.3954 - val_loss: 1.7646 - val_accuracy: 0.3532\n",
      "Epoch 68/200\n",
      "1176/1176 [==============================] - 0s 250us/step - loss: 1.5981 - accuracy: 0.3912 - val_loss: 1.7661 - val_accuracy: 0.3492\n",
      "Epoch 69/200\n",
      "1176/1176 [==============================] - 0s 234us/step - loss: 1.5962 - accuracy: 0.3895 - val_loss: 1.7667 - val_accuracy: 0.3532\n",
      "Epoch 70/200\n",
      "1176/1176 [==============================] - 0s 231us/step - loss: 1.5951 - accuracy: 0.3903 - val_loss: 1.7656 - val_accuracy: 0.3512\n",
      "Epoch 71/200\n",
      "1176/1176 [==============================] - 0s 238us/step - loss: 1.5937 - accuracy: 0.3937 - val_loss: 1.7642 - val_accuracy: 0.3532\n",
      "Epoch 72/200\n",
      "1176/1176 [==============================] - 0s 232us/step - loss: 1.5918 - accuracy: 0.3997 - val_loss: 1.7654 - val_accuracy: 0.3532\n",
      "Epoch 73/200\n",
      "1176/1176 [==============================] - 0s 242us/step - loss: 1.5908 - accuracy: 0.3954 - val_loss: 1.7643 - val_accuracy: 0.3452\n",
      "Epoch 74/200\n",
      "1176/1176 [==============================] - 0s 247us/step - loss: 1.5889 - accuracy: 0.3988 - val_loss: 1.7621 - val_accuracy: 0.3631\n",
      "Epoch 75/200\n",
      "1176/1176 [==============================] - 0s 239us/step - loss: 1.5879 - accuracy: 0.3988 - val_loss: 1.7628 - val_accuracy: 0.3532\n",
      "Epoch 76/200\n",
      "1176/1176 [==============================] - 0s 235us/step - loss: 1.5865 - accuracy: 0.4014 - val_loss: 1.7620 - val_accuracy: 0.3611\n",
      "Epoch 77/200\n",
      "1176/1176 [==============================] - 0s 271us/step - loss: 1.5850 - accuracy: 0.4099 - val_loss: 1.7628 - val_accuracy: 0.3552\n",
      "Epoch 78/200\n",
      "1176/1176 [==============================] - 0s 233us/step - loss: 1.5837 - accuracy: 0.4056 - val_loss: 1.7619 - val_accuracy: 0.3552\n",
      "Epoch 79/200\n",
      "1176/1176 [==============================] - 0s 233us/step - loss: 1.5817 - accuracy: 0.4039 - val_loss: 1.7618 - val_accuracy: 0.3571\n",
      "Epoch 80/200\n",
      "1176/1176 [==============================] - 0s 230us/step - loss: 1.5802 - accuracy: 0.4056 - val_loss: 1.7609 - val_accuracy: 0.3571\n",
      "Epoch 81/200\n",
      "1176/1176 [==============================] - 0s 237us/step - loss: 1.5795 - accuracy: 0.4039 - val_loss: 1.7615 - val_accuracy: 0.3611\n",
      "Epoch 82/200\n",
      "1176/1176 [==============================] - 0s 236us/step - loss: 1.5780 - accuracy: 0.4056 - val_loss: 1.7639 - val_accuracy: 0.3552\n",
      "Epoch 83/200\n",
      "1176/1176 [==============================] - 0s 233us/step - loss: 1.5765 - accuracy: 0.4099 - val_loss: 1.7643 - val_accuracy: 0.3552\n",
      "Epoch 84/200\n",
      "1176/1176 [==============================] - 0s 235us/step - loss: 1.5757 - accuracy: 0.4039 - val_loss: 1.7615 - val_accuracy: 0.3591\n",
      "Epoch 85/200\n",
      "1176/1176 [==============================] - 0s 243us/step - loss: 1.5736 - accuracy: 0.4065 - val_loss: 1.7630 - val_accuracy: 0.3591\n",
      "Epoch 86/200\n",
      "1176/1176 [==============================] - 0s 228us/step - loss: 1.5730 - accuracy: 0.4082 - val_loss: 1.7616 - val_accuracy: 0.3611\n",
      "Epoch 87/200\n",
      "1176/1176 [==============================] - 0s 233us/step - loss: 1.5720 - accuracy: 0.4082 - val_loss: 1.7620 - val_accuracy: 0.3611\n",
      "Epoch 88/200\n",
      "1176/1176 [==============================] - 0s 235us/step - loss: 1.5705 - accuracy: 0.4065 - val_loss: 1.7637 - val_accuracy: 0.3611\n",
      "Epoch 89/200\n",
      "1176/1176 [==============================] - 0s 234us/step - loss: 1.5692 - accuracy: 0.4065 - val_loss: 1.7648 - val_accuracy: 0.3631\n",
      "Epoch 90/200\n",
      "1176/1176 [==============================] - 0s 239us/step - loss: 1.5686 - accuracy: 0.4150 - val_loss: 1.7638 - val_accuracy: 0.3591\n",
      "Epoch 91/200\n",
      "1176/1176 [==============================] - 0s 235us/step - loss: 1.5670 - accuracy: 0.4073 - val_loss: 1.7624 - val_accuracy: 0.3571\n",
      "Epoch 92/200\n",
      "1176/1176 [==============================] - 0s 239us/step - loss: 1.5660 - accuracy: 0.4073 - val_loss: 1.7635 - val_accuracy: 0.3611\n",
      "Epoch 93/200\n",
      "1176/1176 [==============================] - 0s 234us/step - loss: 1.5652 - accuracy: 0.4133 - val_loss: 1.7646 - val_accuracy: 0.3532\n",
      "Epoch 94/200\n",
      "1176/1176 [==============================] - 0s 227us/step - loss: 1.5641 - accuracy: 0.4124 - val_loss: 1.7652 - val_accuracy: 0.3532\n",
      "Epoch 95/200\n",
      "1176/1176 [==============================] - 0s 231us/step - loss: 1.5630 - accuracy: 0.4158 - val_loss: 1.7644 - val_accuracy: 0.3552\n",
      "Epoch 96/200\n",
      "1176/1176 [==============================] - 0s 234us/step - loss: 1.5621 - accuracy: 0.4107 - val_loss: 1.7649 - val_accuracy: 0.3631\n",
      "Epoch 97/200\n",
      "1176/1176 [==============================] - 0s 229us/step - loss: 1.5608 - accuracy: 0.4167 - val_loss: 1.7682 - val_accuracy: 0.3552\n",
      "Epoch 98/200\n",
      "1176/1176 [==============================] - 0s 242us/step - loss: 1.5601 - accuracy: 0.4175 - val_loss: 1.7705 - val_accuracy: 0.3552\n",
      "Epoch 99/200\n",
      "1176/1176 [==============================] - 0s 244us/step - loss: 1.5598 - accuracy: 0.4090 - val_loss: 1.7692 - val_accuracy: 0.3571\n",
      "Epoch 100/200\n",
      "1176/1176 [==============================] - 0s 250us/step - loss: 1.5583 - accuracy: 0.4175 - val_loss: 1.7704 - val_accuracy: 0.3611\n",
      "Epoch 101/200\n",
      "1176/1176 [==============================] - 0s 227us/step - loss: 1.5583 - accuracy: 0.4150 - val_loss: 1.7705 - val_accuracy: 0.3631\n",
      "Epoch 102/200\n",
      "1176/1176 [==============================] - 0s 228us/step - loss: 1.5571 - accuracy: 0.4184 - val_loss: 1.7709 - val_accuracy: 0.3611\n",
      "Epoch 103/200\n",
      "1176/1176 [==============================] - 0s 243us/step - loss: 1.5559 - accuracy: 0.4226 - val_loss: 1.7713 - val_accuracy: 0.3651\n",
      "Epoch 104/200\n",
      "1176/1176 [==============================] - 0s 241us/step - loss: 1.5552 - accuracy: 0.4175 - val_loss: 1.7733 - val_accuracy: 0.3671\n",
      "Epoch 105/200\n",
      "1176/1176 [==============================] - 0s 233us/step - loss: 1.5539 - accuracy: 0.4201 - val_loss: 1.7726 - val_accuracy: 0.3690\n",
      "Epoch 106/200\n",
      "1176/1176 [==============================] - 0s 245us/step - loss: 1.5526 - accuracy: 0.4158 - val_loss: 1.7741 - val_accuracy: 0.3671\n",
      "Epoch 107/200\n",
      "1176/1176 [==============================] - 0s 243us/step - loss: 1.5517 - accuracy: 0.4158 - val_loss: 1.7754 - val_accuracy: 0.3690\n",
      "Epoch 108/200\n",
      "1176/1176 [==============================] - 0s 235us/step - loss: 1.5523 - accuracy: 0.4175 - val_loss: 1.7744 - val_accuracy: 0.3671\n",
      "Epoch 109/200\n",
      "1176/1176 [==============================] - 0s 230us/step - loss: 1.5507 - accuracy: 0.4252 - val_loss: 1.7768 - val_accuracy: 0.3690\n",
      "Epoch 110/200\n",
      "1176/1176 [==============================] - 0s 232us/step - loss: 1.5493 - accuracy: 0.4209 - val_loss: 1.7750 - val_accuracy: 0.3790\n",
      "Epoch 111/200\n"
     ]
    },
    {
     "name": "stdout",
     "output_type": "stream",
     "text": [
      "1176/1176 [==============================] - 0s 229us/step - loss: 1.5486 - accuracy: 0.4175 - val_loss: 1.7768 - val_accuracy: 0.3710\n",
      "Epoch 112/200\n",
      "1176/1176 [==============================] - 0s 243us/step - loss: 1.5489 - accuracy: 0.4218 - val_loss: 1.7765 - val_accuracy: 0.3690\n",
      "Epoch 113/200\n",
      "1176/1176 [==============================] - 0s 242us/step - loss: 1.5464 - accuracy: 0.4226 - val_loss: 1.7791 - val_accuracy: 0.3710\n",
      "Epoch 114/200\n",
      "1176/1176 [==============================] - 0s 232us/step - loss: 1.5464 - accuracy: 0.4201 - val_loss: 1.7772 - val_accuracy: 0.3690\n",
      "Epoch 115/200\n",
      "1176/1176 [==============================] - 0s 239us/step - loss: 1.5461 - accuracy: 0.4303 - val_loss: 1.7798 - val_accuracy: 0.3710\n",
      "Epoch 116/200\n",
      "1176/1176 [==============================] - 0s 236us/step - loss: 1.5444 - accuracy: 0.4277 - val_loss: 1.7792 - val_accuracy: 0.3710\n",
      "Epoch 117/200\n",
      "1176/1176 [==============================] - 0s 233us/step - loss: 1.5434 - accuracy: 0.4243 - val_loss: 1.7827 - val_accuracy: 0.3710\n",
      "Epoch 118/200\n",
      "1176/1176 [==============================] - 0s 242us/step - loss: 1.5429 - accuracy: 0.4252 - val_loss: 1.7831 - val_accuracy: 0.3671\n",
      "Epoch 119/200\n",
      "1176/1176 [==============================] - 0s 253us/step - loss: 1.5432 - accuracy: 0.4286 - val_loss: 1.7836 - val_accuracy: 0.3710\n",
      "Epoch 120/200\n",
      "1176/1176 [==============================] - ETA: 0s - loss: 1.5431 - accuracy: 0.42 - 0s 240us/step - loss: 1.5420 - accuracy: 0.4286 - val_loss: 1.7814 - val_accuracy: 0.3750\n",
      "Epoch 121/200\n",
      "1176/1176 [==============================] - 0s 280us/step - loss: 1.5403 - accuracy: 0.4294 - val_loss: 1.7837 - val_accuracy: 0.3710\n",
      "Epoch 122/200\n",
      "1176/1176 [==============================] - 0s 244us/step - loss: 1.5411 - accuracy: 0.4243 - val_loss: 1.7835 - val_accuracy: 0.3730\n",
      "Epoch 123/200\n",
      "1176/1176 [==============================] - 0s 247us/step - loss: 1.5397 - accuracy: 0.4252 - val_loss: 1.7834 - val_accuracy: 0.3730\n",
      "Epoch 124/200\n",
      "1176/1176 [==============================] - 0s 237us/step - loss: 1.5383 - accuracy: 0.4320 - val_loss: 1.7862 - val_accuracy: 0.3690\n",
      "Epoch 125/200\n",
      "1176/1176 [==============================] - 0s 250us/step - loss: 1.5375 - accuracy: 0.4294 - val_loss: 1.7866 - val_accuracy: 0.3651\n",
      "Epoch 126/200\n",
      "1176/1176 [==============================] - 0s 236us/step - loss: 1.5371 - accuracy: 0.4345 - val_loss: 1.7901 - val_accuracy: 0.3671\n",
      "Epoch 127/200\n",
      "1176/1176 [==============================] - 0s 238us/step - loss: 1.5360 - accuracy: 0.4294 - val_loss: 1.7872 - val_accuracy: 0.3651\n",
      "Epoch 128/200\n",
      "1176/1176 [==============================] - 0s 249us/step - loss: 1.5363 - accuracy: 0.4362 - val_loss: 1.7884 - val_accuracy: 0.3631\n",
      "Epoch 129/200\n",
      "1176/1176 [==============================] - 0s 226us/step - loss: 1.5344 - accuracy: 0.4320 - val_loss: 1.7893 - val_accuracy: 0.3710\n",
      "Epoch 130/200\n",
      "1176/1176 [==============================] - 0s 229us/step - loss: 1.5335 - accuracy: 0.4328 - val_loss: 1.7905 - val_accuracy: 0.3690\n",
      "Epoch 131/200\n",
      "1176/1176 [==============================] - 0s 239us/step - loss: 1.5325 - accuracy: 0.4286 - val_loss: 1.7921 - val_accuracy: 0.3671\n",
      "Epoch 132/200\n",
      "1176/1176 [==============================] - 0s 243us/step - loss: 1.5328 - accuracy: 0.4303 - val_loss: 1.7917 - val_accuracy: 0.3690\n",
      "Epoch 133/200\n",
      "1176/1176 [==============================] - 0s 232us/step - loss: 1.5310 - accuracy: 0.4320 - val_loss: 1.7937 - val_accuracy: 0.3690\n",
      "Epoch 134/200\n",
      "1176/1176 [==============================] - 0s 248us/step - loss: 1.5310 - accuracy: 0.4294 - val_loss: 1.7917 - val_accuracy: 0.3690\n",
      "Epoch 135/200\n",
      "1176/1176 [==============================] - 0s 229us/step - loss: 1.5294 - accuracy: 0.4260 - val_loss: 1.7910 - val_accuracy: 0.3631\n",
      "Epoch 136/200\n",
      "1176/1176 [==============================] - 0s 253us/step - loss: 1.5286 - accuracy: 0.4337 - val_loss: 1.7949 - val_accuracy: 0.3631\n",
      "Epoch 137/200\n",
      "1176/1176 [==============================] - 0s 226us/step - loss: 1.5290 - accuracy: 0.4294 - val_loss: 1.7940 - val_accuracy: 0.3671\n",
      "Epoch 138/200\n",
      "1176/1176 [==============================] - 0s 240us/step - loss: 1.5274 - accuracy: 0.4286 - val_loss: 1.7950 - val_accuracy: 0.3611\n",
      "Epoch 139/200\n",
      "1176/1176 [==============================] - 0s 237us/step - loss: 1.5265 - accuracy: 0.4320 - val_loss: 1.7966 - val_accuracy: 0.3651\n",
      "Epoch 140/200\n",
      "1176/1176 [==============================] - 0s 248us/step - loss: 1.5266 - accuracy: 0.4303 - val_loss: 1.7955 - val_accuracy: 0.3631\n",
      "Epoch 141/200\n",
      "1176/1176 [==============================] - 0s 229us/step - loss: 1.5252 - accuracy: 0.4320 - val_loss: 1.7969 - val_accuracy: 0.3671\n",
      "Epoch 142/200\n",
      "1176/1176 [==============================] - 0s 237us/step - loss: 1.5241 - accuracy: 0.4286 - val_loss: 1.7979 - val_accuracy: 0.3690\n",
      "Epoch 143/200\n",
      "1176/1176 [==============================] - 0s 232us/step - loss: 1.5247 - accuracy: 0.4362 - val_loss: 1.7995 - val_accuracy: 0.3631\n",
      "Epoch 144/200\n",
      "1176/1176 [==============================] - 0s 236us/step - loss: 1.5237 - accuracy: 0.4294 - val_loss: 1.7987 - val_accuracy: 0.3631\n",
      "Epoch 145/200\n",
      "1176/1176 [==============================] - 0s 237us/step - loss: 1.5223 - accuracy: 0.4286 - val_loss: 1.8003 - val_accuracy: 0.3571\n",
      "Epoch 146/200\n",
      "1176/1176 [==============================] - 0s 241us/step - loss: 1.5228 - accuracy: 0.4269 - val_loss: 1.8001 - val_accuracy: 0.3631\n",
      "Epoch 147/200\n",
      "1176/1176 [==============================] - 0s 239us/step - loss: 1.5212 - accuracy: 0.4371 - val_loss: 1.8036 - val_accuracy: 0.3571\n",
      "Epoch 148/200\n",
      "1176/1176 [==============================] - 0s 228us/step - loss: 1.5220 - accuracy: 0.4303 - val_loss: 1.8022 - val_accuracy: 0.3611\n",
      "Epoch 149/200\n",
      "1176/1176 [==============================] - 0s 240us/step - loss: 1.5208 - accuracy: 0.4328 - val_loss: 1.8015 - val_accuracy: 0.3671\n",
      "Epoch 150/200\n",
      "1176/1176 [==============================] - 0s 230us/step - loss: 1.5198 - accuracy: 0.4286 - val_loss: 1.8029 - val_accuracy: 0.3591\n",
      "Epoch 151/200\n",
      "1176/1176 [==============================] - 0s 237us/step - loss: 1.5190 - accuracy: 0.4337 - val_loss: 1.8055 - val_accuracy: 0.3611\n",
      "Epoch 152/200\n",
      "1176/1176 [==============================] - 0s 240us/step - loss: 1.5193 - accuracy: 0.4354 - val_loss: 1.8025 - val_accuracy: 0.3690\n",
      "Epoch 153/200\n",
      "1176/1176 [==============================] - 0s 234us/step - loss: 1.5186 - accuracy: 0.4337 - val_loss: 1.8032 - val_accuracy: 0.3710\n",
      "Epoch 154/200\n",
      "1176/1176 [==============================] - 0s 229us/step - loss: 1.5176 - accuracy: 0.4320 - val_loss: 1.8045 - val_accuracy: 0.3671\n",
      "Epoch 155/200\n",
      "1176/1176 [==============================] - 0s 240us/step - loss: 1.5178 - accuracy: 0.4379 - val_loss: 1.8044 - val_accuracy: 0.3651\n",
      "Epoch 156/200\n",
      "1176/1176 [==============================] - 0s 231us/step - loss: 1.5166 - accuracy: 0.4320 - val_loss: 1.8068 - val_accuracy: 0.3651\n",
      "Epoch 157/200\n",
      "1176/1176 [==============================] - 0s 230us/step - loss: 1.5155 - accuracy: 0.4337 - val_loss: 1.8078 - val_accuracy: 0.3611\n",
      "Epoch 158/200\n",
      "1176/1176 [==============================] - 0s 229us/step - loss: 1.5149 - accuracy: 0.4337 - val_loss: 1.8094 - val_accuracy: 0.3690\n",
      "Epoch 159/200\n",
      "1176/1176 [==============================] - 0s 232us/step - loss: 1.5146 - accuracy: 0.4379 - val_loss: 1.8116 - val_accuracy: 0.3710\n",
      "Epoch 160/200\n",
      "1176/1176 [==============================] - 0s 235us/step - loss: 1.5135 - accuracy: 0.4379 - val_loss: 1.8118 - val_accuracy: 0.3651\n",
      "Epoch 161/200\n",
      "1176/1176 [==============================] - 0s 230us/step - loss: 1.5140 - accuracy: 0.4345 - val_loss: 1.8125 - val_accuracy: 0.3690\n",
      "Epoch 162/200\n",
      "1176/1176 [==============================] - 0s 234us/step - loss: 1.5129 - accuracy: 0.4362 - val_loss: 1.8137 - val_accuracy: 0.3690\n",
      "Epoch 163/200\n",
      "1176/1176 [==============================] - 0s 236us/step - loss: 1.5122 - accuracy: 0.4362 - val_loss: 1.8140 - val_accuracy: 0.3710\n",
      "Epoch 164/200\n",
      "1176/1176 [==============================] - 0s 238us/step - loss: 1.5122 - accuracy: 0.4345 - val_loss: 1.8157 - val_accuracy: 0.3690\n",
      "Epoch 165/200\n",
      "1176/1176 [==============================] - 0s 237us/step - loss: 1.5117 - accuracy: 0.4362 - val_loss: 1.8189 - val_accuracy: 0.3631\n"
     ]
    },
    {
     "name": "stdout",
     "output_type": "stream",
     "text": [
      "Epoch 166/200\n",
      "1176/1176 [==============================] - 0s 232us/step - loss: 1.5109 - accuracy: 0.4328 - val_loss: 1.8189 - val_accuracy: 0.3671\n",
      "Epoch 167/200\n",
      "1176/1176 [==============================] - 0s 236us/step - loss: 1.5107 - accuracy: 0.4396 - val_loss: 1.8199 - val_accuracy: 0.3690\n",
      "Epoch 168/200\n",
      "1176/1176 [==============================] - 0s 231us/step - loss: 1.5098 - accuracy: 0.4396 - val_loss: 1.8162 - val_accuracy: 0.3690\n",
      "Epoch 169/200\n",
      "1176/1176 [==============================] - 0s 232us/step - loss: 1.5091 - accuracy: 0.4405 - val_loss: 1.8166 - val_accuracy: 0.3651\n",
      "Epoch 170/200\n",
      "1176/1176 [==============================] - 0s 250us/step - loss: 1.5079 - accuracy: 0.4371 - val_loss: 1.8176 - val_accuracy: 0.3690\n",
      "Epoch 171/200\n",
      "1176/1176 [==============================] - 0s 241us/step - loss: 1.5084 - accuracy: 0.4405 - val_loss: 1.8202 - val_accuracy: 0.3690\n",
      "Epoch 172/200\n",
      "1176/1176 [==============================] - 0s 224us/step - loss: 1.5080 - accuracy: 0.4439 - val_loss: 1.8204 - val_accuracy: 0.3671\n",
      "Epoch 173/200\n",
      "1176/1176 [==============================] - 0s 231us/step - loss: 1.5060 - accuracy: 0.4430 - val_loss: 1.8212 - val_accuracy: 0.3512\n",
      "Epoch 174/200\n",
      "1176/1176 [==============================] - 0s 236us/step - loss: 1.5067 - accuracy: 0.4371 - val_loss: 1.8220 - val_accuracy: 0.3631\n",
      "Epoch 175/200\n",
      "1176/1176 [==============================] - 0s 235us/step - loss: 1.5066 - accuracy: 0.4498 - val_loss: 1.8214 - val_accuracy: 0.3571\n",
      "Epoch 176/200\n",
      "1176/1176 [==============================] - 0s 233us/step - loss: 1.5055 - accuracy: 0.4447 - val_loss: 1.8238 - val_accuracy: 0.3631\n",
      "Epoch 177/200\n",
      "1176/1176 [==============================] - 0s 236us/step - loss: 1.5054 - accuracy: 0.4481 - val_loss: 1.8232 - val_accuracy: 0.3611\n",
      "Epoch 178/200\n",
      "1176/1176 [==============================] - 0s 231us/step - loss: 1.5042 - accuracy: 0.4464 - val_loss: 1.8275 - val_accuracy: 0.3552\n",
      "Epoch 179/200\n",
      "1176/1176 [==============================] - 0s 227us/step - loss: 1.5036 - accuracy: 0.4422 - val_loss: 1.8279 - val_accuracy: 0.3571\n",
      "Epoch 180/200\n",
      "1176/1176 [==============================] - 0s 227us/step - loss: 1.5035 - accuracy: 0.4371 - val_loss: 1.8248 - val_accuracy: 0.3591\n",
      "Epoch 181/200\n",
      "1176/1176 [==============================] - 0s 237us/step - loss: 1.5024 - accuracy: 0.4456 - val_loss: 1.8272 - val_accuracy: 0.3552\n",
      "Epoch 182/200\n",
      "1176/1176 [==============================] - 0s 231us/step - loss: 1.5016 - accuracy: 0.4473 - val_loss: 1.8311 - val_accuracy: 0.3552\n",
      "Epoch 183/200\n",
      "1176/1176 [==============================] - 0s 234us/step - loss: 1.5020 - accuracy: 0.4515 - val_loss: 1.8291 - val_accuracy: 0.3651\n",
      "Epoch 184/200\n",
      "1176/1176 [==============================] - 0s 233us/step - loss: 1.5007 - accuracy: 0.4439 - val_loss: 1.8332 - val_accuracy: 0.3591\n",
      "Epoch 185/200\n",
      "1176/1176 [==============================] - 0s 246us/step - loss: 1.5017 - accuracy: 0.4473 - val_loss: 1.8285 - val_accuracy: 0.3571\n",
      "Epoch 186/200\n",
      "1176/1176 [==============================] - 0s 250us/step - loss: 1.5001 - accuracy: 0.4515 - val_loss: 1.8270 - val_accuracy: 0.3651\n",
      "Epoch 187/200\n",
      "1176/1176 [==============================] - 0s 248us/step - loss: 1.5003 - accuracy: 0.4481 - val_loss: 1.8301 - val_accuracy: 0.3571\n",
      "Epoch 188/200\n",
      "1176/1176 [==============================] - 0s 257us/step - loss: 1.4995 - accuracy: 0.4439 - val_loss: 1.8328 - val_accuracy: 0.3591\n",
      "Epoch 189/200\n",
      "1176/1176 [==============================] - 0s 242us/step - loss: 1.4993 - accuracy: 0.4498 - val_loss: 1.8296 - val_accuracy: 0.3591\n",
      "Epoch 190/200\n",
      "1176/1176 [==============================] - 0s 239us/step - loss: 1.4967 - accuracy: 0.4464 - val_loss: 1.8384 - val_accuracy: 0.3532\n",
      "Epoch 191/200\n",
      "1176/1176 [==============================] - 0s 228us/step - loss: 1.4983 - accuracy: 0.4456 - val_loss: 1.8352 - val_accuracy: 0.3532\n",
      "Epoch 192/200\n",
      "1176/1176 [==============================] - 0s 279us/step - loss: 1.4975 - accuracy: 0.4490 - val_loss: 1.8374 - val_accuracy: 0.3492\n",
      "Epoch 193/200\n",
      "1176/1176 [==============================] - 0s 256us/step - loss: 1.4973 - accuracy: 0.4532 - val_loss: 1.8353 - val_accuracy: 0.3552\n",
      "Epoch 194/200\n",
      "1176/1176 [==============================] - 0s 223us/step - loss: 1.4969 - accuracy: 0.4515 - val_loss: 1.8338 - val_accuracy: 0.3552\n",
      "Epoch 195/200\n",
      "1176/1176 [==============================] - 0s 234us/step - loss: 1.4953 - accuracy: 0.4490 - val_loss: 1.8355 - val_accuracy: 0.3472\n",
      "Epoch 196/200\n",
      "1176/1176 [==============================] - 0s 232us/step - loss: 1.4953 - accuracy: 0.4507 - val_loss: 1.8320 - val_accuracy: 0.3591\n",
      "Epoch 197/200\n",
      "1176/1176 [==============================] - 0s 226us/step - loss: 1.4948 - accuracy: 0.4524 - val_loss: 1.8353 - val_accuracy: 0.3492\n",
      "Epoch 198/200\n",
      "1176/1176 [==============================] - 0s 227us/step - loss: 1.4942 - accuracy: 0.4430 - val_loss: 1.8404 - val_accuracy: 0.3532\n",
      "Epoch 199/200\n",
      "1176/1176 [==============================] - 0s 231us/step - loss: 1.4948 - accuracy: 0.4447 - val_loss: 1.8344 - val_accuracy: 0.3552\n",
      "Epoch 200/200\n",
      "1176/1176 [==============================] - 0s 227us/step - loss: 1.4930 - accuracy: 0.4456 - val_loss: 1.8380 - val_accuracy: 0.3512\n"
     ]
    }
   ],
   "source": [
    "history = model.fit(train_data,\n",
    "                    train_targets,\n",
    "                    epochs=200,\n",
    "                    batch_size=4,\n",
    "                    validation_data=(test_data,test_targets)\n",
    ")"
   ]
  },
  {
   "cell_type": "code",
   "execution_count": 26,
   "metadata": {
    "scrolled": true
   },
   "outputs": [
    {
     "name": "stderr",
     "output_type": "stream",
     "text": [
      "C:\\ProgramData\\Anaconda3\\lib\\site-packages\\matplotlib\\backends\\backend_agg.py:211: RuntimeWarning: Glyph 35347 missing from current font.\n",
      "  font.set_text(s, 0.0, flags=flags)\n",
      "C:\\ProgramData\\Anaconda3\\lib\\site-packages\\matplotlib\\backends\\backend_agg.py:211: RuntimeWarning: Glyph 32244 missing from current font.\n",
      "  font.set_text(s, 0.0, flags=flags)\n",
      "C:\\ProgramData\\Anaconda3\\lib\\site-packages\\matplotlib\\backends\\backend_agg.py:211: RuntimeWarning: Glyph 33287 missing from current font.\n",
      "  font.set_text(s, 0.0, flags=flags)\n",
      "C:\\ProgramData\\Anaconda3\\lib\\site-packages\\matplotlib\\backends\\backend_agg.py:211: RuntimeWarning: Glyph 39511 missing from current font.\n",
      "  font.set_text(s, 0.0, flags=flags)\n",
      "C:\\ProgramData\\Anaconda3\\lib\\site-packages\\matplotlib\\backends\\backend_agg.py:211: RuntimeWarning: Glyph 35657 missing from current font.\n",
      "  font.set_text(s, 0.0, flags=flags)\n",
      "C:\\ProgramData\\Anaconda3\\lib\\site-packages\\matplotlib\\backends\\backend_agg.py:211: RuntimeWarning: Glyph 30340 missing from current font.\n",
      "  font.set_text(s, 0.0, flags=flags)\n",
      "C:\\ProgramData\\Anaconda3\\lib\\site-packages\\matplotlib\\backends\\backend_agg.py:211: RuntimeWarning: Glyph 25613 missing from current font.\n",
      "  font.set_text(s, 0.0, flags=flags)\n",
      "C:\\ProgramData\\Anaconda3\\lib\\site-packages\\matplotlib\\backends\\backend_agg.py:211: RuntimeWarning: Glyph 22833 missing from current font.\n",
      "  font.set_text(s, 0.0, flags=flags)\n",
      "C:\\ProgramData\\Anaconda3\\lib\\site-packages\\matplotlib\\backends\\backend_agg.py:211: RuntimeWarning: Glyph 20989 missing from current font.\n",
      "  font.set_text(s, 0.0, flags=flags)\n",
      "C:\\ProgramData\\Anaconda3\\lib\\site-packages\\matplotlib\\backends\\backend_agg.py:211: RuntimeWarning: Glyph 25976 missing from current font.\n",
      "  font.set_text(s, 0.0, flags=flags)\n",
      "C:\\ProgramData\\Anaconda3\\lib\\site-packages\\matplotlib\\backends\\backend_agg.py:180: RuntimeWarning: Glyph 35347 missing from current font.\n",
      "  font.set_text(s, 0, flags=flags)\n",
      "C:\\ProgramData\\Anaconda3\\lib\\site-packages\\matplotlib\\backends\\backend_agg.py:180: RuntimeWarning: Glyph 32244 missing from current font.\n",
      "  font.set_text(s, 0, flags=flags)\n",
      "C:\\ProgramData\\Anaconda3\\lib\\site-packages\\matplotlib\\backends\\backend_agg.py:180: RuntimeWarning: Glyph 33287 missing from current font.\n",
      "  font.set_text(s, 0, flags=flags)\n",
      "C:\\ProgramData\\Anaconda3\\lib\\site-packages\\matplotlib\\backends\\backend_agg.py:180: RuntimeWarning: Glyph 39511 missing from current font.\n",
      "  font.set_text(s, 0, flags=flags)\n",
      "C:\\ProgramData\\Anaconda3\\lib\\site-packages\\matplotlib\\backends\\backend_agg.py:180: RuntimeWarning: Glyph 35657 missing from current font.\n",
      "  font.set_text(s, 0, flags=flags)\n",
      "C:\\ProgramData\\Anaconda3\\lib\\site-packages\\matplotlib\\backends\\backend_agg.py:180: RuntimeWarning: Glyph 30340 missing from current font.\n",
      "  font.set_text(s, 0, flags=flags)\n",
      "C:\\ProgramData\\Anaconda3\\lib\\site-packages\\matplotlib\\backends\\backend_agg.py:180: RuntimeWarning: Glyph 25613 missing from current font.\n",
      "  font.set_text(s, 0, flags=flags)\n",
      "C:\\ProgramData\\Anaconda3\\lib\\site-packages\\matplotlib\\backends\\backend_agg.py:180: RuntimeWarning: Glyph 22833 missing from current font.\n",
      "  font.set_text(s, 0, flags=flags)\n",
      "C:\\ProgramData\\Anaconda3\\lib\\site-packages\\matplotlib\\backends\\backend_agg.py:180: RuntimeWarning: Glyph 20989 missing from current font.\n",
      "  font.set_text(s, 0, flags=flags)\n",
      "C:\\ProgramData\\Anaconda3\\lib\\site-packages\\matplotlib\\backends\\backend_agg.py:180: RuntimeWarning: Glyph 25976 missing from current font.\n",
      "  font.set_text(s, 0, flags=flags)\n"
     ]
    },
    {
     "data": {
      "image/png": "[encoded data removed]",
      "text/plain": [
       "<Figure size 432x288 with 1 Axes>"
      ]
     },
     "metadata": {
      "needs_background": "light"
     },
     "output_type": "display_data"
    }
   ],
   "source": [
    "#繪圖\n",
    "\n",
    "loss = history.history['loss']\n",
    "val_loss = history.history['val_loss']\n",
    "epochs = range(1, len(loss)+ 1)\n",
    "plt.plot(epochs, loss,'bo',label='Training loss')\n",
    "plt.plot(epochs, val_loss,'b',label='Validation loss')\n",
    "plt.title('訓練與驗證的損失函數')\n",
    "plt.xlabel('Epohs')\n",
    "plt.xlabel('Loss')\n",
    "plt.legend()\n",
    "plt.show()"
   ]
  },
  {
   "cell_type": "code",
   "execution_count": 27,
   "metadata": {},
   "outputs": [
    {
     "data": {
      "image/png": "[encoded data removed]",
      "text/plain": [
       "<Figure size 432x288 with 1 Axes>"
      ]
     },
     "metadata": {
      "needs_background": "light"
     },
     "output_type": "display_data"
    }
   ],
   "source": [
    "plt.clf()\n",
    "acc = history.history['accuracy']\n",
    "val_acc=history.history['val_accuracy']\n",
    "\n",
    "plt.plot(epochs, acc, 'bo',label='Training acc')\n",
    "plt.plot(epochs, val_acc,'b',label='Validation acc')\n",
    "plt.title('Fuck you')\n",
    "plt.xlabel('Epohs')\n",
    "plt.xlabel('Accuracy')\n",
    "plt.legend()\n",
    "plt.show()"
   ]
  },
  {
   "cell_type": "markdown",
   "metadata": {},
   "source": [
    "# 測試 小綠同學"
   ]
  },
  {
   "cell_type": "code",
   "execution_count": 24,
   "metadata": {},
   "outputs": [
    {
     "data": {
      "text/html": [
       "<div>\n",
       "<style scoped>\n",
       "    .dataframe tbody tr th:only-of-type {\n",
       "        vertical-align: middle;\n",
       "    }\n",
       "\n",
       "    .dataframe tbody tr th {\n",
       "        vertical-align: top;\n",
       "    }\n",
       "\n",
       "    .dataframe thead th {\n",
       "        text-align: right;\n",
       "    }\n",
       "</style>\n",
       "<table border=\"1\" class=\"dataframe\">\n",
       "  <thead>\n",
       "    <tr style=\"text-align: right;\">\n",
       "      <th></th>\n",
       "      <th>age</th>\n",
       "      <th>serveTime</th>\n",
       "      <th>Loan</th>\n",
       "      <th>SalPerY</th>\n",
       "      <th>holdCard</th>\n",
       "      <th>Career</th>\n",
       "    </tr>\n",
       "  </thead>\n",
       "  <tbody>\n",
       "    <tr>\n",
       "      <th>0</th>\n",
       "      <td>8</td>\n",
       "      <td>120</td>\n",
       "      <td>4</td>\n",
       "      <td>600000</td>\n",
       "      <td>1</td>\n",
       "      <td>1</td>\n",
       "    </tr>\n",
       "    <tr>\n",
       "      <th>1</th>\n",
       "      <td>28</td>\n",
       "      <td>12</td>\n",
       "      <td>0</td>\n",
       "      <td>600000</td>\n",
       "      <td>0</td>\n",
       "      <td>0</td>\n",
       "    </tr>\n",
       "    <tr>\n",
       "      <th>2</th>\n",
       "      <td>28</td>\n",
       "      <td>12</td>\n",
       "      <td>0</td>\n",
       "      <td>87</td>\n",
       "      <td>2</td>\n",
       "      <td>0</td>\n",
       "    </tr>\n",
       "  </tbody>\n",
       "</table>\n",
       "</div>"
      ],
      "text/plain": [
       "  age serveTime Loan SalPerY holdCard Career\n",
       "0   8       120    4  600000        1      1\n",
       "1  28        12    0  600000        0      0\n",
       "2  28        12    0      87        2      0"
      ]
     },
     "execution_count": 24,
     "metadata": {},
     "output_type": "execute_result"
    }
   ],
   "source": [
    "小綠 = pd.DataFrame(columns=[\"age\",\"serveTime\",\"Loan\",\"SalPerY\",\"holdCard\",\"Career\"])\n",
    "小綠.loc[0]=8,120,4,600000,1,1\n",
    "小綠.loc[1]=28,12,0,600000,0,0\n",
    "小綠.loc[2]=28,12,0,87,2,0\n",
    "小綠"
   ]
  },
  {
   "cell_type": "code",
   "execution_count": 25,
   "metadata": {},
   "outputs": [
    {
     "data": {
      "text/html": [
       "<div>\n",
       "<style scoped>\n",
       "    .dataframe tbody tr th:only-of-type {\n",
       "        vertical-align: middle;\n",
       "    }\n",
       "\n",
       "    .dataframe tbody tr th {\n",
       "        vertical-align: top;\n",
       "    }\n",
       "\n",
       "    .dataframe thead th {\n",
       "        text-align: right;\n",
       "    }\n",
       "</style>\n",
       "<table border=\"1\" class=\"dataframe\">\n",
       "  <thead>\n",
       "    <tr style=\"text-align: right;\">\n",
       "      <th></th>\n",
       "      <th>age</th>\n",
       "      <th>serveTime</th>\n",
       "      <th>Loan</th>\n",
       "      <th>SalPerY</th>\n",
       "      <th>holdCard</th>\n",
       "      <th>Career</th>\n",
       "    </tr>\n",
       "  </thead>\n",
       "  <tbody>\n",
       "    <tr>\n",
       "      <th>0</th>\n",
       "      <td>-4.23014</td>\n",
       "      <td>1.82604</td>\n",
       "      <td>4.51669</td>\n",
       "      <td>-0.089548</td>\n",
       "      <td>0.860026</td>\n",
       "      <td>-1.77042</td>\n",
       "    </tr>\n",
       "    <tr>\n",
       "      <th>1</th>\n",
       "      <td>0.238194</td>\n",
       "      <td>-0.349899</td>\n",
       "      <td>-0.576944</td>\n",
       "      <td>-0.089548</td>\n",
       "      <td>-1.16276</td>\n",
       "      <td>-3.32533</td>\n",
       "    </tr>\n",
       "    <tr>\n",
       "      <th>2</th>\n",
       "      <td>0.238194</td>\n",
       "      <td>-0.349899</td>\n",
       "      <td>-0.576944</td>\n",
       "      <td>-0.486312</td>\n",
       "      <td>2.88281</td>\n",
       "      <td>-3.32533</td>\n",
       "    </tr>\n",
       "  </tbody>\n",
       "</table>\n",
       "</div>"
      ],
      "text/plain": [
       "        age serveTime      Loan   SalPerY  holdCard   Career\n",
       "0  -4.23014   1.82604   4.51669 -0.089548  0.860026 -1.77042\n",
       "1  0.238194 -0.349899 -0.576944 -0.089548  -1.16276 -3.32533\n",
       "2  0.238194 -0.349899 -0.576944 -0.486312   2.88281 -3.32533"
      ]
     },
     "execution_count": 25,
     "metadata": {},
     "output_type": "execute_result"
    }
   ],
   "source": [
    "# 因為先前輸入時有先標準化,因此輸入也要標準化\n",
    "小綠-=mean\n",
    "小綠/=std\n",
    "小綠"
   ]
  },
  {
   "cell_type": "code",
   "execution_count": 26,
   "metadata": {},
   "outputs": [
    {
     "data": {
      "text/plain": [
       "array([1., 0., 0., 0., 0., 0., 0., 0., 0., 0., 0., 0., 0., 0., 0., 0., 0.,\n",
       "       0., 0., 0.], dtype=float32)"
      ]
     },
     "execution_count": 26,
     "metadata": {},
     "output_type": "execute_result"
    }
   ],
   "source": [
    "# 他給出的是每一群的機率(相加為一)\n",
    "preds = model.predict(小綠)\n",
    "preds[0]"
   ]
  },
  {
   "cell_type": "code",
   "execution_count": 30,
   "metadata": {},
   "outputs": [
    {
     "name": "stdout",
     "output_type": "stream",
     "text": [
      "(array([0], dtype=int64),)\n"
     ]
    }
   ],
   "source": [
    "#接著我們找出裡面機率最大的值的所在位子\n",
    "print(np.where(preds[0]==np.max(preds[0])))"
   ]
  },
  {
   "cell_type": "code",
   "execution_count": 29,
   "metadata": {},
   "outputs": [
    {
     "data": {
      "text/plain": [
       "array([9.9975902e-01, 2.4104267e-04, 8.6009363e-13, 1.7380719e-21,\n",
       "       2.7840226e-18, 2.6001981e-17, 7.7214279e-20, 3.4693040e-28,\n",
       "       2.8330106e-21, 6.3681742e-32, 1.1261915e-24, 1.2584696e-29,\n",
       "       9.3763090e-28, 2.1129929e-26, 2.0012438e-26, 5.9992626e-23,\n",
       "       3.5284997e-27, 7.2059457e-22, 0.0000000e+00, 1.1678877e-22],\n",
       "      dtype=float32)"
      ]
     },
     "execution_count": 29,
     "metadata": {},
     "output_type": "execute_result"
    }
   ],
   "source": [
    "preds[1]"
   ]
  },
  {
   "cell_type": "code",
   "execution_count": null,
   "metadata": {},
   "outputs": [],
   "source": []
  }
 ],
 "metadata": {
  "kernelspec": {
   "display_name": "Python 3",
   "language": "python",
   "name": "python3"
  },
  "language_info": {
   "codemirror_mode": {
    "name": "ipython",
    "version": 3
   },
   "file_extension": ".py",
   "mimetype": "text/x-python",
   "name": "python",
   "nbconvert_exporter": "python",
   "pygments_lexer": "ipython3",
   "version": "3.7.3"
  }
 },
 "nbformat": 4,
 "nbformat_minor": 2
}
