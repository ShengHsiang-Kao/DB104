{
 "cells": [
  {
   "cell_type": "code",
   "execution_count": 1,
   "metadata": {},
   "outputs": [],
   "source": [
    "import requests\n",
    "from bs4 import BeautifulSoup\n",
    "import json\n",
    "import os\n",
    "import re\n",
    "import pandas as pd"
   ]
  },
  {
   "cell_type": "code",
   "execution_count": 2,
   "metadata": {},
   "outputs": [],
   "source": [
    "useragent= 'Mozilla/5.0 (Macintosh; Intel Mac OS X 10_13_6) AppleWebKit/537.36 (KHTML, like Gecko) Chrome/77.0.3865.90 Safari/537.36'\n",
    "headers={'User-Agent':useragent}"
   ]
  },
  {
   "cell_type": "code",
   "execution_count": 3,
   "metadata": {},
   "outputs": [],
   "source": [
    "# url = f'https://udn.com/news/story/7086/4139262'\n",
    "# res = requests.get(url, headers = headers)\n",
    "# soup = BeautifulSoup(res.text, 'html.parser')\n",
    "# title= soup.select('div[id=\"story_body_content\"] h1')\n",
    "# content= soup.select('div[id=\"story_body_content\"] p')\n",
    "\n",
    "# for i in title:\n",
    "#     print(i.text)\n",
    "#     print('===========================================')\n",
    "#     for j in content:\n",
    "#         print(j.text)"
   ]
  },
  {
   "cell_type": "code",
   "execution_count": 4,
   "metadata": {},
   "outputs": [
    {
     "ename": "IndentationError",
     "evalue": "unexpected indent (<ipython-input-4-6e913d645c36>, line 4)",
     "output_type": "error",
     "traceback": [
      "\u001b[1;36m  File \u001b[1;32m\"<ipython-input-4-6e913d645c36>\"\u001b[1;36m, line \u001b[1;32m4\u001b[0m\n\u001b[1;33m    url = f'https://udn.com/search/tagging/2/%E4%BF%A1%E7%94%A8%E5%8D%A1/{n}'\u001b[0m\n\u001b[1;37m    ^\u001b[0m\n\u001b[1;31mIndentationError\u001b[0m\u001b[1;31m:\u001b[0m unexpected indent\n"
     ]
    }
   ],
   "source": [
    "n=1\n",
    "# while True:\n",
    "\n",
    "    url = f'https://udn.com/search/tagging/2/%E4%BF%A1%E7%94%A8%E5%8D%A1/{n}'\n",
    "    res = requests.get(url, headers = headers)\n",
    "    soup = BeautifulSoup(res.text, 'html.parser')\n",
    "    title= soup.select('div[id=\"search_content\"]')\n",
    "    html= soup.select('div[id=\"search_content\"] dt')\n",
    "    print(html)\n",
    "#     for i in html:\n",
    "#         title= i.select('h2')[0].text)\n",
    "#         t_url= i.a['href']\n",
    "        \n",
    "        #print(t_url)\n",
    "#         k=re.findall(r'[h].*story.*',ii)\n",
    "#         if k!=[]:\n",
    "            \n",
    "#             print(k[0])\n",
    "#             print('-----------------')\n",
    "\n",
    "\n",
    "            \n",
    "            \n",
    "#             url_a = k[0]\n",
    "#             res_a = requests.get(url_a, headers = headers)\n",
    "#             soup_a = BeautifulSoup(res_a.text, 'html.parser')\n",
    "#             content= soup_a.select('div[id=\"story_body_content\"] p')\n",
    "            \n",
    "\n",
    "#             for j in content:\n",
    "#                 print(j.text)\n",
    "#     n+=1\n",
    "\n",
    "\n",
    "    \n",
    "\n",
    "# for i in title:\n",
    "#     print(i)\n",
    "\n"
   ]
  },
  {
   "cell_type": "code",
   "execution_count": null,
   "metadata": {},
   "outputs": [],
   "source": []
  },
  {
   "cell_type": "code",
   "execution_count": null,
   "metadata": {},
   "outputs": [],
   "source": [
    "    url = f'https://udn.com/search/tagging/2/%E4%BF%A1%E7%94%A8%E5%8D%A1/{n}'\n",
    "    res = requests.get(url, headers = headers)\n",
    "    soup = BeautifulSoup(res.text, 'html.parser')\n",
    "    title= soup.select('div[id=\"search_content\"] h2')\n",
    "    url= soup.select('div[id=\"search_content\"] dt a')\n",
    "# for i in url:\n",
    "#     print(i)\n",
    "\n",
    "#     print(ii)\n",
    "#     k=re.findall(r'[h].*story.*',ii)\n",
    "#     if k!=[]:\n",
    "#         print(i)\n",
    "#         print(k[0])\n",
    "#         print('-----------------')\n"
   ]
  },
  {
   "cell_type": "code",
   "execution_count": null,
   "metadata": {},
   "outputs": [],
   "source": []
  },
  {
   "cell_type": "code",
   "execution_count": null,
   "metadata": {
    "scrolled": true
   },
   "outputs": [],
   "source": [
    "aa = soup.select('div[id=\"search_content\"]')[0]\n",
    "   \n",
    "d = aa.select('dt')\n"
   ]
  },
  {
   "cell_type": "code",
   "execution_count": null,
   "metadata": {},
   "outputs": [],
   "source": [
    "for i in d:\n",
    "    print(i.select('h2')[0].text)\n",
    "    print(i.a['href'])"
   ]
  },
  {
   "cell_type": "code",
   "execution_count": null,
   "metadata": {},
   "outputs": [],
   "source": [
    "aa"
   ]
  },
  {
   "cell_type": "code",
   "execution_count": null,
   "metadata": {},
   "outputs": [],
   "source": []
  }
 ],
 "metadata": {
  "kernelspec": {
   "display_name": "Python 3",
   "language": "python",
   "name": "python3"
  },
  "language_info": {
   "codemirror_mode": {
    "name": "ipython",
    "version": 3
   },
   "file_extension": ".py",
   "mimetype": "text/x-python",
   "name": "python",
   "nbconvert_exporter": "python",
   "pygments_lexer": "ipython3",
   "version": "3.7.3"
  }
 },
 "nbformat": 4,
 "nbformat_minor": 2
}
