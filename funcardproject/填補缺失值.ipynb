{
 "cells": [
  {
   "cell_type": "code",
   "execution_count": 1,
   "metadata": {},
   "outputs": [],
   "source": [
    "#import important libraries\n",
    "\n",
    "import pandas as pd\n",
    "import numpy as np\n",
    "from sklearn.model_selection import train_test_split\n",
    "from sklearn.model_selection import KFold\n",
    "from sklearn.preprocessing import PolynomialFeatures, StandardScaler\n",
    "from sklearn.metrics import confusion_matrix, mean_absolute_error\n",
    "from sklearn import svm\n",
    "from sklearn.svm import SVR\n",
    "from sklearn.model_selection import train_test_split\n",
    "from sklearn.pipeline import Pipeline\n",
    "from IPython.core.interactiveshell import InteractiveShell\n",
    "\n",
    "# for plotting:\n",
    "import matplotlib.pyplot as plt\n",
    "import seaborn as sns"
   ]
  },
  {
   "cell_type": "code",
   "execution_count": 108,
   "metadata": {},
   "outputs": [
    {
     "data": {
      "text/html": [
       "<div>\n",
       "<style scoped>\n",
       "    .dataframe tbody tr th:only-of-type {\n",
       "        vertical-align: middle;\n",
       "    }\n",
       "\n",
       "    .dataframe tbody tr th {\n",
       "        vertical-align: top;\n",
       "    }\n",
       "\n",
       "    .dataframe thead th {\n",
       "        text-align: right;\n",
       "    }\n",
       "</style>\n",
       "<table border=\"1\" class=\"dataframe\">\n",
       "  <thead>\n",
       "    <tr style=\"text-align: right;\">\n",
       "      <th></th>\n",
       "      <th>Unnamed: 0</th>\n",
       "      <th>age</th>\n",
       "      <th>serveTime</th>\n",
       "      <th>credLimit</th>\n",
       "      <th>Loan</th>\n",
       "      <th>SalPerY</th>\n",
       "      <th>holdCard</th>\n",
       "      <th>Career</th>\n",
       "    </tr>\n",
       "  </thead>\n",
       "  <tbody>\n",
       "    <tr>\n",
       "      <th>0</th>\n",
       "      <td>3448</td>\n",
       "      <td>30.0</td>\n",
       "      <td>NaN</td>\n",
       "      <td>300000</td>\n",
       "      <td>1.0</td>\n",
       "      <td>100000.0</td>\n",
       "      <td>0</td>\n",
       "      <td>2</td>\n",
       "    </tr>\n",
       "    <tr>\n",
       "      <th>1</th>\n",
       "      <td>3468</td>\n",
       "      <td>29.0</td>\n",
       "      <td>NaN</td>\n",
       "      <td>250000</td>\n",
       "      <td>1.0</td>\n",
       "      <td>100000.0</td>\n",
       "      <td>0</td>\n",
       "      <td>2</td>\n",
       "    </tr>\n",
       "    <tr>\n",
       "      <th>2</th>\n",
       "      <td>3214</td>\n",
       "      <td>29.0</td>\n",
       "      <td>12.0</td>\n",
       "      <td>180000</td>\n",
       "      <td>NaN</td>\n",
       "      <td>100000.0</td>\n",
       "      <td>0</td>\n",
       "      <td>2</td>\n",
       "    </tr>\n",
       "    <tr>\n",
       "      <th>3</th>\n",
       "      <td>2598</td>\n",
       "      <td>24.0</td>\n",
       "      <td>NaN</td>\n",
       "      <td>130000</td>\n",
       "      <td>NaN</td>\n",
       "      <td>100000.0</td>\n",
       "      <td>0</td>\n",
       "      <td>3</td>\n",
       "    </tr>\n",
       "    <tr>\n",
       "      <th>4</th>\n",
       "      <td>1611</td>\n",
       "      <td>NaN</td>\n",
       "      <td>36.0</td>\n",
       "      <td>60000</td>\n",
       "      <td>0.0</td>\n",
       "      <td>100000.0</td>\n",
       "      <td>0</td>\n",
       "      <td>1</td>\n",
       "    </tr>\n",
       "  </tbody>\n",
       "</table>\n",
       "</div>"
      ],
      "text/plain": [
       "   Unnamed: 0   age  serveTime  credLimit  Loan   SalPerY  holdCard  Career\n",
       "0        3448  30.0        NaN     300000   1.0  100000.0         0       2\n",
       "1        3468  29.0        NaN     250000   1.0  100000.0         0       2\n",
       "2        3214  29.0       12.0     180000   NaN  100000.0         0       2\n",
       "3        2598  24.0        NaN     130000   NaN  100000.0         0       3\n",
       "4        1611   NaN       36.0      60000   0.0  100000.0         0       1"
      ]
     },
     "execution_count": 108,
     "metadata": {},
     "output_type": "execute_result"
    }
   ],
   "source": [
    "df = pd.read_excel(r'C:\\\\Users\\\\Big data\\\\Desktop\\\\class\\\\cardproject\\\\data\\\\card.xls',encoding='utf-16')\n",
    "df.head()"
   ]
  },
  {
   "cell_type": "code",
   "execution_count": 52,
   "metadata": {},
   "outputs": [
    {
     "name": "stdout",
     "output_type": "stream",
     "text": [
      "<class 'pandas.core.frame.DataFrame'>\n",
      "RangeIndex: 2016 entries, 0 to 2015\n",
      "Data columns (total 8 columns):\n",
      "Unnamed: 0    2016 non-null int64\n",
      "age           1711 non-null float64\n",
      "serveTime     1730 non-null float64\n",
      "credLimit     2016 non-null int64\n",
      "Loan          1676 non-null float64\n",
      "SalPerY       1555 non-null float64\n",
      "holdCard      2016 non-null int64\n",
      "Career        2016 non-null int64\n",
      "dtypes: float64(4), int64(4)\n",
      "memory usage: 126.1 KB\n"
     ]
    },
    {
     "data": {
      "text/html": [
       "<div>\n",
       "<style scoped>\n",
       "    .dataframe tbody tr th:only-of-type {\n",
       "        vertical-align: middle;\n",
       "    }\n",
       "\n",
       "    .dataframe tbody tr th {\n",
       "        vertical-align: top;\n",
       "    }\n",
       "\n",
       "    .dataframe thead th {\n",
       "        text-align: right;\n",
       "    }\n",
       "</style>\n",
       "<table border=\"1\" class=\"dataframe\">\n",
       "  <thead>\n",
       "    <tr style=\"text-align: right;\">\n",
       "      <th></th>\n",
       "      <th>Unnamed: 0</th>\n",
       "      <th>age</th>\n",
       "      <th>serveTime</th>\n",
       "      <th>credLimit</th>\n",
       "      <th>Loan</th>\n",
       "      <th>SalPerY</th>\n",
       "      <th>holdCard</th>\n",
       "      <th>Career</th>\n",
       "    </tr>\n",
       "  </thead>\n",
       "  <tbody>\n",
       "    <tr>\n",
       "      <th>count</th>\n",
       "      <td>2016.000000</td>\n",
       "      <td>1711.000000</td>\n",
       "      <td>1730.000000</td>\n",
       "      <td>2.016000e+03</td>\n",
       "      <td>1676.000000</td>\n",
       "      <td>1.555000e+03</td>\n",
       "      <td>2016.000000</td>\n",
       "      <td>2016.000000</td>\n",
       "    </tr>\n",
       "    <tr>\n",
       "      <th>mean</th>\n",
       "      <td>1822.538690</td>\n",
       "      <td>26.884278</td>\n",
       "      <td>29.952601</td>\n",
       "      <td>1.475501e+05</td>\n",
       "      <td>0.459427</td>\n",
       "      <td>5.645081e+05</td>\n",
       "      <td>0.442956</td>\n",
       "      <td>2.112599</td>\n",
       "    </tr>\n",
       "    <tr>\n",
       "      <th>std</th>\n",
       "      <td>1027.449265</td>\n",
       "      <td>4.791384</td>\n",
       "      <td>58.083863</td>\n",
       "      <td>1.859350e+05</td>\n",
       "      <td>0.885789</td>\n",
       "      <td>4.389883e+05</td>\n",
       "      <td>0.496859</td>\n",
       "      <td>0.634586</td>\n",
       "    </tr>\n",
       "    <tr>\n",
       "      <th>min</th>\n",
       "      <td>2.000000</td>\n",
       "      <td>20.000000</td>\n",
       "      <td>0.000000</td>\n",
       "      <td>1.000000e+04</td>\n",
       "      <td>0.000000</td>\n",
       "      <td>1.000000e+05</td>\n",
       "      <td>0.000000</td>\n",
       "      <td>1.000000</td>\n",
       "    </tr>\n",
       "    <tr>\n",
       "      <th>25%</th>\n",
       "      <td>963.500000</td>\n",
       "      <td>23.000000</td>\n",
       "      <td>5.000000</td>\n",
       "      <td>5.000000e+04</td>\n",
       "      <td>0.000000</td>\n",
       "      <td>3.600000e+05</td>\n",
       "      <td>0.000000</td>\n",
       "      <td>2.000000</td>\n",
       "    </tr>\n",
       "    <tr>\n",
       "      <th>50%</th>\n",
       "      <td>1825.000000</td>\n",
       "      <td>26.000000</td>\n",
       "      <td>13.000000</td>\n",
       "      <td>1.000000e+05</td>\n",
       "      <td>0.000000</td>\n",
       "      <td>5.000000e+05</td>\n",
       "      <td>0.000000</td>\n",
       "      <td>2.000000</td>\n",
       "    </tr>\n",
       "    <tr>\n",
       "      <th>75%</th>\n",
       "      <td>2714.250000</td>\n",
       "      <td>30.000000</td>\n",
       "      <td>36.000000</td>\n",
       "      <td>1.800000e+05</td>\n",
       "      <td>1.000000</td>\n",
       "      <td>6.500000e+05</td>\n",
       "      <td>1.000000</td>\n",
       "      <td>2.000000</td>\n",
       "    </tr>\n",
       "    <tr>\n",
       "      <th>max</th>\n",
       "      <td>3527.000000</td>\n",
       "      <td>56.000000</td>\n",
       "      <td>1500.000000</td>\n",
       "      <td>4.500000e+06</td>\n",
       "      <td>3.000000</td>\n",
       "      <td>1.000000e+07</td>\n",
       "      <td>1.000000</td>\n",
       "      <td>4.000000</td>\n",
       "    </tr>\n",
       "  </tbody>\n",
       "</table>\n",
       "</div>"
      ],
      "text/plain": [
       "        Unnamed: 0          age    serveTime     credLimit         Loan  \\\n",
       "count  2016.000000  1711.000000  1730.000000  2.016000e+03  1676.000000   \n",
       "mean   1822.538690    26.884278    29.952601  1.475501e+05     0.459427   \n",
       "std    1027.449265     4.791384    58.083863  1.859350e+05     0.885789   \n",
       "min       2.000000    20.000000     0.000000  1.000000e+04     0.000000   \n",
       "25%     963.500000    23.000000     5.000000  5.000000e+04     0.000000   \n",
       "50%    1825.000000    26.000000    13.000000  1.000000e+05     0.000000   \n",
       "75%    2714.250000    30.000000    36.000000  1.800000e+05     1.000000   \n",
       "max    3527.000000    56.000000  1500.000000  4.500000e+06     3.000000   \n",
       "\n",
       "            SalPerY     holdCard       Career  \n",
       "count  1.555000e+03  2016.000000  2016.000000  \n",
       "mean   5.645081e+05     0.442956     2.112599  \n",
       "std    4.389883e+05     0.496859     0.634586  \n",
       "min    1.000000e+05     0.000000     1.000000  \n",
       "25%    3.600000e+05     0.000000     2.000000  \n",
       "50%    5.000000e+05     0.000000     2.000000  \n",
       "75%    6.500000e+05     1.000000     2.000000  \n",
       "max    1.000000e+07     1.000000     4.000000  "
      ]
     },
     "execution_count": 52,
     "metadata": {},
     "output_type": "execute_result"
    }
   ],
   "source": [
    "#觀察缺失值\n",
    "df.info()\n",
    "#有值者接過半,一般最低好像是40%\n",
    "#統計量\n",
    "df.describe()"
   ]
  },
  {
   "cell_type": "code",
   "execution_count": 44,
   "metadata": {
    "scrolled": true
   },
   "outputs": [
    {
     "name": "stdout",
     "output_type": "stream",
     "text": [
      "age 0.151  % missing values\n",
      "serveTime 0.142  % missing values\n",
      "Loan 0.169  % missing values\n",
      "SalPerY 0.229  % missing values\n"
     ]
    }
   ],
   "source": [
    "vars_na = [ var for var in df.columns if df[var].isna().sum() > 1]\n",
    "for var in vars_na:\n",
    "    print(var, np.round(df[var].isnull().mean(), 3),  ' % missing values')\n",
    "#只有age ,serveTime ,Loan ,SalPerY 有缺失值,分析這四個分布即可\n",
    "#在我們卡片原樣本中,0與無資料的差異是否相同?"
   ]
  },
  {
   "cell_type": "code",
   "execution_count": 38,
   "metadata": {},
   "outputs": [
    {
     "data": {
      "text/plain": [
       "['age', 'serveTime', 'Loan', 'SalPerY']"
      ]
     },
     "execution_count": 38,
     "metadata": {},
     "output_type": "execute_result"
    }
   ],
   "source": [
    "vars_na"
   ]
  },
  {
   "cell_type": "code",
   "execution_count": 48,
   "metadata": {
    "scrolled": true
   },
   "outputs": [
    {
     "data": {
      "image/png": "[encoded data removed]",
      "text/plain": [
       "<Figure size 432x288 with 1 Axes>"
      ]
     },
     "metadata": {
      "needs_background": "light"
     },
     "output_type": "display_data"
    },
    {
     "data": {
      "image/png": "[encoded data removed]",
      "text/plain": [
       "<Figure size 432x288 with 1 Axes>"
      ]
     },
     "metadata": {
      "needs_background": "light"
     },
     "output_type": "display_data"
    },
    {
     "data": {
      "image/png": "[encoded data removed]",
      "text/plain": [
       "<Figure size 432x288 with 1 Axes>"
      ]
     },
     "metadata": {
      "needs_background": "light"
     },
     "output_type": "display_data"
    },
    {
     "data": {
      "image/png": "[encoded data removed]",
      "text/plain": [
       "<Figure size 432x288 with 1 Axes>"
      ]
     },
     "metadata": {
      "needs_background": "light"
     },
     "output_type": "display_data"
    }
   ],
   "source": [
    "def analyze_na_value(df,var):\n",
    "    df = df.copy()\n",
    "    \n",
    "    \n",
    "    # 條件機率,觀察交互影響大不大,若不大,應該用平均數或種樹填補即可\n",
    "    df[var] = np.where(df[var].isnull(), 1, 0)\n",
    "    \n",
    "    # plt出在不同項目下,是否為遺漏值之其他變數差異\n",
    "    df.groupby(var)['age'].mean().plot.bar()\n",
    "    plt.title(var)\n",
    "    plt.show()\n",
    "    \n",
    "for var in vars_na:\n",
    "    analyze_na_value(df, var)"
   ]
  },
  {
   "cell_type": "code",
   "execution_count": 49,
   "metadata": {
    "scrolled": true
   },
   "outputs": [
    {
     "data": {
      "image/png": "[encoded data removed]",
      "text/plain": [
       "<Figure size 432x288 with 1 Axes>"
      ]
     },
     "metadata": {
      "needs_background": "light"
     },
     "output_type": "display_data"
    },
    {
     "data": {
      "image/png": "[encoded data removed]",
      "text/plain": [
       "<Figure size 432x288 with 1 Axes>"
      ]
     },
     "metadata": {
      "needs_background": "light"
     },
     "output_type": "display_data"
    },
    {
     "data": {
      "image/png": "[encoded data removed]",
      "text/plain": [
       "<Figure size 432x288 with 1 Axes>"
      ]
     },
     "metadata": {
      "needs_background": "light"
     },
     "output_type": "display_data"
    },
    {
     "data": {
      "image/png": "[encoded data removed]",
      "text/plain": [
       "<Figure size 432x288 with 1 Axes>"
      ]
     },
     "metadata": {
      "needs_background": "light"
     },
     "output_type": "display_data"
    }
   ],
   "source": [
    "def analyze_na_value(df,var):\n",
    "    df = df.copy()\n",
    "    \n",
    "    \n",
    "    # 條件機率,觀察交互影響大不大,若不大,應該用平均數或種樹填補即可\n",
    "    df[var] = np.where(df[var].isnull(), 1, 0)\n",
    "    \n",
    "    # plt出在不同項目下,是否為遺漏值之其他變數差異\n",
    "    df.groupby(var)['serveTime'].mean().plot.bar()\n",
    "    plt.title(var)\n",
    "    plt.show()\n",
    "    \n",
    "for var in vars_na:\n",
    "    analyze_na_value(df, var)"
   ]
  },
  {
   "cell_type": "code",
   "execution_count": 50,
   "metadata": {
    "scrolled": true
   },
   "outputs": [
    {
     "data": {
      "image/png": "[encoded data removed]",
      "text/plain": [
       "<Figure size 432x288 with 1 Axes>"
      ]
     },
     "metadata": {
      "needs_background": "light"
     },
     "output_type": "display_data"
    },
    {
     "data": {
      "image/png": "[encoded data removed]",
      "text/plain": [
       "<Figure size 432x288 with 1 Axes>"
      ]
     },
     "metadata": {
      "needs_background": "light"
     },
     "output_type": "display_data"
    },
    {
     "data": {
      "image/png": "[encoded data removed]",
      "text/plain": [
       "<Figure size 432x288 with 1 Axes>"
      ]
     },
     "metadata": {
      "needs_background": "light"
     },
     "output_type": "display_data"
    },
    {
     "data": {
      "image/png": "[encoded data removed]",
      "text/plain": [
       "<Figure size 432x288 with 1 Axes>"
      ]
     },
     "metadata": {
      "needs_background": "light"
     },
     "output_type": "display_data"
    }
   ],
   "source": [
    "def analyze_na_value(df,var):\n",
    "    df = df.copy()\n",
    "    \n",
    "    \n",
    "    # 條件機率,觀察交互影響大不大,若不大,應該用平均數或種樹填補即可\n",
    "    df[var] = np.where(df[var].isnull(), 1, 0)\n",
    "    \n",
    "    # plt出在不同項目下,是否為遺漏值之其他變數差異\n",
    "    df.groupby(var)['Loan'].mean().plot.bar()\n",
    "    plt.title(var)\n",
    "    plt.show()\n",
    "    \n",
    "for var in vars_na:\n",
    "    analyze_na_value(df, var)"
   ]
  },
  {
   "cell_type": "code",
   "execution_count": 51,
   "metadata": {
    "scrolled": true
   },
   "outputs": [
    {
     "data": {
      "image/png": "[encoded data removed]",
      "text/plain": [
       "<Figure size 432x288 with 1 Axes>"
      ]
     },
     "metadata": {
      "needs_background": "light"
     },
     "output_type": "display_data"
    },
    {
     "data": {
      "image/png": "[encoded data removed]",
      "text/plain": [
       "<Figure size 432x288 with 1 Axes>"
      ]
     },
     "metadata": {
      "needs_background": "light"
     },
     "output_type": "display_data"
    },
    {
     "data": {
      "image/png": "[encoded data removed]",
      "text/plain": [
       "<Figure size 432x288 with 1 Axes>"
      ]
     },
     "metadata": {
      "needs_background": "light"
     },
     "output_type": "display_data"
    },
    {
     "data": {
      "image/png": "[encoded data removed]",
      "text/plain": [
       "<Figure size 432x288 with 1 Axes>"
      ]
     },
     "metadata": {
      "needs_background": "light"
     },
     "output_type": "display_data"
    }
   ],
   "source": [
    "def analyze_na_value(df,var):\n",
    "    df = df.copy()\n",
    "    \n",
    "    \n",
    "    # 條件機率,觀察交互影響大不大,若不大,應該用平均數或種樹填補即可\n",
    "    df[var] = np.where(df[var].isnull(), 1, 0)\n",
    "    \n",
    "    # plt出在不同項目下,是否為遺漏值之其他變數差異\n",
    "    df.groupby(var)['SalPerY'].mean().plot.bar()\n",
    "    plt.title(var)\n",
    "    plt.show()\n",
    "    \n",
    "for var in vars_na:\n",
    "    analyze_na_value(df, var)"
   ]
  },
  {
   "cell_type": "markdown",
   "metadata": {},
   "source": [
    "# 看來似乎該欄位遺漏與否並不影響其他欄位之值(目測)但是還試試看其他補值法"
   ]
  },
  {
   "cell_type": "code",
   "execution_count": 97,
   "metadata": {
    "scrolled": true
   },
   "outputs": [],
   "source": [
    "from impyute.imputation.cs import fast_knn\n",
    "from impyute.imputation.cs import mice\n",
    "from sklearn.preprocessing import Imputer"
   ]
  },
  {
   "cell_type": "code",
   "execution_count": 93,
   "metadata": {
    "scrolled": true
   },
   "outputs": [],
   "source": [
    "#KNN補值\n",
    "imputed_training = fast_knn(df,k=2)\n",
    "imputed_training.to_excel(\"C:\\\\Users\\\\Big data\\\\Desktop\\\\class\\\\boredcardproject\\\\data\\\\fast_knn.xls\")"
   ]
  },
  {
   "cell_type": "code",
   "execution_count": 96,
   "metadata": {
    "scrolled": true
   },
   "outputs": [
    {
     "name": "stderr",
     "output_type": "stream",
     "text": [
      "C:\\ProgramData\\Anaconda3\\lib\\site-packages\\impyute\\util\\preprocess.py:52: FutureWarning: Method .as_matrix will be removed in a future version. Use .values instead.\n",
      "  args[0] = args[0].as_matrix()\n"
     ]
    }
   ],
   "source": [
    "#mice補值\n",
    "df_mice = mice(df)\n",
    "df_mice.to_excel(\"C:\\\\Users\\\\Big data\\\\Desktop\\\\class\\\\boredcardproject\\\\data\\\\mice.xls\")"
   ]
  },
  {
   "cell_type": "code",
   "execution_count": null,
   "metadata": {},
   "outputs": [],
   "source": [
    "['age', 'serveTime', 'Loan', 'SalPerY']"
   ]
  },
  {
   "cell_type": "code",
   "execution_count": 107,
   "metadata": {
    "scrolled": true
   },
   "outputs": [
    {
     "data": {
      "text/html": [
       "<div>\n",
       "<style scoped>\n",
       "    .dataframe tbody tr th:only-of-type {\n",
       "        vertical-align: middle;\n",
       "    }\n",
       "\n",
       "    .dataframe tbody tr th {\n",
       "        vertical-align: top;\n",
       "    }\n",
       "\n",
       "    .dataframe thead th {\n",
       "        text-align: right;\n",
       "    }\n",
       "</style>\n",
       "<table border=\"1\" class=\"dataframe\">\n",
       "  <thead>\n",
       "    <tr style=\"text-align: right;\">\n",
       "      <th></th>\n",
       "      <th>age</th>\n",
       "      <th>serveTime</th>\n",
       "      <th>Loan</th>\n",
       "      <th>SalPerY</th>\n",
       "    </tr>\n",
       "  </thead>\n",
       "  <tbody>\n",
       "    <tr>\n",
       "      <th>0</th>\n",
       "      <td>30.000000</td>\n",
       "      <td>29.952601</td>\n",
       "      <td>1.000000</td>\n",
       "      <td>100000.000000</td>\n",
       "    </tr>\n",
       "    <tr>\n",
       "      <th>1</th>\n",
       "      <td>29.000000</td>\n",
       "      <td>29.952601</td>\n",
       "      <td>1.000000</td>\n",
       "      <td>100000.000000</td>\n",
       "    </tr>\n",
       "    <tr>\n",
       "      <th>2</th>\n",
       "      <td>29.000000</td>\n",
       "      <td>12.000000</td>\n",
       "      <td>0.459427</td>\n",
       "      <td>100000.000000</td>\n",
       "    </tr>\n",
       "    <tr>\n",
       "      <th>3</th>\n",
       "      <td>24.000000</td>\n",
       "      <td>29.952601</td>\n",
       "      <td>0.459427</td>\n",
       "      <td>100000.000000</td>\n",
       "    </tr>\n",
       "    <tr>\n",
       "      <th>4</th>\n",
       "      <td>26.884278</td>\n",
       "      <td>36.000000</td>\n",
       "      <td>0.000000</td>\n",
       "      <td>100000.000000</td>\n",
       "    </tr>\n",
       "    <tr>\n",
       "      <th>5</th>\n",
       "      <td>20.000000</td>\n",
       "      <td>12.000000</td>\n",
       "      <td>0.000000</td>\n",
       "      <td>100000.000000</td>\n",
       "    </tr>\n",
       "    <tr>\n",
       "      <th>6</th>\n",
       "      <td>24.000000</td>\n",
       "      <td>12.000000</td>\n",
       "      <td>0.000000</td>\n",
       "      <td>100000.000000</td>\n",
       "    </tr>\n",
       "    <tr>\n",
       "      <th>7</th>\n",
       "      <td>25.000000</td>\n",
       "      <td>12.000000</td>\n",
       "      <td>0.459427</td>\n",
       "      <td>100000.000000</td>\n",
       "    </tr>\n",
       "    <tr>\n",
       "      <th>8</th>\n",
       "      <td>20.000000</td>\n",
       "      <td>29.952601</td>\n",
       "      <td>0.000000</td>\n",
       "      <td>100000.000000</td>\n",
       "    </tr>\n",
       "    <tr>\n",
       "      <th>9</th>\n",
       "      <td>22.000000</td>\n",
       "      <td>29.952601</td>\n",
       "      <td>0.000000</td>\n",
       "      <td>100000.000000</td>\n",
       "    </tr>\n",
       "    <tr>\n",
       "      <th>10</th>\n",
       "      <td>24.000000</td>\n",
       "      <td>29.952601</td>\n",
       "      <td>1.000000</td>\n",
       "      <td>100000.000000</td>\n",
       "    </tr>\n",
       "    <tr>\n",
       "      <th>11</th>\n",
       "      <td>25.000000</td>\n",
       "      <td>18.000000</td>\n",
       "      <td>0.000000</td>\n",
       "      <td>100000.000000</td>\n",
       "    </tr>\n",
       "    <tr>\n",
       "      <th>12</th>\n",
       "      <td>21.000000</td>\n",
       "      <td>29.952601</td>\n",
       "      <td>0.000000</td>\n",
       "      <td>100000.000000</td>\n",
       "    </tr>\n",
       "    <tr>\n",
       "      <th>13</th>\n",
       "      <td>21.000000</td>\n",
       "      <td>36.000000</td>\n",
       "      <td>0.000000</td>\n",
       "      <td>100000.000000</td>\n",
       "    </tr>\n",
       "    <tr>\n",
       "      <th>14</th>\n",
       "      <td>26.884278</td>\n",
       "      <td>29.952601</td>\n",
       "      <td>0.459427</td>\n",
       "      <td>110000.000000</td>\n",
       "    </tr>\n",
       "    <tr>\n",
       "      <th>15</th>\n",
       "      <td>22.000000</td>\n",
       "      <td>3.000000</td>\n",
       "      <td>0.000000</td>\n",
       "      <td>120000.000000</td>\n",
       "    </tr>\n",
       "    <tr>\n",
       "      <th>16</th>\n",
       "      <td>26.884278</td>\n",
       "      <td>12.000000</td>\n",
       "      <td>0.000000</td>\n",
       "      <td>120000.000000</td>\n",
       "    </tr>\n",
       "    <tr>\n",
       "      <th>17</th>\n",
       "      <td>26.884278</td>\n",
       "      <td>12.000000</td>\n",
       "      <td>0.000000</td>\n",
       "      <td>120000.000000</td>\n",
       "    </tr>\n",
       "    <tr>\n",
       "      <th>18</th>\n",
       "      <td>25.000000</td>\n",
       "      <td>3.000000</td>\n",
       "      <td>0.459427</td>\n",
       "      <td>120000.000000</td>\n",
       "    </tr>\n",
       "    <tr>\n",
       "      <th>19</th>\n",
       "      <td>22.000000</td>\n",
       "      <td>2.000000</td>\n",
       "      <td>0.000000</td>\n",
       "      <td>120000.000000</td>\n",
       "    </tr>\n",
       "    <tr>\n",
       "      <th>20</th>\n",
       "      <td>22.000000</td>\n",
       "      <td>0.000000</td>\n",
       "      <td>0.459427</td>\n",
       "      <td>120000.000000</td>\n",
       "    </tr>\n",
       "    <tr>\n",
       "      <th>21</th>\n",
       "      <td>25.000000</td>\n",
       "      <td>2.000000</td>\n",
       "      <td>0.000000</td>\n",
       "      <td>120000.000000</td>\n",
       "    </tr>\n",
       "    <tr>\n",
       "      <th>22</th>\n",
       "      <td>22.000000</td>\n",
       "      <td>29.952601</td>\n",
       "      <td>0.000000</td>\n",
       "      <td>120000.000000</td>\n",
       "    </tr>\n",
       "    <tr>\n",
       "      <th>23</th>\n",
       "      <td>21.000000</td>\n",
       "      <td>24.000000</td>\n",
       "      <td>0.000000</td>\n",
       "      <td>120000.000000</td>\n",
       "    </tr>\n",
       "    <tr>\n",
       "      <th>24</th>\n",
       "      <td>26.884278</td>\n",
       "      <td>29.952601</td>\n",
       "      <td>0.000000</td>\n",
       "      <td>120000.000000</td>\n",
       "    </tr>\n",
       "    <tr>\n",
       "      <th>25</th>\n",
       "      <td>20.000000</td>\n",
       "      <td>3.000000</td>\n",
       "      <td>0.459427</td>\n",
       "      <td>120000.000000</td>\n",
       "    </tr>\n",
       "    <tr>\n",
       "      <th>26</th>\n",
       "      <td>22.000000</td>\n",
       "      <td>36.000000</td>\n",
       "      <td>0.000000</td>\n",
       "      <td>120000.000000</td>\n",
       "    </tr>\n",
       "    <tr>\n",
       "      <th>27</th>\n",
       "      <td>22.000000</td>\n",
       "      <td>36.000000</td>\n",
       "      <td>1.000000</td>\n",
       "      <td>120000.000000</td>\n",
       "    </tr>\n",
       "    <tr>\n",
       "      <th>28</th>\n",
       "      <td>22.000000</td>\n",
       "      <td>6.000000</td>\n",
       "      <td>0.000000</td>\n",
       "      <td>120000.000000</td>\n",
       "    </tr>\n",
       "    <tr>\n",
       "      <th>29</th>\n",
       "      <td>25.000000</td>\n",
       "      <td>0.000000</td>\n",
       "      <td>0.000000</td>\n",
       "      <td>120000.000000</td>\n",
       "    </tr>\n",
       "    <tr>\n",
       "      <th>...</th>\n",
       "      <td>...</td>\n",
       "      <td>...</td>\n",
       "      <td>...</td>\n",
       "      <td>...</td>\n",
       "    </tr>\n",
       "    <tr>\n",
       "      <th>1986</th>\n",
       "      <td>21.000000</td>\n",
       "      <td>29.952601</td>\n",
       "      <td>0.000000</td>\n",
       "      <td>564508.054019</td>\n",
       "    </tr>\n",
       "    <tr>\n",
       "      <th>1987</th>\n",
       "      <td>20.000000</td>\n",
       "      <td>29.952601</td>\n",
       "      <td>0.000000</td>\n",
       "      <td>564508.054019</td>\n",
       "    </tr>\n",
       "    <tr>\n",
       "      <th>1988</th>\n",
       "      <td>22.000000</td>\n",
       "      <td>29.952601</td>\n",
       "      <td>0.000000</td>\n",
       "      <td>564508.054019</td>\n",
       "    </tr>\n",
       "    <tr>\n",
       "      <th>1989</th>\n",
       "      <td>20.000000</td>\n",
       "      <td>29.952601</td>\n",
       "      <td>0.459427</td>\n",
       "      <td>564508.054019</td>\n",
       "    </tr>\n",
       "    <tr>\n",
       "      <th>1990</th>\n",
       "      <td>21.000000</td>\n",
       "      <td>29.952601</td>\n",
       "      <td>0.459427</td>\n",
       "      <td>564508.054019</td>\n",
       "    </tr>\n",
       "    <tr>\n",
       "      <th>1991</th>\n",
       "      <td>20.000000</td>\n",
       "      <td>3.000000</td>\n",
       "      <td>3.000000</td>\n",
       "      <td>564508.054019</td>\n",
       "    </tr>\n",
       "    <tr>\n",
       "      <th>1992</th>\n",
       "      <td>20.000000</td>\n",
       "      <td>29.952601</td>\n",
       "      <td>0.000000</td>\n",
       "      <td>564508.054019</td>\n",
       "    </tr>\n",
       "    <tr>\n",
       "      <th>1993</th>\n",
       "      <td>22.000000</td>\n",
       "      <td>12.000000</td>\n",
       "      <td>3.000000</td>\n",
       "      <td>564508.054019</td>\n",
       "    </tr>\n",
       "    <tr>\n",
       "      <th>1994</th>\n",
       "      <td>23.000000</td>\n",
       "      <td>7.000000</td>\n",
       "      <td>0.000000</td>\n",
       "      <td>564508.054019</td>\n",
       "    </tr>\n",
       "    <tr>\n",
       "      <th>1995</th>\n",
       "      <td>26.884278</td>\n",
       "      <td>5.000000</td>\n",
       "      <td>1.000000</td>\n",
       "      <td>564508.054019</td>\n",
       "    </tr>\n",
       "    <tr>\n",
       "      <th>1996</th>\n",
       "      <td>26.884278</td>\n",
       "      <td>24.000000</td>\n",
       "      <td>1.000000</td>\n",
       "      <td>564508.054019</td>\n",
       "    </tr>\n",
       "    <tr>\n",
       "      <th>1997</th>\n",
       "      <td>20.000000</td>\n",
       "      <td>29.952601</td>\n",
       "      <td>0.000000</td>\n",
       "      <td>564508.054019</td>\n",
       "    </tr>\n",
       "    <tr>\n",
       "      <th>1998</th>\n",
       "      <td>26.884278</td>\n",
       "      <td>10.000000</td>\n",
       "      <td>1.000000</td>\n",
       "      <td>564508.054019</td>\n",
       "    </tr>\n",
       "    <tr>\n",
       "      <th>1999</th>\n",
       "      <td>26.884278</td>\n",
       "      <td>29.952601</td>\n",
       "      <td>0.000000</td>\n",
       "      <td>564508.054019</td>\n",
       "    </tr>\n",
       "    <tr>\n",
       "      <th>2000</th>\n",
       "      <td>26.884278</td>\n",
       "      <td>12.000000</td>\n",
       "      <td>0.000000</td>\n",
       "      <td>564508.054019</td>\n",
       "    </tr>\n",
       "    <tr>\n",
       "      <th>2001</th>\n",
       "      <td>26.884278</td>\n",
       "      <td>12.000000</td>\n",
       "      <td>1.000000</td>\n",
       "      <td>564508.054019</td>\n",
       "    </tr>\n",
       "    <tr>\n",
       "      <th>2002</th>\n",
       "      <td>20.000000</td>\n",
       "      <td>28.000000</td>\n",
       "      <td>3.000000</td>\n",
       "      <td>564508.054019</td>\n",
       "    </tr>\n",
       "    <tr>\n",
       "      <th>2003</th>\n",
       "      <td>20.000000</td>\n",
       "      <td>15.000000</td>\n",
       "      <td>0.000000</td>\n",
       "      <td>564508.054019</td>\n",
       "    </tr>\n",
       "    <tr>\n",
       "      <th>2004</th>\n",
       "      <td>20.000000</td>\n",
       "      <td>29.952601</td>\n",
       "      <td>0.459427</td>\n",
       "      <td>564508.054019</td>\n",
       "    </tr>\n",
       "    <tr>\n",
       "      <th>2005</th>\n",
       "      <td>26.884278</td>\n",
       "      <td>36.000000</td>\n",
       "      <td>0.000000</td>\n",
       "      <td>564508.054019</td>\n",
       "    </tr>\n",
       "    <tr>\n",
       "      <th>2006</th>\n",
       "      <td>20.000000</td>\n",
       "      <td>14.000000</td>\n",
       "      <td>0.000000</td>\n",
       "      <td>564508.054019</td>\n",
       "    </tr>\n",
       "    <tr>\n",
       "      <th>2007</th>\n",
       "      <td>21.000000</td>\n",
       "      <td>12.000000</td>\n",
       "      <td>0.000000</td>\n",
       "      <td>564508.054019</td>\n",
       "    </tr>\n",
       "    <tr>\n",
       "      <th>2008</th>\n",
       "      <td>21.000000</td>\n",
       "      <td>11.000000</td>\n",
       "      <td>0.000000</td>\n",
       "      <td>564508.054019</td>\n",
       "    </tr>\n",
       "    <tr>\n",
       "      <th>2009</th>\n",
       "      <td>20.000000</td>\n",
       "      <td>34.000000</td>\n",
       "      <td>3.000000</td>\n",
       "      <td>564508.054019</td>\n",
       "    </tr>\n",
       "    <tr>\n",
       "      <th>2010</th>\n",
       "      <td>20.000000</td>\n",
       "      <td>29.952601</td>\n",
       "      <td>1.000000</td>\n",
       "      <td>564508.054019</td>\n",
       "    </tr>\n",
       "    <tr>\n",
       "      <th>2011</th>\n",
       "      <td>21.000000</td>\n",
       "      <td>12.000000</td>\n",
       "      <td>0.459427</td>\n",
       "      <td>564508.054019</td>\n",
       "    </tr>\n",
       "    <tr>\n",
       "      <th>2012</th>\n",
       "      <td>20.000000</td>\n",
       "      <td>29.952601</td>\n",
       "      <td>1.000000</td>\n",
       "      <td>564508.054019</td>\n",
       "    </tr>\n",
       "    <tr>\n",
       "      <th>2013</th>\n",
       "      <td>21.000000</td>\n",
       "      <td>10.000000</td>\n",
       "      <td>0.000000</td>\n",
       "      <td>564508.054019</td>\n",
       "    </tr>\n",
       "    <tr>\n",
       "      <th>2014</th>\n",
       "      <td>20.000000</td>\n",
       "      <td>5.000000</td>\n",
       "      <td>0.000000</td>\n",
       "      <td>564508.054019</td>\n",
       "    </tr>\n",
       "    <tr>\n",
       "      <th>2015</th>\n",
       "      <td>21.000000</td>\n",
       "      <td>29.952601</td>\n",
       "      <td>0.000000</td>\n",
       "      <td>564508.054019</td>\n",
       "    </tr>\n",
       "  </tbody>\n",
       "</table>\n",
       "<p>2016 rows × 4 columns</p>\n",
       "</div>"
      ],
      "text/plain": [
       "            age  serveTime      Loan        SalPerY\n",
       "0     30.000000  29.952601  1.000000  100000.000000\n",
       "1     29.000000  29.952601  1.000000  100000.000000\n",
       "2     29.000000  12.000000  0.459427  100000.000000\n",
       "3     24.000000  29.952601  0.459427  100000.000000\n",
       "4     26.884278  36.000000  0.000000  100000.000000\n",
       "5     20.000000  12.000000  0.000000  100000.000000\n",
       "6     24.000000  12.000000  0.000000  100000.000000\n",
       "7     25.000000  12.000000  0.459427  100000.000000\n",
       "8     20.000000  29.952601  0.000000  100000.000000\n",
       "9     22.000000  29.952601  0.000000  100000.000000\n",
       "10    24.000000  29.952601  1.000000  100000.000000\n",
       "11    25.000000  18.000000  0.000000  100000.000000\n",
       "12    21.000000  29.952601  0.000000  100000.000000\n",
       "13    21.000000  36.000000  0.000000  100000.000000\n",
       "14    26.884278  29.952601  0.459427  110000.000000\n",
       "15    22.000000   3.000000  0.000000  120000.000000\n",
       "16    26.884278  12.000000  0.000000  120000.000000\n",
       "17    26.884278  12.000000  0.000000  120000.000000\n",
       "18    25.000000   3.000000  0.459427  120000.000000\n",
       "19    22.000000   2.000000  0.000000  120000.000000\n",
       "20    22.000000   0.000000  0.459427  120000.000000\n",
       "21    25.000000   2.000000  0.000000  120000.000000\n",
       "22    22.000000  29.952601  0.000000  120000.000000\n",
       "23    21.000000  24.000000  0.000000  120000.000000\n",
       "24    26.884278  29.952601  0.000000  120000.000000\n",
       "25    20.000000   3.000000  0.459427  120000.000000\n",
       "26    22.000000  36.000000  0.000000  120000.000000\n",
       "27    22.000000  36.000000  1.000000  120000.000000\n",
       "28    22.000000   6.000000  0.000000  120000.000000\n",
       "29    25.000000   0.000000  0.000000  120000.000000\n",
       "...         ...        ...       ...            ...\n",
       "1986  21.000000  29.952601  0.000000  564508.054019\n",
       "1987  20.000000  29.952601  0.000000  564508.054019\n",
       "1988  22.000000  29.952601  0.000000  564508.054019\n",
       "1989  20.000000  29.952601  0.459427  564508.054019\n",
       "1990  21.000000  29.952601  0.459427  564508.054019\n",
       "1991  20.000000   3.000000  3.000000  564508.054019\n",
       "1992  20.000000  29.952601  0.000000  564508.054019\n",
       "1993  22.000000  12.000000  3.000000  564508.054019\n",
       "1994  23.000000   7.000000  0.000000  564508.054019\n",
       "1995  26.884278   5.000000  1.000000  564508.054019\n",
       "1996  26.884278  24.000000  1.000000  564508.054019\n",
       "1997  20.000000  29.952601  0.000000  564508.054019\n",
       "1998  26.884278  10.000000  1.000000  564508.054019\n",
       "1999  26.884278  29.952601  0.000000  564508.054019\n",
       "2000  26.884278  12.000000  0.000000  564508.054019\n",
       "2001  26.884278  12.000000  1.000000  564508.054019\n",
       "2002  20.000000  28.000000  3.000000  564508.054019\n",
       "2003  20.000000  15.000000  0.000000  564508.054019\n",
       "2004  20.000000  29.952601  0.459427  564508.054019\n",
       "2005  26.884278  36.000000  0.000000  564508.054019\n",
       "2006  20.000000  14.000000  0.000000  564508.054019\n",
       "2007  21.000000  12.000000  0.000000  564508.054019\n",
       "2008  21.000000  11.000000  0.000000  564508.054019\n",
       "2009  20.000000  34.000000  3.000000  564508.054019\n",
       "2010  20.000000  29.952601  1.000000  564508.054019\n",
       "2011  21.000000  12.000000  0.459427  564508.054019\n",
       "2012  20.000000  29.952601  1.000000  564508.054019\n",
       "2013  21.000000  10.000000  0.000000  564508.054019\n",
       "2014  20.000000   5.000000  0.000000  564508.054019\n",
       "2015  21.000000  29.952601  0.000000  564508.054019\n",
       "\n",
       "[2016 rows x 4 columns]"
      ]
     },
     "execution_count": 107,
     "metadata": {},
     "output_type": "execute_result"
    }
   ],
   "source": [
    "#平均數捕值\n",
    "df_mean = pd.DataFrame(columns=['age', 'serveTime', 'Loan', 'SalPerY'])\n",
    "df_mean['age']=df['age'].fillna(df['age'].mean())\n",
    "df_mean['serveTime']=df['serveTime'].fillna(df['serveTime'].mean())\n",
    "df_mean['Loan']=df['Loan'].fillna(df['Loan'].mean())\n",
    "df_mean['SalPerY']=df['SalPerY'].fillna(df['SalPerY'].mean())\n",
    "df_mean.to_excel(\"C:\\\\Users\\\\Big data\\\\Desktop\\\\class\\\\boredcardproject\\\\data\\\\df_mean.xls\")"
   ]
  },
  {
   "cell_type": "code",
   "execution_count": 109,
   "metadata": {},
   "outputs": [],
   "source": [
    "#眾樹捕值\n",
    "df_median = pd.DataFrame(columns=['age', 'serveTime', 'Loan', 'SalPerY'])\n",
    "df_median['age']=df['age'].fillna(df['age'].median())\n",
    "df_median['serveTime']=df['serveTime'].fillna(df['serveTime'].median())\n",
    "df_median['Loan']=df['Loan'].fillna(df['Loan'].median())\n",
    "df_median['SalPerY']=df['SalPerY'].fillna(df['SalPerY'].median())\n",
    "df_median.to_excel(\"C:\\\\Users\\\\Big data\\\\Desktop\\\\class\\\\boredcardproject\\\\data\\\\df_median.xls\")"
   ]
  },
  {
   "cell_type": "code",
   "execution_count": null,
   "metadata": {},
   "outputs": [],
   "source": [
    "#隨基森林"
   ]
  },
  {
   "cell_type": "code",
   "execution_count": null,
   "metadata": {},
   "outputs": [],
   "source": [
    "#虛擬便量"
   ]
  }
 ],
 "metadata": {
  "kernelspec": {
   "display_name": "Python 3",
   "language": "python",
   "name": "python3"
  },
  "language_info": {
   "codemirror_mode": {
    "name": "ipython",
    "version": 3
   },
   "file_extension": ".py",
   "mimetype": "text/x-python",
   "name": "python",
   "nbconvert_exporter": "python",
   "pygments_lexer": "ipython3",
   "version": "3.7.3"
  }
 },
 "nbformat": 4,
 "nbformat_minor": 2
}
