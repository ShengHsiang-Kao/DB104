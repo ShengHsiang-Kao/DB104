{
 "cells": [
  {
   "cell_type": "markdown",
   "metadata": {},
   "source": [
    "# 流程:\n",
    "# 1.一次全補(雖然會有倒果為因的問題,但樣本數過少)\n",
    "# 2.切分為訓練測試,7:3\n"
   ]
  },
  {
   "cell_type": "code",
   "execution_count": 1,
   "metadata": {},
   "outputs": [],
   "source": [
    "import pandas as pd\n",
    "import numpy as np\n",
    "from sklearn.model_selection import train_test_split\n",
    "from sklearn.model_selection import KFold\n",
    "from sklearn.preprocessing import PolynomialFeatures, StandardScaler\n",
    "from sklearn.metrics import confusion_matrix, mean_absolute_error\n",
    "from sklearn import svm\n",
    "from sklearn.svm import SVR\n",
    "from sklearn.model_selection import train_test_split\n",
    "from sklearn.pipeline import Pipeline\n",
    "from IPython.core.interactiveshell import InteractiveShell\n",
    "\n",
    "# for plotting:\n",
    "import matplotlib.pyplot as plt\n",
    "import seaborn as sns"
   ]
  },
  {
   "cell_type": "code",
   "execution_count": 63,
   "metadata": {
    "scrolled": true
   },
   "outputs": [
    {
     "data": {
      "text/html": [
       "<div>\n",
       "<style scoped>\n",
       "    .dataframe tbody tr th:only-of-type {\n",
       "        vertical-align: middle;\n",
       "    }\n",
       "\n",
       "    .dataframe tbody tr th {\n",
       "        vertical-align: top;\n",
       "    }\n",
       "\n",
       "    .dataframe thead th {\n",
       "        text-align: right;\n",
       "    }\n",
       "</style>\n",
       "<table border=\"1\" class=\"dataframe\">\n",
       "  <thead>\n",
       "    <tr style=\"text-align: right;\">\n",
       "      <th></th>\n",
       "      <th>Unnamed: 0</th>\n",
       "      <th>age</th>\n",
       "      <th>serveTime</th>\n",
       "      <th>credLimit</th>\n",
       "      <th>Loan</th>\n",
       "      <th>SalPerY</th>\n",
       "      <th>holdCard</th>\n",
       "      <th>Career</th>\n",
       "    </tr>\n",
       "  </thead>\n",
       "  <tbody>\n",
       "    <tr>\n",
       "      <th>0</th>\n",
       "      <td>0</td>\n",
       "      <td>22.0</td>\n",
       "      <td>NaN</td>\n",
       "      <td>20000</td>\n",
       "      <td>NaN</td>\n",
       "      <td>260000.0</td>\n",
       "      <td>1</td>\n",
       "      <td>1</td>\n",
       "    </tr>\n",
       "    <tr>\n",
       "      <th>1</th>\n",
       "      <td>1</td>\n",
       "      <td>NaN</td>\n",
       "      <td>NaN</td>\n",
       "      <td>150000</td>\n",
       "      <td>2.0</td>\n",
       "      <td>360000.0</td>\n",
       "      <td>1</td>\n",
       "      <td>2</td>\n",
       "    </tr>\n",
       "    <tr>\n",
       "      <th>2</th>\n",
       "      <td>2</td>\n",
       "      <td>NaN</td>\n",
       "      <td>48.0</td>\n",
       "      <td>60000</td>\n",
       "      <td>0.0</td>\n",
       "      <td>450000.0</td>\n",
       "      <td>1</td>\n",
       "      <td>2</td>\n",
       "    </tr>\n",
       "    <tr>\n",
       "      <th>3</th>\n",
       "      <td>3</td>\n",
       "      <td>26.0</td>\n",
       "      <td>12.0</td>\n",
       "      <td>70000</td>\n",
       "      <td>0.0</td>\n",
       "      <td>400000.0</td>\n",
       "      <td>1</td>\n",
       "      <td>3</td>\n",
       "    </tr>\n",
       "    <tr>\n",
       "      <th>4</th>\n",
       "      <td>4</td>\n",
       "      <td>31.0</td>\n",
       "      <td>60.0</td>\n",
       "      <td>210000</td>\n",
       "      <td>0.0</td>\n",
       "      <td>800000.0</td>\n",
       "      <td>1</td>\n",
       "      <td>2</td>\n",
       "    </tr>\n",
       "    <tr>\n",
       "      <th>5</th>\n",
       "      <td>5</td>\n",
       "      <td>26.0</td>\n",
       "      <td>4.0</td>\n",
       "      <td>100000</td>\n",
       "      <td>NaN</td>\n",
       "      <td>500000.0</td>\n",
       "      <td>1</td>\n",
       "      <td>2</td>\n",
       "    </tr>\n",
       "    <tr>\n",
       "      <th>6</th>\n",
       "      <td>6</td>\n",
       "      <td>29.0</td>\n",
       "      <td>36.0</td>\n",
       "      <td>200000</td>\n",
       "      <td>2.0</td>\n",
       "      <td>3000000.0</td>\n",
       "      <td>1</td>\n",
       "      <td>2</td>\n",
       "    </tr>\n",
       "    <tr>\n",
       "      <th>7</th>\n",
       "      <td>7</td>\n",
       "      <td>22.0</td>\n",
       "      <td>7.0</td>\n",
       "      <td>60000</td>\n",
       "      <td>NaN</td>\n",
       "      <td>550000.0</td>\n",
       "      <td>1</td>\n",
       "      <td>2</td>\n",
       "    </tr>\n",
       "    <tr>\n",
       "      <th>8</th>\n",
       "      <td>8</td>\n",
       "      <td>25.0</td>\n",
       "      <td>12.0</td>\n",
       "      <td>250000</td>\n",
       "      <td>0.0</td>\n",
       "      <td>900000.0</td>\n",
       "      <td>1</td>\n",
       "      <td>2</td>\n",
       "    </tr>\n",
       "    <tr>\n",
       "      <th>9</th>\n",
       "      <td>9</td>\n",
       "      <td>29.0</td>\n",
       "      <td>48.0</td>\n",
       "      <td>390000</td>\n",
       "      <td>0.0</td>\n",
       "      <td>1000000.0</td>\n",
       "      <td>1</td>\n",
       "      <td>4</td>\n",
       "    </tr>\n",
       "  </tbody>\n",
       "</table>\n",
       "</div>"
      ],
      "text/plain": [
       "   Unnamed: 0   age  serveTime  credLimit  Loan    SalPerY  holdCard  Career\n",
       "0           0  22.0        NaN      20000   NaN   260000.0         1       1\n",
       "1           1   NaN        NaN     150000   2.0   360000.0         1       2\n",
       "2           2   NaN       48.0      60000   0.0   450000.0         1       2\n",
       "3           3  26.0       12.0      70000   0.0   400000.0         1       3\n",
       "4           4  31.0       60.0     210000   0.0   800000.0         1       2\n",
       "5           5  26.0        4.0     100000   NaN   500000.0         1       2\n",
       "6           6  29.0       36.0     200000   2.0  3000000.0         1       2\n",
       "7           7  22.0        7.0      60000   NaN   550000.0         1       2\n",
       "8           8  25.0       12.0     250000   0.0   900000.0         1       2\n",
       "9           9  29.0       48.0     390000   0.0  1000000.0         1       4"
      ]
     },
     "execution_count": 63,
     "metadata": {},
     "output_type": "execute_result"
    }
   ],
   "source": [
    "df = pd.read_excel(r'C:\\Users\\Big data\\Desktop\\class\\funcardproject\\DB104-Roland01\\Data.xlsx',encoding='utf-16')\n",
    "df.head(10)"
   ]
  },
  {
   "cell_type": "markdown",
   "metadata": {},
   "source": [
    "# 觀察缺失值會不會太多"
   ]
  },
  {
   "cell_type": "code",
   "execution_count": 53,
   "metadata": {},
   "outputs": [
    {
     "name": "stdout",
     "output_type": "stream",
     "text": [
      "<class 'pandas.core.frame.DataFrame'>\n",
      "RangeIndex: 2039 entries, 0 to 2038\n",
      "Data columns (total 8 columns):\n",
      "Unnamed: 0    2039 non-null int64\n",
      "age           1730 non-null float64\n",
      "serveTime     1754 non-null float64\n",
      "credLimit     2039 non-null int64\n",
      "Loan          1692 non-null float64\n",
      "SalPerY       1687 non-null float64\n",
      "holdCard      2039 non-null int64\n",
      "Career        2039 non-null int64\n",
      "dtypes: float64(4), int64(4)\n",
      "memory usage: 127.5 KB\n"
     ]
    },
    {
     "data": {
      "text/html": [
       "<div>\n",
       "<style scoped>\n",
       "    .dataframe tbody tr th:only-of-type {\n",
       "        vertical-align: middle;\n",
       "    }\n",
       "\n",
       "    .dataframe tbody tr th {\n",
       "        vertical-align: top;\n",
       "    }\n",
       "\n",
       "    .dataframe thead th {\n",
       "        text-align: right;\n",
       "    }\n",
       "</style>\n",
       "<table border=\"1\" class=\"dataframe\">\n",
       "  <thead>\n",
       "    <tr style=\"text-align: right;\">\n",
       "      <th></th>\n",
       "      <th>Unnamed: 0</th>\n",
       "      <th>age</th>\n",
       "      <th>serveTime</th>\n",
       "      <th>credLimit</th>\n",
       "      <th>Loan</th>\n",
       "      <th>SalPerY</th>\n",
       "      <th>holdCard</th>\n",
       "      <th>Career</th>\n",
       "    </tr>\n",
       "  </thead>\n",
       "  <tbody>\n",
       "    <tr>\n",
       "      <th>count</th>\n",
       "      <td>2039.000000</td>\n",
       "      <td>1730.000000</td>\n",
       "      <td>1754.000000</td>\n",
       "      <td>2.039000e+03</td>\n",
       "      <td>1692.000000</td>\n",
       "      <td>1.687000e+03</td>\n",
       "      <td>2039.0</td>\n",
       "      <td>2039.000000</td>\n",
       "    </tr>\n",
       "    <tr>\n",
       "      <th>mean</th>\n",
       "      <td>1019.000000</td>\n",
       "      <td>26.875723</td>\n",
       "      <td>29.784493</td>\n",
       "      <td>1.499622e+05</td>\n",
       "      <td>0.456856</td>\n",
       "      <td>7.291784e+05</td>\n",
       "      <td>1.0</td>\n",
       "      <td>2.109367</td>\n",
       "    </tr>\n",
       "    <tr>\n",
       "      <th>std</th>\n",
       "      <td>588.752919</td>\n",
       "      <td>4.799284</td>\n",
       "      <td>46.204502</td>\n",
       "      <td>2.269981e+05</td>\n",
       "      <td>0.882798</td>\n",
       "      <td>1.348185e+06</td>\n",
       "      <td>0.0</td>\n",
       "      <td>0.636096</td>\n",
       "    </tr>\n",
       "    <tr>\n",
       "      <th>min</th>\n",
       "      <td>0.000000</td>\n",
       "      <td>20.000000</td>\n",
       "      <td>0.000000</td>\n",
       "      <td>2.000000e+03</td>\n",
       "      <td>0.000000</td>\n",
       "      <td>2.000000e+04</td>\n",
       "      <td>1.0</td>\n",
       "      <td>1.000000</td>\n",
       "    </tr>\n",
       "    <tr>\n",
       "      <th>25%</th>\n",
       "      <td>509.500000</td>\n",
       "      <td>23.000000</td>\n",
       "      <td>6.000000</td>\n",
       "      <td>5.000000e+04</td>\n",
       "      <td>0.000000</td>\n",
       "      <td>3.800000e+05</td>\n",
       "      <td>1.0</td>\n",
       "      <td>2.000000</td>\n",
       "    </tr>\n",
       "    <tr>\n",
       "      <th>50%</th>\n",
       "      <td>1019.000000</td>\n",
       "      <td>26.000000</td>\n",
       "      <td>16.000000</td>\n",
       "      <td>1.000000e+05</td>\n",
       "      <td>0.000000</td>\n",
       "      <td>5.000000e+05</td>\n",
       "      <td>1.0</td>\n",
       "      <td>2.000000</td>\n",
       "    </tr>\n",
       "    <tr>\n",
       "      <th>75%</th>\n",
       "      <td>1528.500000</td>\n",
       "      <td>30.000000</td>\n",
       "      <td>36.000000</td>\n",
       "      <td>1.800000e+05</td>\n",
       "      <td>1.000000</td>\n",
       "      <td>7.000000e+05</td>\n",
       "      <td>1.0</td>\n",
       "      <td>2.000000</td>\n",
       "    </tr>\n",
       "    <tr>\n",
       "      <th>max</th>\n",
       "      <td>2038.000000</td>\n",
       "      <td>56.000000</td>\n",
       "      <td>1278.000000</td>\n",
       "      <td>6.070000e+06</td>\n",
       "      <td>3.000000</td>\n",
       "      <td>3.700000e+07</td>\n",
       "      <td>1.0</td>\n",
       "      <td>4.000000</td>\n",
       "    </tr>\n",
       "  </tbody>\n",
       "</table>\n",
       "</div>"
      ],
      "text/plain": [
       "        Unnamed: 0          age    serveTime     credLimit         Loan  \\\n",
       "count  2039.000000  1730.000000  1754.000000  2.039000e+03  1692.000000   \n",
       "mean   1019.000000    26.875723    29.784493  1.499622e+05     0.456856   \n",
       "std     588.752919     4.799284    46.204502  2.269981e+05     0.882798   \n",
       "min       0.000000    20.000000     0.000000  2.000000e+03     0.000000   \n",
       "25%     509.500000    23.000000     6.000000  5.000000e+04     0.000000   \n",
       "50%    1019.000000    26.000000    16.000000  1.000000e+05     0.000000   \n",
       "75%    1528.500000    30.000000    36.000000  1.800000e+05     1.000000   \n",
       "max    2038.000000    56.000000  1278.000000  6.070000e+06     3.000000   \n",
       "\n",
       "            SalPerY  holdCard       Career  \n",
       "count  1.687000e+03    2039.0  2039.000000  \n",
       "mean   7.291784e+05       1.0     2.109367  \n",
       "std    1.348185e+06       0.0     0.636096  \n",
       "min    2.000000e+04       1.0     1.000000  \n",
       "25%    3.800000e+05       1.0     2.000000  \n",
       "50%    5.000000e+05       1.0     2.000000  \n",
       "75%    7.000000e+05       1.0     2.000000  \n",
       "max    3.700000e+07       1.0     4.000000  "
      ]
     },
     "execution_count": 53,
     "metadata": {},
     "output_type": "execute_result"
    }
   ],
   "source": [
    "#觀察缺失值\n",
    "df.info()\n",
    "#有值者接過半,一般最低好像是40%,這樣看來可以捕值,若太多則須整行拿掉\n",
    "#統計量\n",
    "df.describe()"
   ]
  },
  {
   "cell_type": "code",
   "execution_count": 6,
   "metadata": {},
   "outputs": [
    {
     "name": "stdout",
     "output_type": "stream",
     "text": [
      "age 0.152  % missing values\n",
      "serveTime 0.14  % missing values\n",
      "Loan 0.17  % missing values\n",
      "SalPerY 0.173  % missing values\n"
     ]
    }
   ],
   "source": [
    "vars_na = [ var for var in df.columns if df[var].isna().sum() > 1]\n",
    "for var in vars_na:\n",
    "    print(var, np.round(df[var].isnull().mean(), 3),  ' % missing values')\n",
    "#只有age ,serveTime ,Loan ,SalPerY 有缺失值,分析這四個分布即可\n",
    "#在我們卡片原樣本中,0與無資料的差異是否相同?"
   ]
  },
  {
   "cell_type": "code",
   "execution_count": 7,
   "metadata": {
    "scrolled": true
   },
   "outputs": [
    {
     "data": {
      "text/plain": [
       "['age', 'serveTime', 'Loan', 'SalPerY']"
      ]
     },
     "execution_count": 7,
     "metadata": {},
     "output_type": "execute_result"
    }
   ],
   "source": [
    "vars_na"
   ]
  },
  {
   "cell_type": "markdown",
   "metadata": {},
   "source": [
    "# 依序針對每樣變數以是否有值做分群,觀察該變數是否有值對於其他變數的影響"
   ]
  },
  {
   "cell_type": "code",
   "execution_count": 8,
   "metadata": {},
   "outputs": [
    {
     "data": {
      "image/png": "[encoded data removed]",
      "text/plain": [
       "<Figure size 432x288 with 1 Axes>"
      ]
     },
     "metadata": {
      "needs_background": "light"
     },
     "output_type": "display_data"
    },
    {
     "data": {
      "image/png": "[encoded data removed]",
      "text/plain": [
       "<Figure size 432x288 with 1 Axes>"
      ]
     },
     "metadata": {
      "needs_background": "light"
     },
     "output_type": "display_data"
    },
    {
     "data": {
      "image/png": "[encoded data removed]",
      "text/plain": [
       "<Figure size 432x288 with 1 Axes>"
      ]
     },
     "metadata": {
      "needs_background": "light"
     },
     "output_type": "display_data"
    },
    {
     "data": {
      "image/png": "[encoded data removed]",
      "text/plain": [
       "<Figure size 432x288 with 1 Axes>"
      ]
     },
     "metadata": {
      "needs_background": "light"
     },
     "output_type": "display_data"
    }
   ],
   "source": [
    "def analyze_na_value(df,var):\n",
    "    df = df.copy()\n",
    "    \n",
    "    \n",
    "    # 條件機率,觀察交互影響大不大,若不大,應該用平均數或種樹填補即可\n",
    "    df[var] = np.where(df[var].isnull(), 1, 0)\n",
    "    \n",
    "    # plt出在不同項目下,是否為遺漏值之其他變數差異\n",
    "    df.groupby(var)['age'].mean().plot.bar()\n",
    "    plt.title(var)\n",
    "    plt.show()\n",
    "    \n",
    "for var in vars_na:\n",
    "    analyze_na_value(df, var)"
   ]
  },
  {
   "cell_type": "code",
   "execution_count": 9,
   "metadata": {},
   "outputs": [
    {
     "data": {
      "image/png": "[encoded data removed]",
      "text/plain": [
       "<Figure size 432x288 with 1 Axes>"
      ]
     },
     "metadata": {
      "needs_background": "light"
     },
     "output_type": "display_data"
    },
    {
     "data": {
      "image/png": "[encoded data removed]",
      "text/plain": [
       "<Figure size 432x288 with 1 Axes>"
      ]
     },
     "metadata": {
      "needs_background": "light"
     },
     "output_type": "display_data"
    },
    {
     "data": {
      "image/png": "[encoded data removed]",
      "text/plain": [
       "<Figure size 432x288 with 1 Axes>"
      ]
     },
     "metadata": {
      "needs_background": "light"
     },
     "output_type": "display_data"
    },
    {
     "data": {
      "image/png": "[encoded data removed]",
      "text/plain": [
       "<Figure size 432x288 with 1 Axes>"
      ]
     },
     "metadata": {
      "needs_background": "light"
     },
     "output_type": "display_data"
    }
   ],
   "source": [
    "def analyze_na_value(df,var):\n",
    "    df = df.copy()\n",
    "    \n",
    "    \n",
    "    # 條件機率,觀察交互影響大不大,若不大,應該用平均數或種樹填補即可\n",
    "    df[var] = np.where(df[var].isnull(), 1, 0)\n",
    "    \n",
    "    # plt出在不同項目下,是否為遺漏值之其他變數差異\n",
    "    df.groupby(var)['serveTime'].mean().plot.bar()\n",
    "    plt.title(var)\n",
    "    plt.show()\n",
    "    \n",
    "for var in vars_na:\n",
    "    analyze_na_value(df, var)"
   ]
  },
  {
   "cell_type": "code",
   "execution_count": 10,
   "metadata": {},
   "outputs": [
    {
     "data": {
      "image/png": "[encoded data removed]",
      "text/plain": [
       "<Figure size 432x288 with 1 Axes>"
      ]
     },
     "metadata": {
      "needs_background": "light"
     },
     "output_type": "display_data"
    },
    {
     "data": {
      "image/png": "[encoded data removed]",
      "text/plain": [
       "<Figure size 432x288 with 1 Axes>"
      ]
     },
     "metadata": {
      "needs_background": "light"
     },
     "output_type": "display_data"
    },
    {
     "data": {
      "image/png": "[encoded data removed]",
      "text/plain": [
       "<Figure size 432x288 with 1 Axes>"
      ]
     },
     "metadata": {
      "needs_background": "light"
     },
     "output_type": "display_data"
    },
    {
     "data": {
      "image/png": "[encoded data removed]",
      "text/plain": [
       "<Figure size 432x288 with 1 Axes>"
      ]
     },
     "metadata": {
      "needs_background": "light"
     },
     "output_type": "display_data"
    }
   ],
   "source": [
    "def analyze_na_value(df,var):\n",
    "    df = df.copy()\n",
    "    \n",
    "    \n",
    "    # 條件機率,觀察交互影響大不大,若不大,應該用平均數或種樹填補即可\n",
    "    df[var] = np.where(df[var].isnull(), 1, 0)\n",
    "    \n",
    "    # plt出在不同項目下,是否為遺漏值之其他變數差異\n",
    "    df.groupby(var)['Loan'].mean().plot.bar()\n",
    "    plt.title(var)\n",
    "    plt.show()\n",
    "    \n",
    "for var in vars_na:\n",
    "    analyze_na_value(df, var)"
   ]
  },
  {
   "cell_type": "code",
   "execution_count": 11,
   "metadata": {},
   "outputs": [
    {
     "data": {
      "image/png": "[encoded data removed]",
      "text/plain": [
       "<Figure size 432x288 with 1 Axes>"
      ]
     },
     "metadata": {
      "needs_background": "light"
     },
     "output_type": "display_data"
    },
    {
     "data": {
      "image/png": "[encoded data removed]",
      "text/plain": [
       "<Figure size 432x288 with 1 Axes>"
      ]
     },
     "metadata": {
      "needs_background": "light"
     },
     "output_type": "display_data"
    },
    {
     "data": {
      "image/png": "[encoded data removed]",
      "text/plain": [
       "<Figure size 432x288 with 1 Axes>"
      ]
     },
     "metadata": {
      "needs_background": "light"
     },
     "output_type": "display_data"
    },
    {
     "data": {
      "image/png": "[encoded data removed]",
      "text/plain": [
       "<Figure size 432x288 with 1 Axes>"
      ]
     },
     "metadata": {
      "needs_background": "light"
     },
     "output_type": "display_data"
    }
   ],
   "source": [
    "def analyze_na_value(df,var):\n",
    "    df = df.copy()\n",
    "    \n",
    "    \n",
    "    # 條件機率,觀察交互影響大不大,若不大,應該用平均數或種樹填補即可\n",
    "    df[var] = np.where(df[var].isnull(), 1, 0)\n",
    "    \n",
    "    # plt出在不同項目下,是否為遺漏值之其他變數差異\n",
    "    df.groupby(var)['SalPerY'].mean().plot.bar()\n",
    "    plt.title(var)\n",
    "    plt.show()\n",
    "    \n",
    "for var in vars_na:\n",
    "    analyze_na_value(df, var)"
   ]
  },
  {
   "cell_type": "markdown",
   "metadata": {},
   "source": [
    "# 看來似乎該欄位遺漏與否並不影響其他欄位之值(目測)但是還試試看其他補值法\n",
    "# 預測Y為數值"
   ]
  },
  {
   "cell_type": "code",
   "execution_count": 54,
   "metadata": {},
   "outputs": [],
   "source": [
    "from impyute.imputation.cs import fast_knn\n",
    "from impyute.imputation.cs import mice\n",
    "from sklearn.preprocessing import Imputer"
   ]
  },
  {
   "cell_type": "code",
   "execution_count": 108,
   "metadata": {},
   "outputs": [
    {
     "name": "stderr",
     "output_type": "stream",
     "text": [
      "C:\\ProgramData\\Anaconda3\\lib\\site-packages\\impyute\\util\\preprocess.py:52: FutureWarning: Method .as_matrix will be removed in a future version. Use .values instead.\n",
      "  args[0] = args[0].as_matrix()\n"
     ]
    }
   ],
   "source": [
    "#KNN補值\n",
    "imputed_training = fast_knn(df,k=2)\n",
    "imputed_training.to_excel(r\"C:\\Users\\Big data\\Desktop\\class\\funcardproject\\補值data\\補值_KNN_Y為數值.xls\")"
   ]
  },
  {
   "cell_type": "code",
   "execution_count": 103,
   "metadata": {},
   "outputs": [],
   "source": [
    "#mice_Wald補值\n",
    "df_mice_Wald = mice(df,meth='Wald')\n",
    "df_mice_Wald.to_excel(r\"C:\\Users\\Big data\\Desktop\\class\\funcardproject\\補值data\\補值_mice_Wald_Y為數值.xls\")"
   ]
  },
  {
   "cell_type": "code",
   "execution_count": 104,
   "metadata": {
    "scrolled": true
   },
   "outputs": [
    {
     "name": "stderr",
     "output_type": "stream",
     "text": [
      "C:\\ProgramData\\Anaconda3\\lib\\site-packages\\impyute\\util\\preprocess.py:52: FutureWarning: Method .as_matrix will be removed in a future version. Use .values instead.\n",
      "  args[0] = args[0].as_matrix()\n"
     ]
    }
   ],
   "source": [
    "#mice_pmm補值\n",
    "df_mice_pmm = mice(df,meth='pmm')\n",
    "df_mice_pmm.to_excel(r\"C:\\Users\\Big data\\Desktop\\class\\funcardproject\\補值data\\補值_pmm_Y為數值.xls\")"
   ]
  },
  {
   "cell_type": "code",
   "execution_count": 105,
   "metadata": {
    "scrolled": true
   },
   "outputs": [
    {
     "name": "stderr",
     "output_type": "stream",
     "text": [
      "C:\\ProgramData\\Anaconda3\\lib\\site-packages\\impyute\\util\\preprocess.py:52: FutureWarning: Method .as_matrix will be removed in a future version. Use .values instead.\n",
      "  args[0] = args[0].as_matrix()\n"
     ]
    }
   ],
   "source": [
    "#mice_cart補值\n",
    "df_mice_cart = mice(df,meth='cart')\n",
    "df_mice_cart.to_excel(r\"C:\\Users\\Big data\\Desktop\\class\\funcardproject\\補值data\\補值_cart_Y為數值.xls\")"
   ]
  },
  {
   "cell_type": "code",
   "execution_count": 106,
   "metadata": {},
   "outputs": [
    {
     "name": "stderr",
     "output_type": "stream",
     "text": [
      "C:\\ProgramData\\Anaconda3\\lib\\site-packages\\impyute\\util\\preprocess.py:52: FutureWarning: Method .as_matrix will be removed in a future version. Use .values instead.\n",
      "  args[0] = args[0].as_matrix()\n"
     ]
    }
   ],
   "source": [
    "#mice_rf補值\n",
    "df_mice_rf = mice(df,meth='rf')\n",
    "df_mice_rf.to_excel(r\"C:\\Users\\Big data\\Desktop\\class\\funcardproject\\補值data\\補值_rf_Y為數值.xls\")"
   ]
  },
  {
   "cell_type": "code",
   "execution_count": 107,
   "metadata": {
    "scrolled": true
   },
   "outputs": [
    {
     "name": "stderr",
     "output_type": "stream",
     "text": [
      "C:\\ProgramData\\Anaconda3\\lib\\site-packages\\impyute\\util\\preprocess.py:52: FutureWarning: Method .as_matrix will be removed in a future version. Use .values instead.\n",
      "  args[0] = args[0].as_matrix()\n"
     ]
    }
   ],
   "source": [
    "#mice_logreg補值\n",
    "df_mice_logreg = mice(df,meth='logreg')\n",
    "df_mice_logreg.to_excel(r\"C:\\Users\\Big data\\Desktop\\class\\funcardproject\\補值data\\補值_logreg_Y為數值.xls\")"
   ]
  },
  {
   "cell_type": "markdown",
   "metadata": {},
   "source": [
    "# 以下是作預測額度的分群,轉為類別變數較為直覺(直接可以看到正確率),也可解決極端值問題\n",
    "# 也可直接預測數值,但會比較麻煩,EX:實際值20000,預測值20001,若用分類來看是錯的,必須要用標準化((20001-20000)/std)後得到MSE以觀察結果好壞\n",
    "\n",
    "# 在分群之前先觀察全部樣本資料散佈圖,可以看到有極端的額度"
   ]
  },
  {
   "cell_type": "code",
   "execution_count": 71,
   "metadata": {},
   "outputs": [
    {
     "data": {
      "text/plain": [
       "Text(0, 0.5, 'sequence')"
      ]
     },
     "execution_count": 71,
     "metadata": {},
     "output_type": "execute_result"
    },
    {
     "data": {
      "image/png": "[encoded data removed]",
      "text/plain": [
       "<Figure size 432x288 with 1 Axes>"
      ]
     },
     "metadata": {
      "needs_background": "light"
     },
     "output_type": "display_data"
    }
   ],
   "source": [
    "# seaborn histogram\n",
    "#先觀察和卡額度分布圖,可看到最高有到500萬的離群值,然而大部分的額度都在50萬以下\n",
    "sns.distplot(df['credLimit'], hist=True, kde=False, \n",
    "             bins=int(100), color = 'blue',\n",
    "             hist_kws={'edgecolor':'black'})\n",
    "plt.title('distribution')\n",
    "plt.xlabel('credLimit')\n",
    "plt.ylabel('sequence')"
   ]
  },
  {
   "cell_type": "code",
   "execution_count": 72,
   "metadata": {},
   "outputs": [
    {
     "name": "stderr",
     "output_type": "stream",
     "text": [
      "C:\\ProgramData\\Anaconda3\\lib\\site-packages\\numpy\\lib\\histograms.py:824: RuntimeWarning: invalid value encountered in greater_equal\n",
      "  keep = (tmp_a >= first_edge)\n",
      "C:\\ProgramData\\Anaconda3\\lib\\site-packages\\numpy\\lib\\histograms.py:825: RuntimeWarning: invalid value encountered in less_equal\n",
      "  keep &= (tmp_a <= last_edge)\n"
     ]
    },
    {
     "data": {
      "text/plain": [
       "Text(0, 0.5, 'sequence')"
      ]
     },
     "execution_count": 72,
     "metadata": {},
     "output_type": "execute_result"
    },
    {
     "data": {
      "image/png": "[encoded data removed]",
      "text/plain": [
       "<Figure size 432x288 with 1 Axes>"
      ]
     },
     "metadata": {
      "needs_background": "light"
     },
     "output_type": "display_data"
    }
   ],
   "source": [
    "# seaborn histogram\n",
    "#range取0到50萬,觀察一下分布型態\n",
    "#可看到有關卡額度\n",
    "filtered = df[(df >= 0) & (df <500000)]\n",
    "sns.distplot(filtered['credLimit'], hist=True, kde=False, \n",
    "             bins=int(100), color = 'blue',\n",
    "             hist_kws={'edgecolor':'black'})\n",
    "plt.title('distribution')\n",
    "plt.xlabel('credLimit')\n",
    "plt.ylabel('sequence')"
   ]
  },
  {
   "cell_type": "code",
   "execution_count": 73,
   "metadata": {},
   "outputs": [
    {
     "data": {
      "text/plain": [
       "Text(0, 0.5, 'sequence')"
      ]
     },
     "execution_count": 73,
     "metadata": {},
     "output_type": "execute_result"
    },
    {
     "data": {
      "image/png": "[encoded data removed]",
      "text/plain": [
       "<Figure size 432x288 with 1 Axes>"
      ]
     },
     "metadata": {
      "needs_background": "light"
     },
     "output_type": "display_data"
    }
   ],
   "source": [
    "# seaborn histogram\n",
    "#range取0到10萬\n",
    "#\n",
    "filtered = df[(df >= 20000) & (df <50000)]\n",
    "sns.distplot(filtered['credLimit'], hist=True, kde=False, \n",
    "             bins=int(100), color = 'blue',\n",
    "             hist_kws={'edgecolor':'black'})\n",
    "plt.title('distribution')\n",
    "plt.xlabel('credLimit')\n",
    "plt.ylabel('sequence')"
   ]
  },
  {
   "cell_type": "markdown",
   "metadata": {},
   "source": [
    "# 若要分群,有2個考量點:\n",
    "   ## １.分界點必須選在稀疏區(明顯斷層,否則會模稜兩可)\n",
    "   ##  2.每個區段樣本數不能過少或是數量差異過大\n",
    "# 分群採用:\n",
    "# 2W(含)W~4.5W(含)#因為學生很容易斷出來\n",
    "# 4.5W~9.5W(含)\n",
    "# 9.5W到19.5W(含)\n",
    "# 19.5W以上到29.5W(含)\n",
    "# 29.5W以上\n",
    "# 一共五類\n",
    "# 不一定要這樣分,根據經驗僅供參考"
   ]
  },
  {
   "cell_type": "code",
   "execution_count": 74,
   "metadata": {},
   "outputs": [],
   "source": [
    "#把credLimit這欄依照上述轉為類別\n",
    "df_group=df\n",
    "df_group.loc[(df_group['credLimit'] >= 10) & (df_group['credLimit'] <=45000),'credLimit']=0\n",
    "df_group.loc[(df_group['credLimit'] > 45000) & (df_group['credLimit'] <=95000),'credLimit']=1\n",
    "df_group.loc[(df_group['credLimit'] > 95000) & (df_group['credLimit'] <=195000),'credLimit']=2\n",
    "df_group.loc[(df_group['credLimit'] > 195000) & (df_group['credLimit'] <=295000),'credLimit']=3\n",
    "df_group.loc[(df_group['credLimit'] > 295000) ,'credLimit']=4"
   ]
  },
  {
   "cell_type": "code",
   "execution_count": 75,
   "metadata": {},
   "outputs": [
    {
     "data": {
      "text/plain": [
       "Text(0, 0.5, 'sequence')"
      ]
     },
     "execution_count": 75,
     "metadata": {},
     "output_type": "execute_result"
    },
    {
     "data": {
      "image/png": "[encoded data removed]",
      "text/plain": [
       "<Figure size 432x288 with 1 Axes>"
      ]
     },
     "metadata": {
      "needs_background": "light"
     },
     "output_type": "display_data"
    }
   ],
   "source": [
    "#在檢視一次樣本,各個級數數量並無差太多,應該可以?\n",
    "sns.distplot(df_group['credLimit'], hist=True, kde=False, \n",
    "             bins=int(5), color = 'blue',\n",
    "             hist_kws={'edgecolor':'black'})\n",
    "plt.title('distribution')\n",
    "plt.xlabel('credLimit')\n",
    "plt.ylabel('sequence')"
   ]
  },
  {
   "cell_type": "code",
   "execution_count": 109,
   "metadata": {
    "scrolled": true
   },
   "outputs": [],
   "source": [
    "#KNN補值\n",
    "imputed_training = fast_knn(df_group,k=2)\n",
    "imputed_training.to_excel(r\"C:\\Users\\Big data\\Desktop\\class\\funcardproject\\補值data\\補值_KNN_Y分群.xls\")"
   ]
  },
  {
   "cell_type": "code",
   "execution_count": 110,
   "metadata": {},
   "outputs": [],
   "source": [
    "#mice_Wald補值\n",
    "df_mice_Wald_group = mice(df_group,meth='Wald')\n",
    "df_mice_Wald_group.to_excel(r\"C:\\Users\\Big data\\Desktop\\class\\funcardproject\\補值data\\補值_mice_Wald_Y分群.xls\")"
   ]
  },
  {
   "cell_type": "code",
   "execution_count": 111,
   "metadata": {},
   "outputs": [
    {
     "name": "stderr",
     "output_type": "stream",
     "text": [
      "C:\\ProgramData\\Anaconda3\\lib\\site-packages\\impyute\\util\\preprocess.py:52: FutureWarning: Method .as_matrix will be removed in a future version. Use .values instead.\n",
      "  args[0] = args[0].as_matrix()\n"
     ]
    }
   ],
   "source": [
    "#mice_pmm補值\n",
    "df_mice_pmm_group = mice(df,meth='pmm')\n",
    "df_mice_pmm_group.to_excel(r\"C:\\Users\\Big data\\Desktop\\class\\funcardproject\\補值data\\補值_pmm_Y分群.xls\")"
   ]
  },
  {
   "cell_type": "code",
   "execution_count": 112,
   "metadata": {},
   "outputs": [
    {
     "name": "stderr",
     "output_type": "stream",
     "text": [
      "C:\\ProgramData\\Anaconda3\\lib\\site-packages\\impyute\\util\\preprocess.py:52: FutureWarning: Method .as_matrix will be removed in a future version. Use .values instead.\n",
      "  args[0] = args[0].as_matrix()\n"
     ]
    }
   ],
   "source": [
    "#mice_cart補值\n",
    "df_mice_cart_group = mice(df,meth='cart')\n",
    "df_mice_cart_group.to_excel(r\"C:\\Users\\Big data\\Desktop\\class\\funcardproject\\補值data\\補值_cart_Y分群.xls\")"
   ]
  },
  {
   "cell_type": "code",
   "execution_count": 113,
   "metadata": {},
   "outputs": [
    {
     "name": "stderr",
     "output_type": "stream",
     "text": [
      "C:\\ProgramData\\Anaconda3\\lib\\site-packages\\impyute\\util\\preprocess.py:52: FutureWarning: Method .as_matrix will be removed in a future version. Use .values instead.\n",
      "  args[0] = args[0].as_matrix()\n"
     ]
    }
   ],
   "source": [
    "#mice_rf補值\n",
    "df_mice_rf_group = mice(df,meth='rf')\n",
    "df_mice_rf_group.to_excel(r\"C:\\Users\\Big data\\Desktop\\class\\funcardproject\\補值data\\補值_rf_Y分群.xls\")"
   ]
  },
  {
   "cell_type": "code",
   "execution_count": 114,
   "metadata": {},
   "outputs": [
    {
     "name": "stderr",
     "output_type": "stream",
     "text": [
      "C:\\ProgramData\\Anaconda3\\lib\\site-packages\\impyute\\util\\preprocess.py:52: FutureWarning: Method .as_matrix will be removed in a future version. Use .values instead.\n",
      "  args[0] = args[0].as_matrix()\n"
     ]
    }
   ],
   "source": [
    "#mice_logreg補值\n",
    "df_mice_logreg_group = mice(df,meth='logreg')\n",
    "df_mice_logreg_group.to_excel(r\"C:\\Users\\Big data\\Desktop\\class\\funcardproject\\補值data\\補值_logreg_Y分群.xls\")"
   ]
  },
  {
   "cell_type": "code",
   "execution_count": null,
   "metadata": {},
   "outputs": [],
   "source": []
  }
 ],
 "metadata": {
  "kernelspec": {
   "display_name": "Python 3",
   "language": "python",
   "name": "python3"
  },
  "language_info": {
   "codemirror_mode": {
    "name": "ipython",
    "version": 3
   },
   "file_extension": ".py",
   "mimetype": "text/x-python",
   "name": "python",
   "nbconvert_exporter": "python",
   "pygments_lexer": "ipython3",
   "version": "3.7.3"
  }
 },
 "nbformat": 4,
 "nbformat_minor": 2
}
