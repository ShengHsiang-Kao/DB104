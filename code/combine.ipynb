{
 "cells": [
  {
   "cell_type": "code",
   "execution_count": 1,
   "metadata": {},
   "outputs": [],
   "source": [
    "import re\n",
    "import os\n",
    "import pandas as pd\n",
    "import xlsxwriter\n",
    "import jieba"
   ]
  },
  {
   "cell_type": "code",
   "execution_count": 2,
   "metadata": {},
   "outputs": [],
   "source": [
    "df=pd.read_json(r'C:/Users/Big data/PycharmProjects/ourETL/Reene.json')\n",
    "df01=pd.read_json(r'C:/Users/Big data/PycharmProjects/ourETL/Etoday.json')\n",
    "df02=pd.read_json(r'C:/Users/Big data/PycharmProjects/ourETL/fuma.json')\n",
    "df03=pd.read_json(r'C:/Users/Big data/PycharmProjects/ourETL/Money101.json')\n",
    "df04=pd.read_json(r'C:/Users/Big data/PycharmProjects/ourETL/PKB.json')\n",
    "\n"
   ]
  },
  {
   "cell_type": "code",
   "execution_count": 13,
   "metadata": {},
   "outputs": [],
   "source": [
    "\n",
    "    \n",
    "dfall=pd.concat([df,df01,df02,df03,df04], axis=1, ignore_index=True)\n",
    "\n",
    "\n"
   ]
  },
  {
   "cell_type": "code",
   "execution_count": 24,
   "metadata": {},
   "outputs": [],
   "source": [
    "for i in range(len(dfall.loc['網址'])):\n",
    "    if len(dfall[i]['網址'])>100:\n",
    "        dfall[i]['網址']=(dfall[i]['網址'])[:100]\n"
   ]
  },
  {
   "cell_type": "code",
   "execution_count": 26,
   "metadata": {},
   "outputs": [],
   "source": [
    "dfall.to_json('C:/Users/Big data/PycharmProjects/ourETL/dfall.json',orient='index',force_ascii=False)\n",
    "dfall.to_csv('C:/Users/Big data/PycharmProjects/ourETL/dfall.csv',encoding='utf-8')\n",
    "dfall.to_excel('C:/Users/Big data/PycharmProjects/ourETL/dfall.xlsx')"
   ]
  },
  {
   "cell_type": "code",
   "execution_count": null,
   "metadata": {},
   "outputs": [],
   "source": []
  }
 ],
 "metadata": {
  "kernelspec": {
   "display_name": "Python 3",
   "language": "python",
   "name": "python3"
  },
  "language_info": {
   "codemirror_mode": {
    "name": "ipython",
    "version": 3
   },
   "file_extension": ".py",
   "mimetype": "text/x-python",
   "name": "python",
   "nbconvert_exporter": "python",
   "pygments_lexer": "ipython3",
   "version": "3.7.3"
  }
 },
 "nbformat": 4,
 "nbformat_minor": 2
}
