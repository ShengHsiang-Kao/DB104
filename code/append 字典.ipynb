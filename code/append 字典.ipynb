{
 "cells": [
  {
   "cell_type": "code",
   "execution_count": null,
   "metadata": {},
   "outputs": [],
   "source": [
    "import re\n",
    "import os\n",
    "import pandas as pd\n",
    "import xlsxwriter\n",
    "import jieba"
   ]
  },
  {
   "cell_type": "code",
   "execution_count": 1,
   "metadata": {},
   "outputs": [],
   "source": [
    "bank={'中信':'中信','中國信託':'中信' ,'玉山':'玉山','Richart':'Richart', 'richart':'Richart','KOKO':'KOKO','koko':'KOKO',\n",
    "       '國泰':'國泰','國泰世華':'國泰','台新':'台新','永豐':'永豐','兆豐':'兆豐'}\n",
    "card={'linepay':'Linepay','Linepay':'Linepay','LinePay':'Linepay','LINEPAY':'Linepay','LINE PAY':'Linepay','GoGo':'GOGO','GOGO':'GOGO','gogo':'GOGO','FlyGo':'Flygo',\n",
    "       'flygo':'Flygo','Flygo':'Flygo','FLYGO':'Flygo','DAWHO':'dawho','大戶':'dawho','dawho':'dawho','Dawho':'dawho',\n",
    "       'PI':'Pi','Pi':'Pi','pi卡':'Pi','PI卡':'Pi','拍':'Pi','U Bear':'Ubear','UBear':'Ubear','ubear':'Ubear','UBEAR':'Ubear','Ubear':'Ubear','ubear':'Ubear',\n",
    "      'only':'Only','ONLY':'Only','Only':'Only','現金回饋':'現金回饋','御璽':'御璽','鑽金':'鑽金'}\n",
    "behavior={'跑步':'運動','健身房':'運動','運動':'運動','旅遊':'旅遊','旅行':'旅遊','機票':'旅遊','飯店':'旅遊','機場':'旅遊','旅平險':'旅遊','出國':'旅遊','保險':'保險','保費':'保險',\n",
    "         '加油':'加油','中油':'加油','國外':'國外','海外':'國外','電影':'電影','國賓':'電影','威秀':'電影'}\n"
   ]
  },
  {
   "cell_type": "code",
   "execution_count": 4,
   "metadata": {},
   "outputs": [
    {
     "name": "stdout",
     "output_type": "stream",
     "text": [
      "中信\n",
      "中國信託\n",
      "玉山\n",
      "Richart\n",
      "richart\n",
      "KOKO\n",
      "koko\n",
      "國泰\n",
      "國泰世華\n",
      "台新\n",
      "永豐\n",
      "兆豐\n",
      "linepay\n",
      "Linepay\n",
      "LinePay\n",
      "LINEPAY\n",
      "LINE PAY\n",
      "GoGo\n",
      "GOGO\n",
      "gogo\n",
      "FlyGo\n",
      "flygo\n",
      "Flygo\n",
      "FLYGO\n",
      "DAWHO\n",
      "大戶\n",
      "dawho\n",
      "Dawho\n",
      "PI\n",
      "Pi\n",
      "pi卡\n",
      "PI卡\n",
      "拍\n",
      "U Bear\n",
      "UBear\n",
      "ubear\n",
      "UBEAR\n",
      "Ubear\n",
      "only\n",
      "ONLY\n",
      "Only\n",
      "現金回饋\n",
      "御璽\n",
      "鑽金\n",
      "跑步\n",
      "健身房\n",
      "運動\n",
      "旅遊\n",
      "旅行\n",
      "機票\n",
      "飯店\n",
      "機場\n",
      "旅平險\n",
      "出國\n",
      "保險\n",
      "保費\n",
      "加油\n",
      "中油\n",
      "國外\n",
      "海外\n",
      "電影\n",
      "國賓\n",
      "威秀\n",
      "\n"
     ]
    }
   ],
   "source": [
    "j=''\n",
    "for w in bank:\n",
    "    j+=w+('\\n')\n",
    "\n",
    "for w in card:\n",
    "    j+=w+('\\n')\n",
    "for w in behavior:\n",
    "    j+=w+('\\n')\n",
    "print(j)"
   ]
  },
  {
   "cell_type": "code",
   "execution_count": null,
   "metadata": {},
   "outputs": [],
   "source": []
  },
  {
   "cell_type": "code",
   "execution_count": 6,
   "metadata": {},
   "outputs": [
    {
     "name": "stdout",
     "output_type": "stream",
     "text": [
      "中信\n",
      "中國信託\n",
      "玉山\n",
      "Richart\n",
      "richart\n",
      "KOKO\n",
      "koko\n",
      "國泰\n",
      "國泰世華\n",
      "台新\n",
      "永豐\n",
      "兆豐\n",
      "linepay\n",
      "Linepay\n",
      "LinePay\n",
      "LINEPAY\n",
      "LINE PAY\n",
      "GoGo\n",
      "GOGO\n",
      "gogo\n",
      "FlyGo\n",
      "flygo\n",
      "Flygo\n",
      "FLYGO\n",
      "DAWHO\n",
      "大戶\n",
      "dawho\n",
      "Dawho\n",
      "PI\n",
      "Pi\n",
      "pi卡\n",
      "PI卡\n",
      "拍\n",
      "U Bear\n",
      "UBear\n",
      "ubear\n",
      "UBEAR\n",
      "Ubear\n",
      "only\n",
      "ONLY\n",
      "Only\n",
      "現金回饋\n",
      "御璽\n",
      "鑽金\n",
      "跑步\n",
      "健身房\n",
      "運動\n",
      "旅遊\n",
      "旅行\n",
      "機票\n",
      "飯店\n",
      "機場\n",
      "旅平險\n",
      "出國\n",
      "保險\n",
      "保費\n",
      "加油\n",
      "中油\n",
      "國外\n",
      "海外\n",
      "電影\n",
      "國賓\n",
      "威秀\n",
      "\n"
     ]
    }
   ],
   "source": [
    "print(j)"
   ]
  },
  {
   "cell_type": "code",
   "execution_count": 5,
   "metadata": {},
   "outputs": [],
   "source": [
    "# with open(\"C:/Users/Big data/PycharmProjects/ourETL/userdict.txt\", \"a\") as myfile:\n",
    "#     myfile.write(j)"
   ]
  },
  {
   "cell_type": "code",
   "execution_count": null,
   "metadata": {},
   "outputs": [],
   "source": []
  }
 ],
 "metadata": {
  "kernelspec": {
   "display_name": "Python 3",
   "language": "python",
   "name": "python3"
  },
  "language_info": {
   "codemirror_mode": {
    "name": "ipython",
    "version": 3
   },
   "file_extension": ".py",
   "mimetype": "text/x-python",
   "name": "python",
   "nbconvert_exporter": "python",
   "pygments_lexer": "ipython3",
   "version": "3.7.3"
  }
 },
 "nbformat": 4,
 "nbformat_minor": 2
}
