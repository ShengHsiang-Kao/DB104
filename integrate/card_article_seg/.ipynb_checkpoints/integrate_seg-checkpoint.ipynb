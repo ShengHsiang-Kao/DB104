{
 "cells": [
  {
   "cell_type": "code",
   "execution_count": 1,
   "metadata": {},
   "outputs": [],
   "source": [
    "import pandas as pd\n",
    "import json\n",
    "import re\n",
    "import pymongo\n",
    "import jieba\n",
    "import operator"
   ]
  },
  {
   "cell_type": "code",
   "execution_count": 2,
   "metadata": {},
   "outputs": [],
   "source": [
    "IP:'123.241.175.34'\n",
    "user:'root'\n",
    "password:'1qaz@WSX3edc'"
   ]
  },
  {
   "cell_type": "code",
   "execution_count": 2,
   "metadata": {},
   "outputs": [],
   "source": [
    "#連接 mongodb\n",
    "\n",
    "client = pymongo.MongoClient(host='123.241.175.34', port=27017)"
   ]
  },
  {
   "cell_type": "code",
   "execution_count": 3,
   "metadata": {},
   "outputs": [],
   "source": [
    "#mongodb帳號密碼\n",
    "\n",
    "client.admin.authenticate('root', '1qaz@WSX3edc')\n",
    "\n",
    "\n",
    "\n",
    "#設定名稱為test的資料庫 也可用 db = client['test']\n",
    "\n",
    "db = client.raw_article\n",
    "\n",
    "\n"
   ]
  },
  {
   "cell_type": "code",
   "execution_count": 4,
   "metadata": {},
   "outputs": [
    {
     "data": {
      "text/plain": [
       "['article_social', 'article_web', 'article_news']"
      ]
     },
     "execution_count": 4,
     "metadata": {},
     "output_type": "execute_result"
    }
   ],
   "source": [
    "#顯示db中所有collections\n",
    "db.list_collection_names()"
   ]
  },
  {
   "cell_type": "code",
   "execution_count": 6,
   "metadata": {},
   "outputs": [],
   "source": [
    "#drop collection\n",
    "#db.article_socialjson.drop()"
   ]
  },
  {
   "cell_type": "code",
   "execution_count": 5,
   "metadata": {},
   "outputs": [],
   "source": [
    "article_social=db.article_social.find()\n",
    "article_web=db.article_web.find()\n",
    "article_news=db.article_news.find()"
   ]
  },
  {
   "cell_type": "code",
   "execution_count": 6,
   "metadata": {},
   "outputs": [],
   "source": [
    "df_article_social=pd.DataFrame(list(article_social))\n",
    "df_article_web=pd.DataFrame(list(article_web))\n",
    "df_article_news=pd.DataFrame(list(article_news))"
   ]
  },
  {
   "cell_type": "code",
   "execution_count": 7,
   "metadata": {},
   "outputs": [
    {
     "data": {
      "text/html": [
       "<div>\n",
       "<style scoped>\n",
       "    .dataframe tbody tr th:only-of-type {\n",
       "        vertical-align: middle;\n",
       "    }\n",
       "\n",
       "    .dataframe tbody tr th {\n",
       "        vertical-align: top;\n",
       "    }\n",
       "\n",
       "    .dataframe thead th {\n",
       "        text-align: right;\n",
       "    }\n",
       "</style>\n",
       "<table border=\"1\" class=\"dataframe\">\n",
       "  <thead>\n",
       "    <tr style=\"text-align: right;\">\n",
       "      <th></th>\n",
       "      <th>_id</th>\n",
       "      <th>content</th>\n",
       "    </tr>\n",
       "  </thead>\n",
       "  <tbody>\n",
       "    <tr>\n",
       "      <th>0</th>\n",
       "      <td>5dd39ed135cc75f4e568cc8f</td>\n",
       "      <td>#公告 信用卡板板主\\n本板板主為：信用卡板小天使https://www.dcard.tw/...</td>\n",
       "    </tr>\n",
       "    <tr>\n",
       "      <th>1</th>\n",
       "      <td>5dd39ed135cc75f4e568cc90</td>\n",
       "      <td>信用卡板板規\\n宗旨：信用卡資訊分享，包含核卡心得、使用心得、剪卡心得、里程累積心得。?? ...</td>\n",
       "    </tr>\n",
       "  </tbody>\n",
       "</table>\n",
       "</div>"
      ],
      "text/plain": [
       "                        _id                                            content\n",
       "0  5dd39ed135cc75f4e568cc8f  #公告 信用卡板板主\\n本板板主為：信用卡板小天使https://www.dcard.tw/...\n",
       "1  5dd39ed135cc75f4e568cc90  信用卡板板規\\n宗旨：信用卡資訊分享，包含核卡心得、使用心得、剪卡心得、里程累積心得。?? ..."
      ]
     },
     "execution_count": 7,
     "metadata": {},
     "output_type": "execute_result"
    }
   ],
   "source": [
    "df_article_social[:2]"
   ]
  },
  {
   "cell_type": "code",
   "execution_count": 10,
   "metadata": {},
   "outputs": [
    {
     "data": {
      "text/html": [
       "<div>\n",
       "<style scoped>\n",
       "    .dataframe tbody tr th:only-of-type {\n",
       "        vertical-align: middle;\n",
       "    }\n",
       "\n",
       "    .dataframe tbody tr th {\n",
       "        vertical-align: top;\n",
       "    }\n",
       "\n",
       "    .dataframe thead th {\n",
       "        text-align: right;\n",
       "    }\n",
       "</style>\n",
       "<table border=\"1\" class=\"dataframe\">\n",
       "  <thead>\n",
       "    <tr style=\"text-align: right;\">\n",
       "      <th></th>\n",
       "      <th>_id</th>\n",
       "      <th>content</th>\n",
       "    </tr>\n",
       "  </thead>\n",
       "  <tbody>\n",
       "    <tr>\n",
       "      <th>0</th>\n",
       "      <td>5dd3987235cc75f4e568b6b4</td>\n",
       "      <td>國內刷卡回饋重洗牌　無腦刷排行榜大車拼\\n\\n\\n　　下半年信用卡市場「流血搶市」，多家銀行...</td>\n",
       "    </tr>\n",
       "  </tbody>\n",
       "</table>\n",
       "</div>"
      ],
      "text/plain": [
       "                        _id                                            content\n",
       "0  5dd3987235cc75f4e568b6b4  國內刷卡回饋重洗牌　無腦刷排行榜大車拼\\n\\n\\n　　下半年信用卡市場「流血搶市」，多家銀行..."
      ]
     },
     "execution_count": 10,
     "metadata": {},
     "output_type": "execute_result"
    }
   ],
   "source": [
    "df_article_news[:1]"
   ]
  },
  {
   "cell_type": "code",
   "execution_count": 8,
   "metadata": {},
   "outputs": [],
   "source": [
    "df_article_web[:1]\n",
    "df_article_web['seg']=None\n",
    "#df_article_web['word_freq']=None"
   ]
  },
  {
   "cell_type": "code",
   "execution_count": 9,
   "metadata": {},
   "outputs": [
    {
     "name": "stderr",
     "output_type": "stream",
     "text": [
      "Building prefix dict from the default dictionary ...\n",
      "Loading model from cache C:\\Users\\BIGDAT~1\\AppData\\Local\\Temp\\jieba.cache\n",
      "Loading model cost 0.958 seconds.\n",
      "Prefix dict has been built succesfully.\n"
     ]
    },
    {
     "data": {
      "text/html": [
       "<div>\n",
       "<style scoped>\n",
       "    .dataframe tbody tr th:only-of-type {\n",
       "        vertical-align: middle;\n",
       "    }\n",
       "\n",
       "    .dataframe tbody tr th {\n",
       "        vertical-align: top;\n",
       "    }\n",
       "\n",
       "    .dataframe thead th {\n",
       "        text-align: right;\n",
       "    }\n",
       "</style>\n",
       "<table border=\"1\" class=\"dataframe\">\n",
       "  <thead>\n",
       "    <tr style=\"text-align: right;\">\n",
       "      <th></th>\n",
       "      <th>seg</th>\n",
       "    </tr>\n",
       "  </thead>\n",
       "  <tbody>\n",
       "    <tr>\n",
       "      <th>0</th>\n",
       "      <td>[[玉山, Pi, 拍, 錢包, 信用卡, 》, 國內, 4.5%, ., 海外, 3%, ...</td>\n",
       "    </tr>\n",
       "    <tr>\n",
       "      <th>1</th>\n",
       "      <td>[[2019, 行事, 曆, 》, 連假, 出國, 旅遊, 請假, 攻略, 最高, 連休, ...</td>\n",
       "    </tr>\n",
       "    <tr>\n",
       "      <th>2</th>\n",
       "      <td>[[信用卡, 》, 2019, 海外, 刷卡, 消費, 現金回饋, 必備, 推薦, TOP,...</td>\n",
       "    </tr>\n",
       "  </tbody>\n",
       "</table>\n",
       "</div>"
      ],
      "text/plain": [
       "                                                 seg\n",
       "0  [[玉山, Pi, 拍, 錢包, 信用卡, 》, 國內, 4.5%, ., 海外, 3%, ...\n",
       "1  [[2019, 行事, 曆, 》, 連假, 出國, 旅遊, 請假, 攻略, 最高, 連休, ...\n",
       "2  [[信用卡, 》, 2019, 海外, 刷卡, 消費, 現金回饋, 必備, 推薦, TOP,..."
      ]
     },
     "execution_count": 9,
     "metadata": {},
     "output_type": "execute_result"
    }
   ],
   "source": [
    "#df_article_web\n",
    "n=len(df_article_web)\n",
    "alltext=[]\n",
    "stopset=set()\n",
    "stop2=['/n','','\\n']\n",
    "\n",
    "\n",
    "with open(r'E:/專題/credit_card/DB104_hau/stop.txt','r',encoding='utf-8') as s:\n",
    "    for line in s:\n",
    "        stopset.add(line.strip('\\n'))\n",
    "jieba.load_userdict(r'E:/專題/credit_card/DB104_hau/userdict.txt')\n",
    "for i in range(n):\n",
    "    seg=[]\n",
    "    wf={}\n",
    "    text= str(df_article_web.loc[i]['content'])\n",
    "    cut=jieba.lcut(text,cut_all=False)\n",
    "    for j in cut:\n",
    "        if j not in stopset:\n",
    "            seg.append(cut)\n",
    "    df_article_web['seg'][i]=seg\n",
    "#     for w in seg.split(' '):\n",
    "#         if w not in wf:\n",
    "#             wf[w]=1\n",
    "#         else:\n",
    "#             wf[w]+=1\n",
    "    #word_list=[wf.items() for k in wf if k not in stop2 ]\n",
    "#     word_list=sorted(wf.items(),key=lambda a :a[1],reverse=True)\n",
    "#     df_article_web['word_freq'][i]=word_list\n",
    "\n",
    "del df_article_web['_id']\n",
    "del df_article_web['content']\n",
    "df_article_web[:3]\n"
   ]
  },
  {
   "cell_type": "code",
   "execution_count": 10,
   "metadata": {},
   "outputs": [],
   "source": [
    "#article_social\n",
    "df_article_social[:1]\n",
    "df_article_social['seg']=None\n",
    "#df_article_social['word_freq']=None"
   ]
  },
  {
   "cell_type": "code",
   "execution_count": 11,
   "metadata": {},
   "outputs": [
    {
     "data": {
      "text/html": [
       "<div>\n",
       "<style scoped>\n",
       "    .dataframe tbody tr th:only-of-type {\n",
       "        vertical-align: middle;\n",
       "    }\n",
       "\n",
       "    .dataframe tbody tr th {\n",
       "        vertical-align: top;\n",
       "    }\n",
       "\n",
       "    .dataframe thead th {\n",
       "        text-align: right;\n",
       "    }\n",
       "</style>\n",
       "<table border=\"1\" class=\"dataframe\">\n",
       "  <thead>\n",
       "    <tr style=\"text-align: right;\">\n",
       "      <th></th>\n",
       "      <th>seg</th>\n",
       "    </tr>\n",
       "  </thead>\n",
       "  <tbody>\n",
       "    <tr>\n",
       "      <th>0</th>\n",
       "      <td>[[#, 公告,  , 信用卡, 板板主, \\n, 本板, 板主為, ：, 信用卡, 板, ...</td>\n",
       "    </tr>\n",
       "    <tr>\n",
       "      <th>1</th>\n",
       "      <td>[[信用卡, 板板規, \\n, 宗旨, ：, 信用卡, 資訊, 分享, ，, 包含, 核卡,...</td>\n",
       "    </tr>\n",
       "    <tr>\n",
       "      <th>2</th>\n",
       "      <td>[[#, 情報,  , 街口聯名卡, 10, /, 29, 上市, \\n, 不, 囉, 嗦,...</td>\n",
       "    </tr>\n",
       "  </tbody>\n",
       "</table>\n",
       "</div>"
      ],
      "text/plain": [
       "                                                 seg\n",
       "0  [[#, 公告,  , 信用卡, 板板主, \\n, 本板, 板主為, ：, 信用卡, 板, ...\n",
       "1  [[信用卡, 板板規, \\n, 宗旨, ：, 信用卡, 資訊, 分享, ，, 包含, 核卡,...\n",
       "2  [[#, 情報,  , 街口聯名卡, 10, /, 29, 上市, \\n, 不, 囉, 嗦,..."
      ]
     },
     "execution_count": 11,
     "metadata": {},
     "output_type": "execute_result"
    }
   ],
   "source": [
    "n=len(df_article_social)\n",
    "alltext=[]\n",
    "stopset=set()\n",
    "stop2=['/n','','\\n']\n",
    "\n",
    "\n",
    "with open(r'E:/專題/credit_card/DB104_hau/stop.txt','r',encoding='utf-8') as s:\n",
    "    for line in s:\n",
    "        stopset.add(line.strip('\\n'))\n",
    "jieba.load_userdict(r'E:/專題/credit_card/DB104_hau/userdict.txt')\n",
    "for i in range(n):\n",
    "    seg=[]\n",
    "    wf={}\n",
    "    text= str(df_article_social.loc[i]['content'])\n",
    "    cut=jieba.lcut(text,cut_all=False)\n",
    "    for j in cut:\n",
    "        if j not in stopset:\n",
    "            seg.append(cut)\n",
    "    df_article_social['seg'][i]=seg\n",
    "#     for w in seg.split(' '):\n",
    "#         if w not in wf:\n",
    "#             wf[w]=1\n",
    "#         else:\n",
    "#             wf[w]+=1\n",
    "#     #word_list=[wf.items() for k in wf if k not in stop2 ]\n",
    "#     word_list=sorted(wf.items(),key=lambda a :a[1],reverse=True)\n",
    "#     df_article_social['word_freq'][i]=word_list\n",
    "\n",
    "del df_article_social['_id']\n",
    "del df_article_social['content']\n",
    "df_article_social[:3]  "
   ]
  },
  {
   "cell_type": "code",
   "execution_count": 12,
   "metadata": {},
   "outputs": [],
   "source": [
    "#df_article_news\n",
    "df_article_news[:1]\n",
    "df_article_news['seg']=None\n",
    "#df_article_news['word_freq']=None"
   ]
  },
  {
   "cell_type": "code",
   "execution_count": 13,
   "metadata": {},
   "outputs": [
    {
     "data": {
      "text/html": [
       "<div>\n",
       "<style scoped>\n",
       "    .dataframe tbody tr th:only-of-type {\n",
       "        vertical-align: middle;\n",
       "    }\n",
       "\n",
       "    .dataframe tbody tr th {\n",
       "        vertical-align: top;\n",
       "    }\n",
       "\n",
       "    .dataframe thead th {\n",
       "        text-align: right;\n",
       "    }\n",
       "</style>\n",
       "<table border=\"1\" class=\"dataframe\">\n",
       "  <thead>\n",
       "    <tr style=\"text-align: right;\">\n",
       "      <th></th>\n",
       "      <th>seg</th>\n",
       "    </tr>\n",
       "  </thead>\n",
       "  <tbody>\n",
       "    <tr>\n",
       "      <th>0</th>\n",
       "      <td>[[國內, 刷卡, 回饋, 重, 洗牌, 　, 無腦, 刷, 排行榜, 大車, 拼, \\n,...</td>\n",
       "    </tr>\n",
       "    <tr>\n",
       "      <th>1</th>\n",
       "      <td>[[直擊雙, 11, 電商, AI, 倉儲, 　, 下, 單到, 出貨僅, 10, 分鐘, ...</td>\n",
       "    </tr>\n",
       "    <tr>\n",
       "      <th>2</th>\n",
       "      <td>[[雙, 11, 網購, 主打, 賓士車, 　, 交易, 攻略, 回饋, 16.8, 萬元,...</td>\n",
       "    </tr>\n",
       "  </tbody>\n",
       "</table>\n",
       "</div>"
      ],
      "text/plain": [
       "                                                 seg\n",
       "0  [[國內, 刷卡, 回饋, 重, 洗牌, 　, 無腦, 刷, 排行榜, 大車, 拼, \\n,...\n",
       "1  [[直擊雙, 11, 電商, AI, 倉儲, 　, 下, 單到, 出貨僅, 10, 分鐘, ...\n",
       "2  [[雙, 11, 網購, 主打, 賓士車, 　, 交易, 攻略, 回饋, 16.8, 萬元,..."
      ]
     },
     "execution_count": 13,
     "metadata": {},
     "output_type": "execute_result"
    }
   ],
   "source": [
    "n=len(df_article_news)\n",
    "alltext=[]\n",
    "stopset=set()\n",
    "stop2=['/n','','\\n']\n",
    "\n",
    "\n",
    "with open(r'E:/專題/credit_card/DB104_hau/stop.txt','r',encoding='utf-8') as s:\n",
    "    for line in s:\n",
    "        stopset.add(line.strip('\\n'))\n",
    "jieba.load_userdict(r'E:/專題/credit_card/DB104_hau/userdict.txt')\n",
    "for i in range(n):\n",
    "    seg=[]\n",
    "    wf={}\n",
    "    text= str(df_article_news.loc[i]['content'])\n",
    "    cut=jieba.lcut(text,cut_all=False)\n",
    "    for j in cut:\n",
    "        if j not in stopset:\n",
    "            seg.append(cut)\n",
    "    df_article_news['seg'][i]=seg\n",
    "#     for w in seg.split(' '):\n",
    "#         if w not in wf:\n",
    "#             wf[w]=1\n",
    "#         else:\n",
    "#             wf[w]+=1\n",
    "#     #word_list=[wf.items() for k in wf if k not in stop2 ]\n",
    "#     word_list=sorted(wf.items(),key=lambda a :a[1],reverse=True)\n",
    "#     df_article_news['word_freq'][i]=word_list\n",
    "del df_article_news['_id']\n",
    "del df_article_news['content']\n",
    "df_article_news[:3]"
   ]
  },
  {
   "cell_type": "code",
   "execution_count": 14,
   "metadata": {},
   "outputs": [],
   "source": [
    "db_ETL = client.ETL\n",
    "#collsoc = db.article_social\n",
    "collweb = db_ETL.article_web_seg\n",
    "collnews =db_ETL.article_news_seg\n",
    "collsocial = db_ETL.article_social_seg\n"
   ]
  },
  {
   "cell_type": "code",
   "execution_count": null,
   "metadata": {},
   "outputs": [],
   "source": [
    "#將dataframe轉成能存入mongodb的json格式\n",
    "\n",
    "data_social = json.loads(df_article_social.T.to_json()).values()\n",
    "data_social[:2]"
   ]
  },
  {
   "cell_type": "code",
   "execution_count": null,
   "metadata": {},
   "outputs": [],
   "source": [
    "data_news = json.loads(df_article_news.T.to_json()).values()\n"
   ]
  },
  {
   "cell_type": "code",
   "execution_count": null,
   "metadata": {},
   "outputs": [],
   "source": [
    "data_web = json.loads(df_article_web.T.to_json()).values()"
   ]
  },
  {
   "cell_type": "code",
   "execution_count": null,
   "metadata": {},
   "outputs": [],
   "source": [
    "type(data_web)"
   ]
  },
  {
   "cell_type": "code",
   "execution_count": null,
   "metadata": {},
   "outputs": [],
   "source": [
    "#將資料存入mongodb\n",
    "collsocial.insert_many(data_social)\n",
    "\n"
   ]
  },
  {
   "cell_type": "code",
   "execution_count": null,
   "metadata": {},
   "outputs": [],
   "source": [
    "collnews.insert_many(data_news)"
   ]
  },
  {
   "cell_type": "code",
   "execution_count": null,
   "metadata": {},
   "outputs": [],
   "source": [
    "collweb.insert_many(data_web)"
   ]
  },
  {
   "cell_type": "code",
   "execution_count": 6,
   "metadata": {},
   "outputs": [
    {
     "data": {
      "text/plain": [
       "[]"
      ]
     },
     "execution_count": 6,
     "metadata": {},
     "output_type": "execute_result"
    }
   ],
   "source": [
    "db_ETL.list_collection_names()"
   ]
  },
  {
   "cell_type": "code",
   "execution_count": null,
   "metadata": {},
   "outputs": [],
   "source": [
    "#export to json\n",
    "df_article_social.to_json('./article_social_seg.json',orient='index',force_ascii=False)\n",
    "df_article_news.to_json('./article_news_seg.json',orient='index',force_ascii=False)\n",
    "df_article_web.to_json('./article_web_seg.json',orient='index',force_ascii=False)"
   ]
  },
  {
   "cell_type": "code",
   "execution_count": null,
   "metadata": {},
   "outputs": [],
   "source": []
  },
  {
   "cell_type": "code",
   "execution_count": 28,
   "metadata": {},
   "outputs": [
    {
     "name": "stderr",
     "output_type": "stream",
     "text": [
      "C:\\ProgramData\\Anaconda3\\lib\\site-packages\\ipykernel_launcher.py:1: DeprecationWarning: database_names is deprecated. Use list_database_names instead.\n",
      "  \"\"\"Entry point for launching an IPython kernel.\n"
     ]
    },
    {
     "data": {
      "text/plain": [
       "['ETL', 'admin', 'config', 'local', 'raw_article', 'test']"
      ]
     },
     "execution_count": 28,
     "metadata": {},
     "output_type": "execute_result"
    }
   ],
   "source": [
    "client.database_names()"
   ]
  },
  {
   "cell_type": "code",
   "execution_count": 5,
   "metadata": {},
   "outputs": [],
   "source": [
    "db_ETL=client.ETL"
   ]
  },
  {
   "cell_type": "code",
   "execution_count": 7,
   "metadata": {},
   "outputs": [],
   "source": [
    "#db_ETL.article_news_seg.drop()\n",
    "#db_ETL.article_web_seg.drop()\n",
    "#db_ETL.article_social_seg.drop()\n",
    "#drop collection\n",
    "#db.article_socialjson.drop()"
   ]
  },
  {
   "cell_type": "code",
   "execution_count": null,
   "metadata": {},
   "outputs": [],
   "source": [
    "db_ETL"
   ]
  }
 ],
 "metadata": {
  "kernelspec": {
   "display_name": "Python 3",
   "language": "python",
   "name": "python3"
  },
  "language_info": {
   "codemirror_mode": {
    "name": "ipython",
    "version": 3
   },
   "file_extension": ".py",
   "mimetype": "text/x-python",
   "name": "python",
   "nbconvert_exporter": "python",
   "pygments_lexer": "ipython3",
   "version": "3.7.3"
  }
 },
 "nbformat": 4,
 "nbformat_minor": 2
}
